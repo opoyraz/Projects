{
 "cells": [
  {
   "cell_type": "code",
   "execution_count": 1,
   "metadata": {},
   "outputs": [],
   "source": [
    "import pandas as pd\n",
    "import numpy as np\n",
    "import matplotlib.pyplot as plt\n",
    "%matplotlib inline\n",
    "import seaborn as sns\n",
    "sns.set(style=\"darkgrid\")\n",
    "\n",
    "import os\n",
    "import warnings\n",
    "warnings.filterwarnings(\"ignore\")\n",
    "\n",
    "# setting params\n",
    "params = {'legend.fontsize': 'large',\n",
    "          'figure.figsize': (14, 10),\n",
    "          'axes.labelsize': 'large',\n",
    "          'axes.titlesize':'large',\n",
    "          'xtick.labelsize':'large',\n",
    "          'ytick.labelsize':'large'}\n",
    "\n",
    "\n",
    "sns.set_context('talk')\n",
    "\n",
    "plt.rcParams.update(params)\n",
    "pd.options.display.max_colwidth = 600 #(long description)\n",
    "pd.set_option('display.max_columns', 500)\n",
    "\n",
    "\n",
    "np.set_printoptions(suppress=True)\n",
    "pt = np.get_printoptions()['threshold']\n",
    "#np.set_printoptions(precision=3)\n",
    "\n",
    "\n",
    "pd.set_option('display.max_rows', 500)\n",
    "\n",
    "pd.set_option('display.width', 1000)\n",
    "    \n"
   ]
  },
  {
   "cell_type": "code",
   "execution_count": 2,
   "metadata": {},
   "outputs": [],
   "source": [
    "veris_main=pd.read_excel('MAIN-VERIS_imputation.xlsx')"
   ]
  },
  {
   "cell_type": "code",
   "execution_count": 3,
   "metadata": {},
   "outputs": [
    {
     "name": "stdout",
     "output_type": "stream",
     "text": [
      "<class 'pandas.core.frame.DataFrame'>\n",
      "RangeIndex: 8587 entries, 0 to 8586\n",
      "Data columns (total 91 columns):\n",
      " #   Column                                    Non-Null Count  Dtype  \n",
      "---  ------                                    --------------  -----  \n",
      " 0   incident_id                               8587 non-null   object \n",
      " 1   victim                                    8252 non-null   object \n",
      " 2   v_country                                 8502 non-null   object \n",
      " 3   v_state                                   5857 non-null   object \n",
      " 4   industry_code                             8587 non-null   object \n",
      " 5   upper_industry                            8449 non-null   object \n",
      " 6   employee_count                            5863 non-null   object \n",
      " 7   revenue_currency                          515 non-null    object \n",
      " 8   revenue                                   505 non-null    float64\n",
      " 9   incident_date                             8587 non-null   object \n",
      " 10  notification_date                         8585 non-null   object \n",
      " 11  incident_year                             8587 non-null   int64  \n",
      " 12  notification_year                         6071 non-null   float64\n",
      " 13  attribute                                 8587 non-null   object \n",
      " 14  compromise_variety_all                    8550 non-null   object \n",
      " 15  compromise_variety_1                      8548 non-null   object \n",
      " 16  compromise_variety_2                      449 non-null    object \n",
      " 17  compromise_variety_3                      48 non-null     object \n",
      " 18  compromise_variety_4                      16 non-null     object \n",
      " 19  compromise_variety_5                      3 non-null      object \n",
      " 20  confidentiality_victim                    5653 non-null   object \n",
      " 21  confidentiality_state                     5989 non-null   object \n",
      " 22  PII_binary                                84 non-null     float64\n",
      " 23  SPII_binary                               82 non-null     float64\n",
      " 24  state_secret                              48 non-null     float64\n",
      " 25  trade_secret                              52 non-null     float64\n",
      " 26  data_in_DarkWeb                           36 non-null     object \n",
      " 27  data_variety                              8584 non-null   object \n",
      " 28  confidence                                1960 non-null   object \n",
      " 29  data_disclosure                           8330 non-null   object \n",
      " 30  action                                    8560 non-null   object \n",
      " 31  action_variety                            7866 non-null   object \n",
      " 32  action_malware_variety_0                  744 non-null    object \n",
      " 33  action_malware_vector_0                   744 non-null    object \n",
      " 34  action_social_target_0                    596 non-null    object \n",
      " 35  action.hacking.cve                        105 non-null    object \n",
      " 36  action.malware.cve                        164 non-null    object \n",
      " 37  action.malware.name                       208 non-null    object \n",
      " 38  action_vector                             7702 non-null   object \n",
      " 39  discoveried_by                            8587 non-null   object \n",
      " 40  discovery_variety                         7170 non-null   object \n",
      " 41  actor                                     8587 non-null   object \n",
      " 42  actor_internal_motive_0                   1833 non-null   object \n",
      " 43  actor_internal_variety_0                  3902 non-null   object \n",
      " 44  actor_internal_job_change_0               321 non-null    object \n",
      " 45  actor_partner_country_0                   371 non-null    object \n",
      " 46  actor_partner_notes                       159 non-null    object \n",
      " 47  actor_external_variety                    363 non-null    object \n",
      " 48  actor.external.notes                      644 non-null    object \n",
      " 49  actor_name                                172 non-null    object \n",
      " 50  motive                                    8373 non-null   object \n",
      " 51  actor_country                             4860 non-null   object \n",
      " 52  actor_variety                             7795 non-null   object \n",
      " 53  State_NonState                            3531 non-null   object \n",
      " 54  data_abuse                                1913 non-null   object \n",
      " 55  credit_monitoring                         3146 non-null   object \n",
      " 56  credit_monitoring_yr                      280 non-null    float64\n",
      " 57  asset_group                               8316 non-null   object \n",
      " 58  asset_variety_1                           7696 non-null   object \n",
      " 59  asset_group_2                             1971 non-null   object \n",
      " 60  asset_variety_2                           1954 non-null   object \n",
      " 61  asset_cloud                               8539 non-null   object \n",
      " 62  asset.management                          325 non-null    object \n",
      " 63  plus_asset_total                          1045 non-null   object \n",
      " 64  confidentiality_data_total                4835 non-null   object \n",
      " 65  targeted                                  941 non-null    object \n",
      " 66  asset_country                             374 non-null    object \n",
      " 67  secondary_victim                          258 non-null    object \n",
      " 68  victim_locations_affected                 1424 non-null   float64\n",
      " 69  asset.total_amount                        590 non-null    float64\n",
      " 70  attack_difficulty_subsequent              113 non-null    object \n",
      " 71  attack_difficulty_initial                 174 non-null    object \n",
      " 72  attack_difficulty_legacy                  53 non-null     object \n",
      " 73  availability_attack_duration_impact_days  184 non-null    object \n",
      " 74  attribute_availability_duration_value     122 non-null    float64\n",
      " 75  t_availability_duration_unit              3305 non-null   object \n",
      " 76  timeline_discovery_value                  1269 non-null   float64\n",
      " 77  t_discovery_unit                          2313 non-null   object \n",
      " 78  t_containment_value                       240 non-null    float64\n",
      " 79  t_containment.unit                        779 non-null    object \n",
      " 80  t_exfiltration.unit                       616 non-null    object \n",
      " 81  t_exfiltration_value                      19 non-null     float64\n",
      " 82  t_compromise_unit                         863 non-null    object \n",
      " 83  t_compromise_value                        22 non-null     float64\n",
      " 84  currency_code                             233 non-null    object \n",
      " 85  total_monetary_impact                     8586 non-null   object \n",
      " 86  availability_notes                        121 non-null    object \n",
      " 87  attribute_confidentiality_notes           761 non-null    object \n",
      " 88  impact_notes                              140 non-null    object \n",
      " 89  short_notes                               1035 non-null   object \n",
      " 90  summary                                   8074 non-null   object \n",
      "dtypes: float64(14), int64(1), object(76)\n",
      "memory usage: 6.0+ MB\n"
     ]
    }
   ],
   "source": [
    "veris_main.info()"
   ]
  },
  {
   "cell_type": "code",
   "execution_count": 4,
   "metadata": {},
   "outputs": [
    {
     "data": {
      "text/plain": [
       "Index(['incident_id', 'victim', 'v_country', 'v_state', 'industry_code', 'upper_industry', 'employee_count', 'revenue_currency', 'revenue', 'incident_date', 'notification_date', 'incident_year', 'notification_year', 'attribute', 'compromise_variety_all', 'compromise_variety_1', 'compromise_variety_2', 'compromise_variety_3', 'compromise_variety_4', 'compromise_variety_5', 'confidentiality_victim', 'confidentiality_state', 'PII_binary', 'SPII_binary', 'state_secret', 'trade_secret', 'data_in_DarkWeb', 'data_variety', 'confidence', 'data_disclosure', 'action', 'action_variety', 'action_malware_variety_0', 'action_malware_vector_0', 'action_social_target_0', 'action.hacking.cve', 'action.malware.cve', 'action.malware.name', 'action_vector', 'discoveried_by', 'discovery_variety', 'actor', 'actor_internal_motive_0', 'actor_internal_variety_0', 'actor_internal_job_change_0', 'actor_partner_country_0', 'actor_partner_notes', 'actor_external_variety', 'actor.external.notes', 'actor_name',\n",
       "       'motive', 'actor_country', 'actor_variety', 'State_NonState', 'data_abuse', 'credit_monitoring', 'credit_monitoring_yr', 'asset_group', 'asset_variety_1', 'asset_group_2', 'asset_variety_2', 'asset_cloud', 'asset.management', 'plus_asset_total', 'confidentiality_data_total', 'targeted', 'asset_country', 'secondary_victim', 'victim_locations_affected', 'asset.total_amount', 'attack_difficulty_subsequent', 'attack_difficulty_initial', 'attack_difficulty_legacy', 'availability_attack_duration_impact_days', 'attribute_availability_duration_value', 't_availability_duration_unit', 'timeline_discovery_value', 't_discovery_unit', 't_containment_value', 't_containment.unit', 't_exfiltration.unit', 't_exfiltration_value', 't_compromise_unit', 't_compromise_value', 'currency_code', 'total_monetary_impact', 'availability_notes', 'attribute_confidentiality_notes', 'impact_notes', 'short_notes', 'summary'],\n",
       "      dtype='object')"
      ]
     },
     "execution_count": 4,
     "metadata": {},
     "output_type": "execute_result"
    }
   ],
   "source": [
    "veris_main.columns"
   ]
  },
  {
   "cell_type": "code",
   "execution_count": 6,
   "metadata": {},
   "outputs": [],
   "source": [
    "state_clean=veris_main[['incident_id', 'victim', 'v_country', 'v_state', 'industry_code', 'upper_industry', 'employee_count',\n",
    "                              'incident_date', 'notification_date', 'incident_year', 'notification_year', 'attribute',\n",
    "                             'compromise_variety_1','confidentiality_victim', 'confidentiality_state', 'PII_binary', 'SPII_binary', \n",
    "                               'state_secret', 'trade_secret', 'data_in_DarkWeb', 'data_variety', 'confidence', 'data_disclosure', 'action',\n",
    "                               'action_variety', 'action_vector', 'discoveried_by', 'discovery_variety', 'actor',\n",
    "                             'actor_internal_job_change_0','actor', 'motive', 'actor_country', 'actor_variety', \n",
    "                                'data_abuse',\n",
    "                              'credit_monitoring', 'credit_monitoring_yr', 'asset_group', 'asset_variety_1',\n",
    "                              't_availability_duration_unit','t_discovery_unit','t_containment.unit', 't_exfiltration.unit', \n",
    "                               't_compromise_unit','confidentiality_data_total', 'State_NonState','summary']]"
   ]
  },
  {
   "cell_type": "code",
   "execution_count": 7,
   "metadata": {},
   "outputs": [
    {
     "name": "stdout",
     "output_type": "stream",
     "text": [
      "<class 'pandas.core.frame.DataFrame'>\n",
      "RangeIndex: 8587 entries, 0 to 8586\n",
      "Data columns (total 47 columns):\n",
      " #   Column                        Non-Null Count  Dtype  \n",
      "---  ------                        --------------  -----  \n",
      " 0   incident_id                   8587 non-null   object \n",
      " 1   victim                        8252 non-null   object \n",
      " 2   v_country                     8502 non-null   object \n",
      " 3   v_state                       5857 non-null   object \n",
      " 4   industry_code                 8587 non-null   object \n",
      " 5   upper_industry                8449 non-null   object \n",
      " 6   employee_count                5863 non-null   object \n",
      " 7   incident_date                 8587 non-null   object \n",
      " 8   notification_date             8585 non-null   object \n",
      " 9   incident_year                 8587 non-null   int64  \n",
      " 10  notification_year             6071 non-null   float64\n",
      " 11  attribute                     8587 non-null   object \n",
      " 12  compromise_variety_1          8548 non-null   object \n",
      " 13  confidentiality_victim        5653 non-null   object \n",
      " 14  confidentiality_state         5989 non-null   object \n",
      " 15  PII_binary                    84 non-null     float64\n",
      " 16  SPII_binary                   82 non-null     float64\n",
      " 17  state_secret                  48 non-null     float64\n",
      " 18  trade_secret                  52 non-null     float64\n",
      " 19  data_in_DarkWeb               36 non-null     object \n",
      " 20  data_variety                  8584 non-null   object \n",
      " 21  confidence                    1960 non-null   object \n",
      " 22  data_disclosure               8330 non-null   object \n",
      " 23  action                        8560 non-null   object \n",
      " 24  action_variety                7866 non-null   object \n",
      " 25  action_vector                 7702 non-null   object \n",
      " 26  discoveried_by                8587 non-null   object \n",
      " 27  discovery_variety             7170 non-null   object \n",
      " 28  actor                         8587 non-null   object \n",
      " 29  actor_internal_job_change_0   321 non-null    object \n",
      " 30  actor                         8587 non-null   object \n",
      " 31  motive                        8373 non-null   object \n",
      " 32  actor_country                 4860 non-null   object \n",
      " 33  actor_variety                 7795 non-null   object \n",
      " 34  data_abuse                    1913 non-null   object \n",
      " 35  credit_monitoring             3146 non-null   object \n",
      " 36  credit_monitoring_yr          280 non-null    float64\n",
      " 37  asset_group                   8316 non-null   object \n",
      " 38  asset_variety_1               7696 non-null   object \n",
      " 39  t_availability_duration_unit  3305 non-null   object \n",
      " 40  t_discovery_unit              2313 non-null   object \n",
      " 41  t_containment.unit            779 non-null    object \n",
      " 42  t_exfiltration.unit           616 non-null    object \n",
      " 43  t_compromise_unit             863 non-null    object \n",
      " 44  confidentiality_data_total    4835 non-null   object \n",
      " 45  State_NonState                3531 non-null   object \n",
      " 46  summary                       8074 non-null   object \n",
      "dtypes: float64(6), int64(1), object(40)\n",
      "memory usage: 3.1+ MB\n"
     ]
    }
   ],
   "source": [
    "state_clean.info()"
   ]
  },
  {
   "cell_type": "code",
   "execution_count": 8,
   "metadata": {},
   "outputs": [
    {
     "data": {
      "text/plain": [
       "incident_id                     8587\n",
       "victim                          8252\n",
       "v_country                       8502\n",
       "v_state                         5857\n",
       "industry_code                   8587\n",
       "upper_industry                  8449\n",
       "employee_count                  5863\n",
       "incident_date                   8587\n",
       "notification_date               8585\n",
       "incident_year                   8587\n",
       "notification_year               6071\n",
       "attribute                       8587\n",
       "compromise_variety_1            8548\n",
       "confidentiality_victim          5653\n",
       "confidentiality_state           5989\n",
       "PII_binary                        84\n",
       "SPII_binary                       82\n",
       "state_secret                      48\n",
       "trade_secret                      52\n",
       "data_in_DarkWeb                   36\n",
       "data_variety                    8584\n",
       "confidence                      1960\n",
       "data_disclosure                 8330\n",
       "action                          8560\n",
       "action_variety                  7866\n",
       "action_vector                   7702\n",
       "discoveried_by                  8587\n",
       "discovery_variety               7170\n",
       "actor                           8587\n",
       "actor_internal_job_change_0      321\n",
       "actor                           8587\n",
       "motive                          8373\n",
       "actor_country                   4860\n",
       "actor_variety                   7795\n",
       "data_abuse                      1913\n",
       "credit_monitoring               3146\n",
       "credit_monitoring_yr             280\n",
       "asset_group                     8316\n",
       "asset_variety_1                 7696\n",
       "t_availability_duration_unit    3305\n",
       "t_discovery_unit                2313\n",
       "t_containment.unit               779\n",
       "t_exfiltration.unit              616\n",
       "t_compromise_unit                863\n",
       "confidentiality_data_total      4835\n",
       "State_NonState                  3531\n",
       "summary                         8074\n",
       "dtype: int64"
      ]
     },
     "execution_count": 8,
     "metadata": {},
     "output_type": "execute_result"
    }
   ],
   "source": [
    "state_clean.notnull().sum()"
   ]
  },
  {
   "cell_type": "code",
   "execution_count": 9,
   "metadata": {},
   "outputs": [],
   "source": [
    "state_clean=state_clean.loc[state_clean['State_NonState'].notnull()]"
   ]
  },
  {
   "cell_type": "code",
   "execution_count": 10,
   "metadata": {},
   "outputs": [
    {
     "name": "stdout",
     "output_type": "stream",
     "text": [
      "<class 'pandas.core.frame.DataFrame'>\n",
      "Int64Index: 3531 entries, 0 to 8584\n",
      "Data columns (total 47 columns):\n",
      " #   Column                        Non-Null Count  Dtype  \n",
      "---  ------                        --------------  -----  \n",
      " 0   incident_id                   3531 non-null   object \n",
      " 1   victim                        3248 non-null   object \n",
      " 2   v_country                     3448 non-null   object \n",
      " 3   v_state                       1961 non-null   object \n",
      " 4   industry_code                 3531 non-null   object \n",
      " 5   upper_industry                3449 non-null   object \n",
      " 6   employee_count                2278 non-null   object \n",
      " 7   incident_date                 3531 non-null   object \n",
      " 8   notification_date             3531 non-null   object \n",
      " 9   incident_year                 3531 non-null   int64  \n",
      " 10  notification_year             2678 non-null   float64\n",
      " 11  attribute                     3531 non-null   object \n",
      " 12  compromise_variety_1          3511 non-null   object \n",
      " 13  confidentiality_victim        2509 non-null   object \n",
      " 14  confidentiality_state         2684 non-null   object \n",
      " 15  PII_binary                    57 non-null     float64\n",
      " 16  SPII_binary                   56 non-null     float64\n",
      " 17  state_secret                  37 non-null     float64\n",
      " 18  trade_secret                  42 non-null     float64\n",
      " 19  data_in_DarkWeb               27 non-null     object \n",
      " 20  data_variety                  3528 non-null   object \n",
      " 21  confidence                    1465 non-null   object \n",
      " 22  data_disclosure               3459 non-null   object \n",
      " 23  action                        3504 non-null   object \n",
      " 24  action_variety                2810 non-null   object \n",
      " 25  action_vector                 2646 non-null   object \n",
      " 26  discoveried_by                3531 non-null   object \n",
      " 27  discovery_variety             2114 non-null   object \n",
      " 28  actor                         3531 non-null   object \n",
      " 29  actor_internal_job_change_0   126 non-null    object \n",
      " 30  actor                         3531 non-null   object \n",
      " 31  motive                        3531 non-null   object \n",
      " 32  actor_country                 2134 non-null   object \n",
      " 33  actor_variety                 3531 non-null   object \n",
      " 34  data_abuse                    963 non-null    object \n",
      " 35  credit_monitoring             203 non-null    object \n",
      " 36  credit_monitoring_yr          76 non-null     float64\n",
      " 37  asset_group                   3260 non-null   object \n",
      " 38  asset_variety_1               3006 non-null   object \n",
      " 39  t_availability_duration_unit  3190 non-null   object \n",
      " 40  t_discovery_unit              942 non-null    object \n",
      " 41  t_containment.unit            444 non-null    object \n",
      " 42  t_exfiltration.unit           459 non-null    object \n",
      " 43  t_compromise_unit             596 non-null    object \n",
      " 44  confidentiality_data_total    1500 non-null   object \n",
      " 45  State_NonState                3531 non-null   object \n",
      " 46  summary                       3515 non-null   object \n",
      "dtypes: float64(6), int64(1), object(40)\n",
      "memory usage: 1.3+ MB\n"
     ]
    }
   ],
   "source": [
    "state_clean.info()"
   ]
  },
  {
   "cell_type": "code",
   "execution_count": 11,
   "metadata": {},
   "outputs": [],
   "source": [
    "state_clean=state_clean.drop(columns=[ 'state_secret', 'trade_secret', 'data_in_DarkWeb',\n",
    "                                     'actor','industry_code'])"
   ]
  },
  {
   "cell_type": "code",
   "execution_count": 12,
   "metadata": {},
   "outputs": [],
   "source": [
    "state_lower=state_clean.applymap(lambda s:s.lower() if type(s) == str else s)\n"
   ]
  },
  {
   "cell_type": "code",
   "execution_count": 13,
   "metadata": {},
   "outputs": [
    {
     "name": "stdout",
     "output_type": "stream",
     "text": [
      "<class 'pandas.core.frame.DataFrame'>\n",
      "Int64Index: 3531 entries, 0 to 8584\n",
      "Data columns (total 41 columns):\n",
      " #   Column                        Non-Null Count  Dtype  \n",
      "---  ------                        --------------  -----  \n",
      " 0   incident_id                   3531 non-null   object \n",
      " 1   victim                        3248 non-null   object \n",
      " 2   v_country                     3448 non-null   object \n",
      " 3   v_state                       1961 non-null   object \n",
      " 4   upper_industry                3449 non-null   object \n",
      " 5   employee_count                2278 non-null   object \n",
      " 6   incident_date                 3531 non-null   object \n",
      " 7   notification_date             3531 non-null   object \n",
      " 8   incident_year                 3531 non-null   int64  \n",
      " 9   notification_year             2678 non-null   float64\n",
      " 10  attribute                     3531 non-null   object \n",
      " 11  compromise_variety_1          3511 non-null   object \n",
      " 12  confidentiality_victim        2509 non-null   object \n",
      " 13  confidentiality_state         2684 non-null   object \n",
      " 14  PII_binary                    57 non-null     float64\n",
      " 15  SPII_binary                   56 non-null     float64\n",
      " 16  data_variety                  3528 non-null   object \n",
      " 17  confidence                    1465 non-null   object \n",
      " 18  data_disclosure               3459 non-null   object \n",
      " 19  action                        3504 non-null   object \n",
      " 20  action_variety                2810 non-null   object \n",
      " 21  action_vector                 2646 non-null   object \n",
      " 22  discoveried_by                3531 non-null   object \n",
      " 23  discovery_variety             2114 non-null   object \n",
      " 24  actor_internal_job_change_0   126 non-null    object \n",
      " 25  motive                        3531 non-null   object \n",
      " 26  actor_country                 2134 non-null   object \n",
      " 27  actor_variety                 3531 non-null   object \n",
      " 28  data_abuse                    963 non-null    object \n",
      " 29  credit_monitoring             203 non-null    object \n",
      " 30  credit_monitoring_yr          76 non-null     float64\n",
      " 31  asset_group                   3260 non-null   object \n",
      " 32  asset_variety_1               3006 non-null   object \n",
      " 33  t_availability_duration_unit  3190 non-null   object \n",
      " 34  t_discovery_unit              942 non-null    object \n",
      " 35  t_containment.unit            444 non-null    object \n",
      " 36  t_exfiltration.unit           459 non-null    object \n",
      " 37  t_compromise_unit             596 non-null    object \n",
      " 38  confidentiality_data_total    1500 non-null   object \n",
      " 39  State_NonState                3531 non-null   object \n",
      " 40  summary                       3515 non-null   object \n",
      "dtypes: float64(4), int64(1), object(36)\n",
      "memory usage: 1.1+ MB\n"
     ]
    }
   ],
   "source": [
    "state_lower.info()"
   ]
  },
  {
   "cell_type": "code",
   "execution_count": 14,
   "metadata": {},
   "outputs": [
    {
     "data": {
      "text/plain": [
       "high      688\n",
       "0         472\n",
       "medium    239\n",
       "low        66\n",
       "Name: confidence, dtype: int64"
      ]
     },
     "execution_count": 14,
     "metadata": {},
     "output_type": "execute_result"
    }
   ],
   "source": [
    "state_lower.confidence.value_counts()"
   ]
  },
  {
   "cell_type": "code",
   "execution_count": 15,
   "metadata": {},
   "outputs": [],
   "source": [
    "state_lower.drop(columns=['incident_date','notification_date'], inplace=True)"
   ]
  },
  {
   "cell_type": "code",
   "execution_count": 16,
   "metadata": {},
   "outputs": [],
   "source": [
    "state_lower[['v_country','v_state']]= state_lower[['v_country','v_state']].applymap(lambda s:s.upper())"
   ]
  },
  {
   "cell_type": "code",
   "execution_count": 17,
   "metadata": {},
   "outputs": [],
   "source": [
    "state_lower.to_excel('state_clean_0.xlsx', index=False)"
   ]
  },
  {
   "cell_type": "code",
   "execution_count": null,
   "metadata": {},
   "outputs": [],
   "source": []
  },
  {
   "cell_type": "code",
   "execution_count": null,
   "metadata": {},
   "outputs": [],
   "source": []
  }
 ],
 "metadata": {
  "kernelspec": {
   "display_name": "Python 3",
   "language": "python",
   "name": "python3"
  },
  "language_info": {
   "codemirror_mode": {
    "name": "ipython",
    "version": 3
   },
   "file_extension": ".py",
   "mimetype": "text/x-python",
   "name": "python",
   "nbconvert_exporter": "python",
   "pygments_lexer": "ipython3",
   "version": "3.8.3"
  }
 },
 "nbformat": 4,
 "nbformat_minor": 4
}

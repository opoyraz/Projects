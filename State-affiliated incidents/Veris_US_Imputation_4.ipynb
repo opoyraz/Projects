{
 "cells": [
  {
   "cell_type": "code",
   "execution_count": 1,
   "metadata": {},
   "outputs": [],
   "source": [
    "import pandas as pd\n",
    "import numpy as np\n",
    "import matplotlib.pyplot as plt\n",
    "%matplotlib inline\n",
    "\n",
    "import seaborn as sns\n",
    "\n",
    "sns.set(style=\"darkgrid\")\n",
    "\n",
    "import os\n",
    "import warnings\n",
    "warnings.filterwarnings(\"ignore\")"
   ]
  },
  {
   "cell_type": "code",
   "execution_count": 2,
   "metadata": {},
   "outputs": [],
   "source": [
    "df=pd.read_csv('veris_premodel.csv')"
   ]
  },
  {
   "cell_type": "code",
   "execution_count": 3,
   "metadata": {},
   "outputs": [
    {
     "data": {
      "text/html": [
       "<div>\n",
       "<style scoped>\n",
       "    .dataframe tbody tr th:only-of-type {\n",
       "        vertical-align: middle;\n",
       "    }\n",
       "\n",
       "    .dataframe tbody tr th {\n",
       "        vertical-align: top;\n",
       "    }\n",
       "\n",
       "    .dataframe thead th {\n",
       "        text-align: right;\n",
       "    }\n",
       "</style>\n",
       "<table border=\"1\" class=\"dataframe\">\n",
       "  <thead>\n",
       "    <tr style=\"text-align: right;\">\n",
       "      <th></th>\n",
       "      <th>state</th>\n",
       "      <th>industry</th>\n",
       "      <th>n_employees</th>\n",
       "      <th>incident_year</th>\n",
       "      <th>attribute</th>\n",
       "      <th>compromise</th>\n",
       "      <th>confidence</th>\n",
       "      <th>data_disclosure</th>\n",
       "      <th>action</th>\n",
       "      <th>action_variety</th>\n",
       "      <th>action_vector</th>\n",
       "      <th>discovery_variety</th>\n",
       "      <th>asset_group</th>\n",
       "      <th>asset_variety</th>\n",
       "      <th>availability_duration</th>\n",
       "      <th>discovery</th>\n",
       "      <th>containment</th>\n",
       "      <th>exfiltration</th>\n",
       "      <th>time_compromise</th>\n",
       "      <th>actor</th>\n",
       "    </tr>\n",
       "  </thead>\n",
       "  <tbody>\n",
       "    <tr>\n",
       "      <th>0</th>\n",
       "      <td>GA</td>\n",
       "      <td>education</td>\n",
       "      <td>4.0</td>\n",
       "      <td>2017</td>\n",
       "      <td>confidentiality</td>\n",
       "      <td>alter behavior</td>\n",
       "      <td>3.0</td>\n",
       "      <td>yes</td>\n",
       "      <td>social</td>\n",
       "      <td>phishing</td>\n",
       "      <td>email</td>\n",
       "      <td>law enforcement</td>\n",
       "      <td>server</td>\n",
       "      <td>mail</td>\n",
       "      <td>0.0</td>\n",
       "      <td>6.0</td>\n",
       "      <td>NaN</td>\n",
       "      <td>NaN</td>\n",
       "      <td>NaN</td>\n",
       "      <td>0</td>\n",
       "    </tr>\n",
       "    <tr>\n",
       "      <th>1</th>\n",
       "      <td>PA</td>\n",
       "      <td>healthcare</td>\n",
       "      <td>NaN</td>\n",
       "      <td>2018</td>\n",
       "      <td>confidentiality</td>\n",
       "      <td>data loss</td>\n",
       "      <td>1.0</td>\n",
       "      <td>yes</td>\n",
       "      <td>misuse</td>\n",
       "      <td>knowledge abuse</td>\n",
       "      <td>physical access</td>\n",
       "      <td>NaN</td>\n",
       "      <td>server</td>\n",
       "      <td>database</td>\n",
       "      <td>0.0</td>\n",
       "      <td>4.0</td>\n",
       "      <td>NaN</td>\n",
       "      <td>0.0</td>\n",
       "      <td>2.0</td>\n",
       "      <td>0</td>\n",
       "    </tr>\n",
       "    <tr>\n",
       "      <th>2</th>\n",
       "      <td>NE</td>\n",
       "      <td>finance and insurance</td>\n",
       "      <td>6.0</td>\n",
       "      <td>2017</td>\n",
       "      <td>confidentiality</td>\n",
       "      <td>data loss</td>\n",
       "      <td>2.0</td>\n",
       "      <td>yes</td>\n",
       "      <td>physical</td>\n",
       "      <td>skimmer</td>\n",
       "      <td>victim public area</td>\n",
       "      <td>customer</td>\n",
       "      <td>terminal</td>\n",
       "      <td>atm</td>\n",
       "      <td>0.0</td>\n",
       "      <td>NaN</td>\n",
       "      <td>NaN</td>\n",
       "      <td>NaN</td>\n",
       "      <td>NaN</td>\n",
       "      <td>0</td>\n",
       "    </tr>\n",
       "    <tr>\n",
       "      <th>3</th>\n",
       "      <td>OH</td>\n",
       "      <td>government</td>\n",
       "      <td>3.0</td>\n",
       "      <td>2015</td>\n",
       "      <td>confidentiality</td>\n",
       "      <td>data loss</td>\n",
       "      <td>NaN</td>\n",
       "      <td>yes</td>\n",
       "      <td>error</td>\n",
       "      <td>omission</td>\n",
       "      <td>NaN</td>\n",
       "      <td>customer</td>\n",
       "      <td>media</td>\n",
       "      <td>disk media</td>\n",
       "      <td>0.0</td>\n",
       "      <td>NaN</td>\n",
       "      <td>NaN</td>\n",
       "      <td>NaN</td>\n",
       "      <td>NaN</td>\n",
       "      <td>0</td>\n",
       "    </tr>\n",
       "    <tr>\n",
       "      <th>4</th>\n",
       "      <td>NaN</td>\n",
       "      <td>retail trade</td>\n",
       "      <td>1.0</td>\n",
       "      <td>2017</td>\n",
       "      <td>integrity</td>\n",
       "      <td>hardware tampering</td>\n",
       "      <td>3.0</td>\n",
       "      <td>yes</td>\n",
       "      <td>physical</td>\n",
       "      <td>skimmer</td>\n",
       "      <td>victim public area</td>\n",
       "      <td>customer</td>\n",
       "      <td>terminal</td>\n",
       "      <td>gas terminal</td>\n",
       "      <td>0.0</td>\n",
       "      <td>2.0</td>\n",
       "      <td>NaN</td>\n",
       "      <td>NaN</td>\n",
       "      <td>2.0</td>\n",
       "      <td>0</td>\n",
       "    </tr>\n",
       "  </tbody>\n",
       "</table>\n",
       "</div>"
      ],
      "text/plain": [
       "  state               industry  n_employees  incident_year        attribute  \\\n",
       "0    GA              education          4.0           2017  confidentiality   \n",
       "1    PA             healthcare          NaN           2018  confidentiality   \n",
       "2    NE  finance and insurance          6.0           2017  confidentiality   \n",
       "3    OH             government          3.0           2015  confidentiality   \n",
       "4   NaN           retail trade          1.0           2017        integrity   \n",
       "\n",
       "           compromise  confidence data_disclosure    action   action_variety  \\\n",
       "0      alter behavior         3.0             yes    social         phishing   \n",
       "1           data loss         1.0             yes    misuse  knowledge abuse   \n",
       "2           data loss         2.0             yes  physical          skimmer   \n",
       "3           data loss         NaN             yes     error         omission   \n",
       "4  hardware tampering         3.0             yes  physical          skimmer   \n",
       "\n",
       "        action_vector discovery_variety asset_group  asset_variety  \\\n",
       "0               email   law enforcement     server            mail   \n",
       "1     physical access               NaN     server        database   \n",
       "2  victim public area          customer    terminal            atm   \n",
       "3                 NaN          customer       media     disk media   \n",
       "4  victim public area          customer    terminal   gas terminal   \n",
       "\n",
       "   availability_duration  discovery  containment  exfiltration  \\\n",
       "0                    0.0        6.0          NaN           NaN   \n",
       "1                    0.0        4.0          NaN           0.0   \n",
       "2                    0.0        NaN          NaN           NaN   \n",
       "3                    0.0        NaN          NaN           NaN   \n",
       "4                    0.0        2.0          NaN           NaN   \n",
       "\n",
       "   time_compromise  actor  \n",
       "0              NaN      0  \n",
       "1              2.0      0  \n",
       "2              NaN      0  \n",
       "3              NaN      0  \n",
       "4              2.0      0  "
      ]
     },
     "execution_count": 3,
     "metadata": {},
     "output_type": "execute_result"
    }
   ],
   "source": [
    "df.head()"
   ]
  },
  {
   "cell_type": "code",
   "execution_count": 4,
   "metadata": {},
   "outputs": [
    {
     "name": "stdout",
     "output_type": "stream",
     "text": [
      "<class 'pandas.core.frame.DataFrame'>\n",
      "RangeIndex: 1806 entries, 0 to 1805\n",
      "Data columns (total 20 columns):\n",
      " #   Column                 Non-Null Count  Dtype  \n",
      "---  ------                 --------------  -----  \n",
      " 0   state                  1604 non-null   object \n",
      " 1   industry               1806 non-null   object \n",
      " 2   n_employees            1372 non-null   float64\n",
      " 3   incident_year          1806 non-null   int64  \n",
      " 4   attribute              1806 non-null   object \n",
      " 5   compromise             1797 non-null   object \n",
      " 6   confidence             745 non-null    float64\n",
      " 7   data_disclosure        1766 non-null   object \n",
      " 8   action                 1800 non-null   object \n",
      " 9   action_variety         1543 non-null   object \n",
      " 10  action_vector          1448 non-null   object \n",
      " 11  discovery_variety      1020 non-null   object \n",
      " 12  asset_group            1806 non-null   object \n",
      " 13  asset_variety          1806 non-null   object \n",
      " 14  availability_duration  1655 non-null   float64\n",
      " 15  discovery              558 non-null    float64\n",
      " 16  containment            257 non-null    float64\n",
      " 17  exfiltration           238 non-null    float64\n",
      " 18  time_compromise        360 non-null    float64\n",
      " 19  actor                  1806 non-null   int64  \n",
      "dtypes: float64(7), int64(2), object(11)\n",
      "memory usage: 282.3+ KB\n"
     ]
    }
   ],
   "source": [
    "df.info()"
   ]
  },
  {
   "cell_type": "code",
   "execution_count": 5,
   "metadata": {},
   "outputs": [],
   "source": [
    "df['incident_year']=df['incident_year'].astype('object')"
   ]
  },
  {
   "cell_type": "code",
   "execution_count": 6,
   "metadata": {},
   "outputs": [
    {
     "data": {
      "text/plain": [
       "(1806, 20)"
      ]
     },
     "execution_count": 6,
     "metadata": {},
     "output_type": "execute_result"
    }
   ],
   "source": [
    "df.shape"
   ]
  },
  {
   "cell_type": "code",
   "execution_count": 7,
   "metadata": {},
   "outputs": [],
   "source": [
    "ef=df[['state','actor']]"
   ]
  },
  {
   "cell_type": "code",
   "execution_count": 8,
   "metadata": {},
   "outputs": [
    {
     "data": {
      "text/plain": [
       "state    36\n",
       "actor    51\n",
       "dtype: int64"
      ]
     },
     "execution_count": 8,
     "metadata": {},
     "output_type": "execute_result"
    }
   ],
   "source": [
    "ef[ef['actor']==1].count()"
   ]
  },
  {
   "cell_type": "code",
   "execution_count": 9,
   "metadata": {},
   "outputs": [],
   "source": [
    "def missing_table(df):\n",
    "        # Total missing values\n",
    "        mis_val = df.isnull().sum()\n",
    "        \n",
    "        # Percentage of missing values\n",
    "        mis_val_percent = 100 * df.isnull().sum() / len(df)\n",
    "        \n",
    "        # Make a table with the results\n",
    "        mis_val_table = pd.concat([mis_val, mis_val_percent], axis=1)\n",
    "        \n",
    "        # Rename the columns\n",
    "        mis_val_table_ren_columns = mis_val_table.rename(\n",
    "        columns = {0 : 'Missing Values', 1 : '% of Total Values'})\n",
    "        \n",
    "        # Sort the table by percentage of missing descending\n",
    "        mis_val_table_ren_columns = mis_val_table_ren_columns[\n",
    "            mis_val_table_ren_columns.iloc[:,1] != 0].sort_values(\n",
    "        '% of Total Values', ascending=False).round(1)\n",
    "        \n",
    "        # Print some summary information\n",
    "        print (\"Your selected dataframe has \" + str(df.shape[1]) + \" columns.\\n\"      \n",
    "            \"There are \" + str(mis_val_table_ren_columns.shape[0]) +\n",
    "              \" columns that have missing values.\")\n",
    "        \n",
    "        # Return the dataframe with missing information\n",
    "        return mis_val_table_ren_columns"
   ]
  },
  {
   "cell_type": "code",
   "execution_count": 10,
   "metadata": {},
   "outputs": [
    {
     "name": "stdout",
     "output_type": "stream",
     "text": [
      "Your selected dataframe has 20 columns.\n",
      "There are 14 columns that have missing values.\n"
     ]
    },
    {
     "data": {
      "text/html": [
       "<div>\n",
       "<style scoped>\n",
       "    .dataframe tbody tr th:only-of-type {\n",
       "        vertical-align: middle;\n",
       "    }\n",
       "\n",
       "    .dataframe tbody tr th {\n",
       "        vertical-align: top;\n",
       "    }\n",
       "\n",
       "    .dataframe thead th {\n",
       "        text-align: right;\n",
       "    }\n",
       "</style>\n",
       "<table border=\"1\" class=\"dataframe\">\n",
       "  <thead>\n",
       "    <tr style=\"text-align: right;\">\n",
       "      <th></th>\n",
       "      <th>Missing Values</th>\n",
       "      <th>% of Total Values</th>\n",
       "    </tr>\n",
       "  </thead>\n",
       "  <tbody>\n",
       "    <tr>\n",
       "      <th>exfiltration</th>\n",
       "      <td>1568</td>\n",
       "      <td>86.8</td>\n",
       "    </tr>\n",
       "    <tr>\n",
       "      <th>containment</th>\n",
       "      <td>1549</td>\n",
       "      <td>85.8</td>\n",
       "    </tr>\n",
       "    <tr>\n",
       "      <th>time_compromise</th>\n",
       "      <td>1446</td>\n",
       "      <td>80.1</td>\n",
       "    </tr>\n",
       "    <tr>\n",
       "      <th>discovery</th>\n",
       "      <td>1248</td>\n",
       "      <td>69.1</td>\n",
       "    </tr>\n",
       "    <tr>\n",
       "      <th>confidence</th>\n",
       "      <td>1061</td>\n",
       "      <td>58.7</td>\n",
       "    </tr>\n",
       "    <tr>\n",
       "      <th>discovery_variety</th>\n",
       "      <td>786</td>\n",
       "      <td>43.5</td>\n",
       "    </tr>\n",
       "    <tr>\n",
       "      <th>n_employees</th>\n",
       "      <td>434</td>\n",
       "      <td>24.0</td>\n",
       "    </tr>\n",
       "    <tr>\n",
       "      <th>action_vector</th>\n",
       "      <td>358</td>\n",
       "      <td>19.8</td>\n",
       "    </tr>\n",
       "    <tr>\n",
       "      <th>action_variety</th>\n",
       "      <td>263</td>\n",
       "      <td>14.6</td>\n",
       "    </tr>\n",
       "    <tr>\n",
       "      <th>state</th>\n",
       "      <td>202</td>\n",
       "      <td>11.2</td>\n",
       "    </tr>\n",
       "    <tr>\n",
       "      <th>availability_duration</th>\n",
       "      <td>151</td>\n",
       "      <td>8.4</td>\n",
       "    </tr>\n",
       "    <tr>\n",
       "      <th>data_disclosure</th>\n",
       "      <td>40</td>\n",
       "      <td>2.2</td>\n",
       "    </tr>\n",
       "    <tr>\n",
       "      <th>compromise</th>\n",
       "      <td>9</td>\n",
       "      <td>0.5</td>\n",
       "    </tr>\n",
       "    <tr>\n",
       "      <th>action</th>\n",
       "      <td>6</td>\n",
       "      <td>0.3</td>\n",
       "    </tr>\n",
       "  </tbody>\n",
       "</table>\n",
       "</div>"
      ],
      "text/plain": [
       "                       Missing Values  % of Total Values\n",
       "exfiltration                     1568               86.8\n",
       "containment                      1549               85.8\n",
       "time_compromise                  1446               80.1\n",
       "discovery                        1248               69.1\n",
       "confidence                       1061               58.7\n",
       "discovery_variety                 786               43.5\n",
       "n_employees                       434               24.0\n",
       "action_vector                     358               19.8\n",
       "action_variety                    263               14.6\n",
       "state                             202               11.2\n",
       "availability_duration             151                8.4\n",
       "data_disclosure                    40                2.2\n",
       "compromise                          9                0.5\n",
       "action                              6                0.3"
      ]
     },
     "execution_count": 10,
     "metadata": {},
     "output_type": "execute_result"
    }
   ],
   "source": [
    "missing_table(df)"
   ]
  },
  {
   "cell_type": "code",
   "execution_count": 11,
   "metadata": {},
   "outputs": [
    {
     "data": {
      "text/plain": [
       "SD    0.001247\n",
       "ND    0.001870\n",
       "RI    0.001870\n",
       "NV    0.001870\n",
       "HI    0.002494\n",
       "ID    0.002494\n",
       "VT    0.003117\n",
       "AR    0.003117\n",
       "NH    0.003117\n",
       "ME    0.003117\n",
       "WY    0.003741\n",
       "DE    0.004364\n",
       "MT    0.004988\n",
       "NE    0.004988\n",
       "OK    0.005611\n",
       "MS    0.006234\n",
       "WV    0.006234\n",
       "KS    0.006858\n",
       "IA    0.007481\n",
       "AK    0.007481\n",
       "UT    0.008105\n",
       "LA    0.008105\n",
       "KY    0.008105\n",
       "NM    0.008728\n",
       "SC    0.009352\n",
       "AZ    0.010599\n",
       "WI    0.010599\n",
       "OR    0.012469\n",
       "CT    0.016209\n",
       "CO    0.017456\n",
       "NC    0.017456\n",
       "IN    0.017456\n",
       "MO    0.019950\n",
       "TN    0.021197\n",
       "MN    0.021197\n",
       "AL    0.021197\n",
       "MD    0.022444\n",
       "MI    0.022444\n",
       "MA    0.023067\n",
       "WA    0.023691\n",
       "NJ    0.023691\n",
       "DC    0.025561\n",
       "OH    0.029302\n",
       "GA    0.031172\n",
       "IL    0.035536\n",
       "VA    0.039277\n",
       "PA    0.040524\n",
       "TX    0.051746\n",
       "NY    0.081047\n",
       "FL    0.084788\n",
       "CA    0.155237\n",
       "Name: state, dtype: float64"
      ]
     },
     "execution_count": 11,
     "metadata": {},
     "output_type": "execute_result"
    }
   ],
   "source": [
    "\n",
    "frequencies = df.state.value_counts(normalize=True, ascending=True)\n",
    "threshold = frequencies[(frequencies.cumsum() > 0.01).idxmax()]\n",
    "frequencies"
   ]
  },
  {
   "cell_type": "code",
   "execution_count": 12,
   "metadata": {},
   "outputs": [
    {
     "data": {
      "text/plain": [
       "0.0025"
      ]
     },
     "execution_count": 12,
     "metadata": {},
     "output_type": "execute_result"
    }
   ],
   "source": [
    "\n",
    "round(threshold,4)"
   ]
  },
  {
   "cell_type": "code",
   "execution_count": null,
   "metadata": {},
   "outputs": [],
   "source": []
  },
  {
   "cell_type": "code",
   "execution_count": 13,
   "metadata": {},
   "outputs": [
    {
     "data": {
      "text/plain": [
       "[SD    0.001247\n",
       " ND    0.001870\n",
       " RI    0.001870\n",
       " NV    0.001870\n",
       " HI    0.002494\n",
       " ID    0.002494\n",
       " VT    0.003117\n",
       " AR    0.003117\n",
       " NH    0.003117\n",
       " ME    0.003117\n",
       " WY    0.003741\n",
       " DE    0.004364\n",
       " MT    0.004988\n",
       " NE    0.004988\n",
       " OK    0.005611\n",
       " MS    0.006234\n",
       " WV    0.006234\n",
       " KS    0.006858\n",
       " IA    0.007481\n",
       " AK    0.007481\n",
       " UT    0.008105\n",
       " LA    0.008105\n",
       " KY    0.008105\n",
       " NM    0.008728\n",
       " SC    0.009352\n",
       " AZ    0.010599\n",
       " WI    0.010599\n",
       " OR    0.012469\n",
       " CT    0.016209\n",
       " CO    0.017456\n",
       " NC    0.017456\n",
       " IN    0.017456\n",
       " MO    0.019950\n",
       " TN    0.021197\n",
       " MN    0.021197\n",
       " AL    0.021197\n",
       " MD    0.022444\n",
       " MI    0.022444\n",
       " MA    0.023067\n",
       " WA    0.023691\n",
       " NJ    0.023691\n",
       " DC    0.025561\n",
       " OH    0.029302\n",
       " GA    0.031172\n",
       " IL    0.035536\n",
       " VA    0.039277\n",
       " PA    0.040524\n",
       " TX    0.051746\n",
       " NY    0.081047\n",
       " FL    0.084788\n",
       " CA    0.155237\n",
       " Name: state, dtype: float64,\n",
       " agriculture & animal     0.001107\n",
       " consultation/service     0.001107\n",
       " utilities                0.001661\n",
       " information/ app         0.003322\n",
       " mining                   0.003876\n",
       " construction             0.005537\n",
       " rental and leasing       0.005537\n",
       " wholesale                0.011074\n",
       " entertainment            0.013289\n",
       " military                 0.013289\n",
       " transportation           0.017719\n",
       " ASWMR                    0.018272\n",
       " manufacturing            0.022148\n",
       " personal service         0.026024\n",
       " accomodation and food    0.033776\n",
       " PST                      0.043189\n",
       " education                0.068106\n",
       " retail trade             0.076966\n",
       " information telecom      0.098560\n",
       " finance and insurance    0.108527\n",
       " government               0.144518\n",
       " healthcare               0.282392\n",
       " Name: industry, dtype: float64,\n",
       " 5.0    0.021137\n",
       " 6.0    0.029883\n",
       " 1.0    0.068513\n",
       " 8.0    0.077988\n",
       " 7.0    0.103499\n",
       " 2.0    0.147959\n",
       " 4.0    0.261662\n",
       " 3.0    0.289359\n",
       " Name: n_employees, dtype: float64,\n",
       " 2001    0.001107\n",
       " 2003    0.001661\n",
       " 2004    0.002215\n",
       " 2005    0.002769\n",
       " 2006    0.003876\n",
       " 2020    0.006091\n",
       " 2007    0.011074\n",
       " 2008    0.014396\n",
       " 2009    0.018272\n",
       " 2010    0.018272\n",
       " 2011    0.034330\n",
       " 2019    0.057032\n",
       " 2018    0.060354\n",
       " 2014    0.088594\n",
       " 2015    0.102990\n",
       " 2012    0.119601\n",
       " 2016    0.133444\n",
       " 2017    0.134551\n",
       " 2013    0.189369\n",
       " Name: incident_year, dtype: float64,\n",
       " availability       0.107973\n",
       " integrity          0.363234\n",
       " confidentiality    0.528793\n",
       " Name: attribute, dtype: float64,\n",
       " log tampering             0.000556\n",
       " created account           0.000556\n",
       " missappropriation         0.000556\n",
       " other                     0.000556\n",
       " degradation               0.001113\n",
       " modify privileges         0.001669\n",
       " destruction               0.002782\n",
       " misrepresentation         0.004452\n",
       " defacement                0.010573\n",
       " modify configuration      0.010573\n",
       " repurpose                 0.017807\n",
       " interruption              0.019477\n",
       " modify data               0.042293\n",
       " hardware tampering        0.062883\n",
       " alter behavior            0.066221\n",
       " software installation     0.070117\n",
       " fraudulent transaction    0.071786\n",
       " loss                      0.086255\n",
       " data loss                 0.529772\n",
       " Name: compromise, dtype: float64,\n",
       " 1.0    0.051007\n",
       " 0.0    0.187919\n",
       " 2.0    0.214765\n",
       " 3.0    0.546309\n",
       " Name: confidence, dtype: float64,\n",
       " no     0.096263\n",
       " yes    0.903737\n",
       " Name: data_disclosure, dtype: float64,\n",
       " environment    0.000556\n",
       " social         0.035000\n",
       " malware        0.066667\n",
       " physical       0.152778\n",
       " error          0.179444\n",
       " hacking        0.220556\n",
       " misuse         0.345000\n",
       " Name: action, dtype: float64,\n",
       " email attachment    0.000648\n",
       " net misuse          0.000648\n",
       " illicit content     0.000648\n",
       " cache poisoning     0.000648\n",
       " export data         0.000648\n",
       "                       ...   \n",
       " publishing error    0.049903\n",
       " theft               0.068697\n",
       " possession abuse    0.073234\n",
       " skimmer             0.073234\n",
       " privilege abuse     0.235256\n",
       " Name: action_variety, Length: 70, dtype: float64,\n",
       " command shell               0.000691\n",
       " visitor privileges          0.000691\n",
       " network propagation         0.000691\n",
       " humidity                    0.000691\n",
       " partner vehicle             0.000691\n",
       " software update             0.000691\n",
       " desktop sharing software    0.001381\n",
       " uncontrolled location       0.001381\n",
       " removable media             0.001381\n",
       " desktop sharing             0.001381\n",
       " download by malware         0.001381\n",
       " remote injection            0.001381\n",
       " inadequate personnel        0.001381\n",
       " phone                       0.002072\n",
       " partner                     0.002072\n",
       " vpn                         0.002072\n",
       " public vehicle              0.002072\n",
       " personal residence          0.002762\n",
       " random error                0.002762\n",
       " web download                0.002762\n",
       " inadequate technology       0.002762\n",
       " victim secure area          0.004834\n",
       " privileged access           0.004834\n",
       " in-person                   0.004834\n",
       " partner facility            0.004834\n",
       " non-corporate               0.008287\n",
       " web drive-by                0.008287\n",
       " inadequate processes        0.008978\n",
       " backdoor or c2              0.008978\n",
       " personal vehicle            0.012431\n",
       " remote access               0.013812\n",
       " direct install              0.014503\n",
       " public facility             0.018646\n",
       " victim grounds              0.037983\n",
       " victim work area            0.040746\n",
       " email                       0.045580\n",
       " victim public area          0.048343\n",
       " physical access             0.118094\n",
       " carelessness                0.129834\n",
       " web application             0.181630\n",
       " lan access                  0.251381\n",
       " Name: action_vector, dtype: float64,\n",
       " hids                         0.000980\n",
       " antivirus                    0.000980\n",
       " security alarm               0.000980\n",
       " nids                         0.001961\n",
       " monitoring service           0.004902\n",
       " suspicious traffic           0.005882\n",
       " infrastructure monitoring    0.006863\n",
       " financial audit              0.009804\n",
       " log review                   0.009804\n",
       " audit                        0.011765\n",
       " break in discovered          0.015686\n",
       " incident response            0.017647\n",
       " found documents              0.019608\n",
       " unrelated 3rd party          0.025490\n",
       " security researcher          0.027451\n",
       " it review                    0.029412\n",
       " fraud detection              0.038235\n",
       " other                        0.047059\n",
       " law enforcement              0.113725\n",
       " reported by employee         0.158824\n",
       " customer                     0.211765\n",
       " actor disclosure             0.241176\n",
       " Name: discovery_variety, dtype: float64,\n",
       " e               0.000554\n",
       " network         0.011628\n",
       " people          0.033223\n",
       " terminal        0.081395\n",
       " user device     0.099668\n",
       " media           0.198782\n",
       " server          0.574751\n",
       " Name: asset_group, dtype: float64,\n",
       "  private wan          0.000554\n",
       "  broadband            0.000554\n",
       "  voip adapter         0.000554\n",
       "  print                0.000554\n",
       "  database             0.000554\n",
       "  peripheral           0.000554\n",
       "  san                  0.000554\n",
       "  helpdesk             0.000554\n",
       "  tablet               0.000554\n",
       "  system admin         0.000554\n",
       "  access reader        0.000554\n",
       "  lan                  0.000554\n",
       "  tapes                0.000554\n",
       "  desktop or laptop    0.000554\n",
       "  router or switch     0.001107\n",
       "  former employee      0.001107\n",
       "  public wan           0.001107\n",
       "  ics                  0.001107\n",
       "  wlan                 0.001107\n",
       "  authentication       0.001107\n",
       "  executive            0.001107\n",
       "  pbx                  0.001661\n",
       "  camera               0.001661\n",
       "  cashier              0.001661\n",
       "  telephone            0.001661\n",
       "  remote access        0.002215\n",
       "  backup               0.002215\n",
       "  kiosk                0.002215\n",
       "  dns                  0.002215\n",
       "  code repository      0.003322\n",
       "  ped pad              0.003322\n",
       "  customer             0.003322\n",
       "  finance              0.003876\n",
       "  disk drive           0.003876\n",
       "  mainframe            0.004430\n",
       "  disk media           0.004430\n",
       "  mobile phone         0.004983\n",
       "  human resources      0.005537\n",
       "  flash drive          0.006091\n",
       "  pos controller       0.007752\n",
       "  pos terminal         0.008859\n",
       "  other                0.011074\n",
       "  end-user             0.012735\n",
       "  file                 0.022148\n",
       "  gas terminal         0.029347\n",
       "  laptop               0.031008\n",
       "  payment card         0.045958\n",
       "  atm                  0.045958\n",
       "  mail                 0.047065\n",
       "  desktop              0.052602\n",
       "  documents            0.137320\n",
       "  web application      0.197121\n",
       "  database             0.276855\n",
       " Name: asset_variety, dtype: float64,\n",
       " 2.0    0.002417\n",
       " 6.0    0.003625\n",
       " 5.0    0.004230\n",
       " 3.0    0.009063\n",
       " 4.0    0.012085\n",
       " 0.0    0.968580\n",
       " Name: availability_duration, dtype: float64,\n",
       " 0.0    0.008961\n",
       " 1.0    0.014337\n",
       " 2.0    0.086022\n",
       " 5.0    0.087814\n",
       " 3.0    0.181004\n",
       " 7.0    0.181004\n",
       " 4.0    0.195341\n",
       " 6.0    0.245520\n",
       " Name: discovery, dtype: float64,\n",
       " 7.0    0.019455\n",
       " 1.0    0.046693\n",
       " 5.0    0.070039\n",
       " 6.0    0.085603\n",
       " 0.0    0.085603\n",
       " 2.0    0.124514\n",
       " 3.0    0.245136\n",
       " 4.0    0.322957\n",
       " Name: containment, dtype: float64,\n",
       " 7.0    0.004202\n",
       " 5.0    0.008403\n",
       " 6.0    0.008403\n",
       " 3.0    0.033613\n",
       " 4.0    0.037815\n",
       " 1.0    0.096639\n",
       " 2.0    0.176471\n",
       " 0.0    0.634454\n",
       " Name: exfiltration, dtype: float64,\n",
       " 7.0    0.002778\n",
       " 6.0    0.013889\n",
       " 4.0    0.027778\n",
       " 3.0    0.050000\n",
       " 1.0    0.155556\n",
       " 2.0    0.372222\n",
       " 0.0    0.377778\n",
       " Name: time_compromise, dtype: float64,\n",
       " 1    0.028239\n",
       " 0    0.971761\n",
       " Name: actor, dtype: float64]"
      ]
     },
     "execution_count": 13,
     "metadata": {},
     "output_type": "execute_result"
    }
   ],
   "source": [
    "cols=df.keys()\n",
    "freq=[]\n",
    "\n",
    "for col in cols:\n",
    "    freq.append(df[col].value_counts(normalize=True, ascending=True))\n",
    "    pd.DataFrame(freq)\n",
    "freq"
   ]
  },
  {
   "cell_type": "code",
   "execution_count": 14,
   "metadata": {},
   "outputs": [
    {
     "data": {
      "text/plain": [
       "email attachment        0.000648\n",
       "net misuse              0.000648\n",
       "illicit content         0.000648\n",
       "cache poisoning         0.000648\n",
       "export data             0.000648\n",
       "footprinting            0.000648\n",
       "destroy data            0.000648\n",
       "inadequate processes    0.000648\n",
       "flood                   0.000648\n",
       "xss                     0.000648\n",
       "Name: action_variety, dtype: float64"
      ]
     },
     "execution_count": 14,
     "metadata": {},
     "output_type": "execute_result"
    }
   ],
   "source": [
    "freq1=df.action_variety.value_counts(normalize=True, ascending=True)\n",
    "threshold1 = frequencies[(frequencies.cumsum() > 0.05).idxmax()]\n",
    "freq1.head(10)"
   ]
  },
  {
   "cell_type": "code",
   "execution_count": 15,
   "metadata": {},
   "outputs": [
    {
     "data": {
      "text/plain": [
       "0.006234413965087282"
      ]
     },
     "execution_count": 15,
     "metadata": {},
     "output_type": "execute_result"
    }
   ],
   "source": [
    "threshold1"
   ]
  },
  {
   "cell_type": "code",
   "execution_count": 16,
   "metadata": {},
   "outputs": [
    {
     "data": {
      "text/plain": [
       "command shell               0.000691\n",
       "visitor privileges          0.000691\n",
       "network propagation         0.000691\n",
       "humidity                    0.000691\n",
       "partner vehicle             0.000691\n",
       "software update             0.000691\n",
       "desktop sharing software    0.001381\n",
       "uncontrolled location       0.001381\n",
       "removable media             0.001381\n",
       "desktop sharing             0.001381\n",
       "Name: action_vector, dtype: float64"
      ]
     },
     "execution_count": 16,
     "metadata": {},
     "output_type": "execute_result"
    }
   ],
   "source": [
    "freq2=df.action_vector.value_counts(normalize=True, ascending=True)\n",
    "threshold2 = frequencies[(frequencies.cumsum() > 0.05).idxmax()]\n",
    "freq2.head(10)"
   ]
  },
  {
   "cell_type": "markdown",
   "metadata": {},
   "source": [
    "## Dealing  Missing and Rare Values"
   ]
  },
  {
   "cell_type": "code",
   "execution_count": 17,
   "metadata": {},
   "outputs": [],
   "source": [
    "df_im=df.copy()"
   ]
  },
  {
   "cell_type": "code",
   "execution_count": 18,
   "metadata": {},
   "outputs": [],
   "source": [
    "df_im['state'].fillna('Other', inplace=True)"
   ]
  },
  {
   "cell_type": "code",
   "execution_count": 19,
   "metadata": {},
   "outputs": [],
   "source": [
    "df_im['state'].mask(df_im['state'].map(frequencies)< threshold, 'Other', inplace=True)"
   ]
  },
  {
   "cell_type": "code",
   "execution_count": 20,
   "metadata": {},
   "outputs": [
    {
     "data": {
      "text/plain": [
       "CA       249\n",
       "Other    213\n",
       "FL       136\n",
       "NY       130\n",
       "TX        83\n",
       "PA        65\n",
       "VA        63\n",
       "IL        57\n",
       "GA        50\n",
       "OH        47\n",
       "DC        41\n",
       "NJ        38\n",
       "WA        38\n",
       "MA        37\n",
       "MD        36\n",
       "MI        36\n",
       "AL        34\n",
       "MN        34\n",
       "TN        34\n",
       "MO        32\n",
       "IN        28\n",
       "CO        28\n",
       "NC        28\n",
       "CT        26\n",
       "OR        20\n",
       "WI        17\n",
       "AZ        17\n",
       "SC        15\n",
       "NM        14\n",
       "LA        13\n",
       "KY        13\n",
       "UT        13\n",
       "AK        12\n",
       "IA        12\n",
       "KS        11\n",
       "WV        10\n",
       "MS        10\n",
       "OK         9\n",
       "MT         8\n",
       "NE         8\n",
       "DE         7\n",
       "WY         6\n",
       "NH         5\n",
       "VT         5\n",
       "ME         5\n",
       "AR         5\n",
       "ID         4\n",
       "HI         4\n",
       "Name: state, dtype: int64"
      ]
     },
     "execution_count": 20,
     "metadata": {},
     "output_type": "execute_result"
    }
   ],
   "source": [
    "df_im.state.value_counts()"
   ]
  },
  {
   "cell_type": "code",
   "execution_count": 21,
   "metadata": {
    "scrolled": true
   },
   "outputs": [],
   "source": [
    "df_im['action_variety'].mask(df_im['action_variety'].map(freq1)<threshold1, 'other', inplace=True)"
   ]
  },
  {
   "cell_type": "code",
   "execution_count": 22,
   "metadata": {},
   "outputs": [],
   "source": [
    "df_im['action_vector'].mask(df_im['action_vector'].map(freq2)<threshold2, 'other', inplace=True)"
   ]
  },
  {
   "cell_type": "code",
   "execution_count": 23,
   "metadata": {},
   "outputs": [],
   "source": [
    "df_im.compromise.fillna('other', inplace=True)"
   ]
  },
  {
   "cell_type": "code",
   "execution_count": 24,
   "metadata": {},
   "outputs": [
    {
     "data": {
      "text/plain": [
       "misuse         621\n",
       "hacking        397\n",
       "error          323\n",
       "physical       275\n",
       "malware        120\n",
       "social          63\n",
       "environment      1\n",
       "Name: action, dtype: int64"
      ]
     },
     "execution_count": 24,
     "metadata": {},
     "output_type": "execute_result"
    }
   ],
   "source": [
    "df_im.action.value_counts()"
   ]
  },
  {
   "cell_type": "code",
   "execution_count": 25,
   "metadata": {},
   "outputs": [
    {
     "name": "stdout",
     "output_type": "stream",
     "text": [
      "Your selected dataframe has 20 columns.\n",
      "There are 12 columns that have missing values.\n"
     ]
    },
    {
     "data": {
      "text/html": [
       "<div>\n",
       "<style scoped>\n",
       "    .dataframe tbody tr th:only-of-type {\n",
       "        vertical-align: middle;\n",
       "    }\n",
       "\n",
       "    .dataframe tbody tr th {\n",
       "        vertical-align: top;\n",
       "    }\n",
       "\n",
       "    .dataframe thead th {\n",
       "        text-align: right;\n",
       "    }\n",
       "</style>\n",
       "<table border=\"1\" class=\"dataframe\">\n",
       "  <thead>\n",
       "    <tr style=\"text-align: right;\">\n",
       "      <th></th>\n",
       "      <th>Missing Values</th>\n",
       "      <th>% of Total Values</th>\n",
       "    </tr>\n",
       "  </thead>\n",
       "  <tbody>\n",
       "    <tr>\n",
       "      <th>exfiltration</th>\n",
       "      <td>1568</td>\n",
       "      <td>86.8</td>\n",
       "    </tr>\n",
       "    <tr>\n",
       "      <th>containment</th>\n",
       "      <td>1549</td>\n",
       "      <td>85.8</td>\n",
       "    </tr>\n",
       "    <tr>\n",
       "      <th>time_compromise</th>\n",
       "      <td>1446</td>\n",
       "      <td>80.1</td>\n",
       "    </tr>\n",
       "    <tr>\n",
       "      <th>discovery</th>\n",
       "      <td>1248</td>\n",
       "      <td>69.1</td>\n",
       "    </tr>\n",
       "    <tr>\n",
       "      <th>confidence</th>\n",
       "      <td>1061</td>\n",
       "      <td>58.7</td>\n",
       "    </tr>\n",
       "    <tr>\n",
       "      <th>discovery_variety</th>\n",
       "      <td>786</td>\n",
       "      <td>43.5</td>\n",
       "    </tr>\n",
       "    <tr>\n",
       "      <th>n_employees</th>\n",
       "      <td>434</td>\n",
       "      <td>24.0</td>\n",
       "    </tr>\n",
       "    <tr>\n",
       "      <th>action_vector</th>\n",
       "      <td>358</td>\n",
       "      <td>19.8</td>\n",
       "    </tr>\n",
       "    <tr>\n",
       "      <th>action_variety</th>\n",
       "      <td>263</td>\n",
       "      <td>14.6</td>\n",
       "    </tr>\n",
       "    <tr>\n",
       "      <th>availability_duration</th>\n",
       "      <td>151</td>\n",
       "      <td>8.4</td>\n",
       "    </tr>\n",
       "    <tr>\n",
       "      <th>data_disclosure</th>\n",
       "      <td>40</td>\n",
       "      <td>2.2</td>\n",
       "    </tr>\n",
       "    <tr>\n",
       "      <th>action</th>\n",
       "      <td>6</td>\n",
       "      <td>0.3</td>\n",
       "    </tr>\n",
       "  </tbody>\n",
       "</table>\n",
       "</div>"
      ],
      "text/plain": [
       "                       Missing Values  % of Total Values\n",
       "exfiltration                     1568               86.8\n",
       "containment                      1549               85.8\n",
       "time_compromise                  1446               80.1\n",
       "discovery                        1248               69.1\n",
       "confidence                       1061               58.7\n",
       "discovery_variety                 786               43.5\n",
       "n_employees                       434               24.0\n",
       "action_vector                     358               19.8\n",
       "action_variety                    263               14.6\n",
       "availability_duration             151                8.4\n",
       "data_disclosure                    40                2.2\n",
       "action                              6                0.3"
      ]
     },
     "execution_count": 25,
     "metadata": {},
     "output_type": "execute_result"
    }
   ],
   "source": [
    "missing_table(df_im)"
   ]
  },
  {
   "cell_type": "code",
   "execution_count": 26,
   "metadata": {},
   "outputs": [
    {
     "name": "stdout",
     "output_type": "stream",
     "text": [
      "<class 'pandas.core.frame.DataFrame'>\n",
      "RangeIndex: 1806 entries, 0 to 1805\n",
      "Data columns (total 20 columns):\n",
      " #   Column                 Non-Null Count  Dtype  \n",
      "---  ------                 --------------  -----  \n",
      " 0   state                  1806 non-null   object \n",
      " 1   industry               1806 non-null   object \n",
      " 2   n_employees            1372 non-null   float64\n",
      " 3   incident_year          1806 non-null   object \n",
      " 4   attribute              1806 non-null   object \n",
      " 5   compromise             1806 non-null   object \n",
      " 6   confidence             745 non-null    float64\n",
      " 7   data_disclosure        1766 non-null   object \n",
      " 8   action                 1800 non-null   object \n",
      " 9   action_variety         1543 non-null   object \n",
      " 10  action_vector          1448 non-null   object \n",
      " 11  discovery_variety      1020 non-null   object \n",
      " 12  asset_group            1806 non-null   object \n",
      " 13  asset_variety          1806 non-null   object \n",
      " 14  availability_duration  1655 non-null   float64\n",
      " 15  discovery              558 non-null    float64\n",
      " 16  containment            257 non-null    float64\n",
      " 17  exfiltration           238 non-null    float64\n",
      " 18  time_compromise        360 non-null    float64\n",
      " 19  actor                  1806 non-null   int64  \n",
      "dtypes: float64(7), int64(1), object(12)\n",
      "memory usage: 282.3+ KB\n"
     ]
    }
   ],
   "source": [
    "df_im.info()"
   ]
  },
  {
   "cell_type": "code",
   "execution_count": 27,
   "metadata": {},
   "outputs": [],
   "source": [
    "df_int=df_im.copy()"
   ]
  },
  {
   "cell_type": "code",
   "execution_count": 28,
   "metadata": {},
   "outputs": [
    {
     "name": "stdout",
     "output_type": "stream",
     "text": [
      "Your selected dataframe has 20 columns.\n",
      "There are 12 columns that have missing values.\n"
     ]
    },
    {
     "data": {
      "text/html": [
       "<div>\n",
       "<style scoped>\n",
       "    .dataframe tbody tr th:only-of-type {\n",
       "        vertical-align: middle;\n",
       "    }\n",
       "\n",
       "    .dataframe tbody tr th {\n",
       "        vertical-align: top;\n",
       "    }\n",
       "\n",
       "    .dataframe thead th {\n",
       "        text-align: right;\n",
       "    }\n",
       "</style>\n",
       "<table border=\"1\" class=\"dataframe\">\n",
       "  <thead>\n",
       "    <tr style=\"text-align: right;\">\n",
       "      <th></th>\n",
       "      <th>Missing Values</th>\n",
       "      <th>% of Total Values</th>\n",
       "    </tr>\n",
       "  </thead>\n",
       "  <tbody>\n",
       "    <tr>\n",
       "      <th>exfiltration</th>\n",
       "      <td>1568</td>\n",
       "      <td>86.8</td>\n",
       "    </tr>\n",
       "    <tr>\n",
       "      <th>containment</th>\n",
       "      <td>1549</td>\n",
       "      <td>85.8</td>\n",
       "    </tr>\n",
       "    <tr>\n",
       "      <th>time_compromise</th>\n",
       "      <td>1446</td>\n",
       "      <td>80.1</td>\n",
       "    </tr>\n",
       "    <tr>\n",
       "      <th>discovery</th>\n",
       "      <td>1248</td>\n",
       "      <td>69.1</td>\n",
       "    </tr>\n",
       "    <tr>\n",
       "      <th>confidence</th>\n",
       "      <td>1061</td>\n",
       "      <td>58.7</td>\n",
       "    </tr>\n",
       "    <tr>\n",
       "      <th>discovery_variety</th>\n",
       "      <td>786</td>\n",
       "      <td>43.5</td>\n",
       "    </tr>\n",
       "    <tr>\n",
       "      <th>n_employees</th>\n",
       "      <td>434</td>\n",
       "      <td>24.0</td>\n",
       "    </tr>\n",
       "    <tr>\n",
       "      <th>action_vector</th>\n",
       "      <td>358</td>\n",
       "      <td>19.8</td>\n",
       "    </tr>\n",
       "    <tr>\n",
       "      <th>action_variety</th>\n",
       "      <td>263</td>\n",
       "      <td>14.6</td>\n",
       "    </tr>\n",
       "    <tr>\n",
       "      <th>availability_duration</th>\n",
       "      <td>151</td>\n",
       "      <td>8.4</td>\n",
       "    </tr>\n",
       "    <tr>\n",
       "      <th>data_disclosure</th>\n",
       "      <td>40</td>\n",
       "      <td>2.2</td>\n",
       "    </tr>\n",
       "    <tr>\n",
       "      <th>action</th>\n",
       "      <td>6</td>\n",
       "      <td>0.3</td>\n",
       "    </tr>\n",
       "  </tbody>\n",
       "</table>\n",
       "</div>"
      ],
      "text/plain": [
       "                       Missing Values  % of Total Values\n",
       "exfiltration                     1568               86.8\n",
       "containment                      1549               85.8\n",
       "time_compromise                  1446               80.1\n",
       "discovery                        1248               69.1\n",
       "confidence                       1061               58.7\n",
       "discovery_variety                 786               43.5\n",
       "n_employees                       434               24.0\n",
       "action_vector                     358               19.8\n",
       "action_variety                    263               14.6\n",
       "availability_duration             151                8.4\n",
       "data_disclosure                    40                2.2\n",
       "action                              6                0.3"
      ]
     },
     "execution_count": 28,
     "metadata": {},
     "output_type": "execute_result"
    }
   ],
   "source": [
    "missing_table(df_int)"
   ]
  },
  {
   "cell_type": "code",
   "execution_count": 29,
   "metadata": {},
   "outputs": [],
   "source": [
    "cols=['action','action_variety','action_vector','discovery_variety']\n",
    "\n",
    "\n",
    "df_int['action']=df_int['action'].fillna('other')\n",
    "df_int['action_variety']=df_int['action_variety'].fillna('other')\n",
    "df_int['action_vector']=df_int['action_vector'].fillna('other')\n",
    "df_int['discovery_variety']=df_int['discovery_variety'].fillna('other')"
   ]
  },
  {
   "cell_type": "code",
   "execution_count": 30,
   "metadata": {},
   "outputs": [
    {
     "name": "stdout",
     "output_type": "stream",
     "text": [
      "Your selected dataframe has 20 columns.\n",
      "There are 8 columns that have missing values.\n"
     ]
    },
    {
     "data": {
      "text/html": [
       "<div>\n",
       "<style scoped>\n",
       "    .dataframe tbody tr th:only-of-type {\n",
       "        vertical-align: middle;\n",
       "    }\n",
       "\n",
       "    .dataframe tbody tr th {\n",
       "        vertical-align: top;\n",
       "    }\n",
       "\n",
       "    .dataframe thead th {\n",
       "        text-align: right;\n",
       "    }\n",
       "</style>\n",
       "<table border=\"1\" class=\"dataframe\">\n",
       "  <thead>\n",
       "    <tr style=\"text-align: right;\">\n",
       "      <th></th>\n",
       "      <th>Missing Values</th>\n",
       "      <th>% of Total Values</th>\n",
       "    </tr>\n",
       "  </thead>\n",
       "  <tbody>\n",
       "    <tr>\n",
       "      <th>exfiltration</th>\n",
       "      <td>1568</td>\n",
       "      <td>86.8</td>\n",
       "    </tr>\n",
       "    <tr>\n",
       "      <th>containment</th>\n",
       "      <td>1549</td>\n",
       "      <td>85.8</td>\n",
       "    </tr>\n",
       "    <tr>\n",
       "      <th>time_compromise</th>\n",
       "      <td>1446</td>\n",
       "      <td>80.1</td>\n",
       "    </tr>\n",
       "    <tr>\n",
       "      <th>discovery</th>\n",
       "      <td>1248</td>\n",
       "      <td>69.1</td>\n",
       "    </tr>\n",
       "    <tr>\n",
       "      <th>confidence</th>\n",
       "      <td>1061</td>\n",
       "      <td>58.7</td>\n",
       "    </tr>\n",
       "    <tr>\n",
       "      <th>n_employees</th>\n",
       "      <td>434</td>\n",
       "      <td>24.0</td>\n",
       "    </tr>\n",
       "    <tr>\n",
       "      <th>availability_duration</th>\n",
       "      <td>151</td>\n",
       "      <td>8.4</td>\n",
       "    </tr>\n",
       "    <tr>\n",
       "      <th>data_disclosure</th>\n",
       "      <td>40</td>\n",
       "      <td>2.2</td>\n",
       "    </tr>\n",
       "  </tbody>\n",
       "</table>\n",
       "</div>"
      ],
      "text/plain": [
       "                       Missing Values  % of Total Values\n",
       "exfiltration                     1568               86.8\n",
       "containment                      1549               85.8\n",
       "time_compromise                  1446               80.1\n",
       "discovery                        1248               69.1\n",
       "confidence                       1061               58.7\n",
       "n_employees                       434               24.0\n",
       "availability_duration             151                8.4\n",
       "data_disclosure                    40                2.2"
      ]
     },
     "execution_count": 30,
     "metadata": {},
     "output_type": "execute_result"
    }
   ],
   "source": [
    "missing_table(df_int)"
   ]
  },
  {
   "cell_type": "code",
   "execution_count": 31,
   "metadata": {},
   "outputs": [
    {
     "data": {
      "text/html": [
       "<div>\n",
       "<style scoped>\n",
       "    .dataframe tbody tr th:only-of-type {\n",
       "        vertical-align: middle;\n",
       "    }\n",
       "\n",
       "    .dataframe tbody tr th {\n",
       "        vertical-align: top;\n",
       "    }\n",
       "\n",
       "    .dataframe thead th {\n",
       "        text-align: right;\n",
       "    }\n",
       "</style>\n",
       "<table border=\"1\" class=\"dataframe\">\n",
       "  <thead>\n",
       "    <tr style=\"text-align: right;\">\n",
       "      <th></th>\n",
       "      <th>state</th>\n",
       "      <th>industry</th>\n",
       "      <th>n_employees</th>\n",
       "      <th>incident_year</th>\n",
       "      <th>attribute</th>\n",
       "      <th>compromise</th>\n",
       "      <th>confidence</th>\n",
       "      <th>data_disclosure</th>\n",
       "      <th>action</th>\n",
       "      <th>action_variety</th>\n",
       "      <th>action_vector</th>\n",
       "      <th>discovery_variety</th>\n",
       "      <th>asset_group</th>\n",
       "      <th>asset_variety</th>\n",
       "      <th>availability_duration</th>\n",
       "      <th>discovery</th>\n",
       "      <th>containment</th>\n",
       "      <th>exfiltration</th>\n",
       "      <th>time_compromise</th>\n",
       "      <th>actor</th>\n",
       "    </tr>\n",
       "  </thead>\n",
       "  <tbody>\n",
       "    <tr>\n",
       "      <th>0</th>\n",
       "      <td>GA</td>\n",
       "      <td>education</td>\n",
       "      <td>4.0</td>\n",
       "      <td>2017</td>\n",
       "      <td>confidentiality</td>\n",
       "      <td>alter behavior</td>\n",
       "      <td>3.0</td>\n",
       "      <td>yes</td>\n",
       "      <td>social</td>\n",
       "      <td>phishing</td>\n",
       "      <td>email</td>\n",
       "      <td>law enforcement</td>\n",
       "      <td>server</td>\n",
       "      <td>mail</td>\n",
       "      <td>0.0</td>\n",
       "      <td>6.0</td>\n",
       "      <td>NaN</td>\n",
       "      <td>NaN</td>\n",
       "      <td>NaN</td>\n",
       "      <td>0</td>\n",
       "    </tr>\n",
       "    <tr>\n",
       "      <th>1</th>\n",
       "      <td>PA</td>\n",
       "      <td>healthcare</td>\n",
       "      <td>NaN</td>\n",
       "      <td>2018</td>\n",
       "      <td>confidentiality</td>\n",
       "      <td>data loss</td>\n",
       "      <td>1.0</td>\n",
       "      <td>yes</td>\n",
       "      <td>misuse</td>\n",
       "      <td>knowledge abuse</td>\n",
       "      <td>physical access</td>\n",
       "      <td>other</td>\n",
       "      <td>server</td>\n",
       "      <td>database</td>\n",
       "      <td>0.0</td>\n",
       "      <td>4.0</td>\n",
       "      <td>NaN</td>\n",
       "      <td>0.0</td>\n",
       "      <td>2.0</td>\n",
       "      <td>0</td>\n",
       "    </tr>\n",
       "    <tr>\n",
       "      <th>2</th>\n",
       "      <td>NE</td>\n",
       "      <td>finance and insurance</td>\n",
       "      <td>6.0</td>\n",
       "      <td>2017</td>\n",
       "      <td>confidentiality</td>\n",
       "      <td>data loss</td>\n",
       "      <td>2.0</td>\n",
       "      <td>yes</td>\n",
       "      <td>physical</td>\n",
       "      <td>skimmer</td>\n",
       "      <td>victim public area</td>\n",
       "      <td>customer</td>\n",
       "      <td>terminal</td>\n",
       "      <td>atm</td>\n",
       "      <td>0.0</td>\n",
       "      <td>NaN</td>\n",
       "      <td>NaN</td>\n",
       "      <td>NaN</td>\n",
       "      <td>NaN</td>\n",
       "      <td>0</td>\n",
       "    </tr>\n",
       "    <tr>\n",
       "      <th>3</th>\n",
       "      <td>OH</td>\n",
       "      <td>government</td>\n",
       "      <td>3.0</td>\n",
       "      <td>2015</td>\n",
       "      <td>confidentiality</td>\n",
       "      <td>data loss</td>\n",
       "      <td>NaN</td>\n",
       "      <td>yes</td>\n",
       "      <td>error</td>\n",
       "      <td>other</td>\n",
       "      <td>other</td>\n",
       "      <td>customer</td>\n",
       "      <td>media</td>\n",
       "      <td>disk media</td>\n",
       "      <td>0.0</td>\n",
       "      <td>NaN</td>\n",
       "      <td>NaN</td>\n",
       "      <td>NaN</td>\n",
       "      <td>NaN</td>\n",
       "      <td>0</td>\n",
       "    </tr>\n",
       "    <tr>\n",
       "      <th>4</th>\n",
       "      <td>Other</td>\n",
       "      <td>retail trade</td>\n",
       "      <td>1.0</td>\n",
       "      <td>2017</td>\n",
       "      <td>integrity</td>\n",
       "      <td>hardware tampering</td>\n",
       "      <td>3.0</td>\n",
       "      <td>yes</td>\n",
       "      <td>physical</td>\n",
       "      <td>skimmer</td>\n",
       "      <td>victim public area</td>\n",
       "      <td>customer</td>\n",
       "      <td>terminal</td>\n",
       "      <td>gas terminal</td>\n",
       "      <td>0.0</td>\n",
       "      <td>2.0</td>\n",
       "      <td>NaN</td>\n",
       "      <td>NaN</td>\n",
       "      <td>2.0</td>\n",
       "      <td>0</td>\n",
       "    </tr>\n",
       "  </tbody>\n",
       "</table>\n",
       "</div>"
      ],
      "text/plain": [
       "   state               industry  n_employees incident_year        attribute  \\\n",
       "0     GA              education          4.0          2017  confidentiality   \n",
       "1     PA             healthcare          NaN          2018  confidentiality   \n",
       "2     NE  finance and insurance          6.0          2017  confidentiality   \n",
       "3     OH             government          3.0          2015  confidentiality   \n",
       "4  Other           retail trade          1.0          2017        integrity   \n",
       "\n",
       "           compromise  confidence data_disclosure    action   action_variety  \\\n",
       "0      alter behavior         3.0             yes    social         phishing   \n",
       "1           data loss         1.0             yes    misuse  knowledge abuse   \n",
       "2           data loss         2.0             yes  physical          skimmer   \n",
       "3           data loss         NaN             yes     error            other   \n",
       "4  hardware tampering         3.0             yes  physical          skimmer   \n",
       "\n",
       "        action_vector discovery_variety asset_group  asset_variety  \\\n",
       "0               email   law enforcement     server            mail   \n",
       "1     physical access             other     server        database   \n",
       "2  victim public area          customer    terminal            atm   \n",
       "3               other          customer       media     disk media   \n",
       "4  victim public area          customer    terminal   gas terminal   \n",
       "\n",
       "   availability_duration  discovery  containment  exfiltration  \\\n",
       "0                    0.0        6.0          NaN           NaN   \n",
       "1                    0.0        4.0          NaN           0.0   \n",
       "2                    0.0        NaN          NaN           NaN   \n",
       "3                    0.0        NaN          NaN           NaN   \n",
       "4                    0.0        2.0          NaN           NaN   \n",
       "\n",
       "   time_compromise  actor  \n",
       "0              NaN      0  \n",
       "1              2.0      0  \n",
       "2              NaN      0  \n",
       "3              NaN      0  \n",
       "4              2.0      0  "
      ]
     },
     "execution_count": 31,
     "metadata": {},
     "output_type": "execute_result"
    }
   ],
   "source": [
    "df_int.head()"
   ]
  },
  {
   "cell_type": "code",
   "execution_count": null,
   "metadata": {},
   "outputs": [],
   "source": []
  },
  {
   "cell_type": "code",
   "execution_count": 32,
   "metadata": {},
   "outputs": [],
   "source": [
    "df_int['n_employees'].interpolate(method='pad', limit=6, limit_direction='both', inplace=True)"
   ]
  },
  {
   "cell_type": "code",
   "execution_count": 33,
   "metadata": {},
   "outputs": [],
   "source": [
    "df_int['confidence'].interpolate(method='pad', limit=12, limit_direction='both', inplace=True)"
   ]
  },
  {
   "cell_type": "code",
   "execution_count": 34,
   "metadata": {},
   "outputs": [],
   "source": [
    "df_int['availability_duration'].interpolate(method='pad', limit=6, limit_direction='both', inplace=True)"
   ]
  },
  {
   "cell_type": "code",
   "execution_count": 35,
   "metadata": {},
   "outputs": [],
   "source": [
    "df_int['data_disclosure'].interpolate(method='pad', limit=6, limit_direction='both', inplace=True)"
   ]
  },
  {
   "cell_type": "code",
   "execution_count": 36,
   "metadata": {},
   "outputs": [],
   "source": [
    "df_int['containment'].fillna(-999, inplace=True)"
   ]
  },
  {
   "cell_type": "code",
   "execution_count": 37,
   "metadata": {},
   "outputs": [],
   "source": [
    "df_int['exfiltration'].fillna(-999, inplace=True)"
   ]
  },
  {
   "cell_type": "code",
   "execution_count": 38,
   "metadata": {},
   "outputs": [],
   "source": [
    "df_int['time_compromise'].fillna(-999, inplace=True)"
   ]
  },
  {
   "cell_type": "code",
   "execution_count": 39,
   "metadata": {},
   "outputs": [],
   "source": [
    "df_int['discovery'].fillna(-999, inplace=True)"
   ]
  },
  {
   "cell_type": "code",
   "execution_count": 40,
   "metadata": {},
   "outputs": [
    {
     "name": "stdout",
     "output_type": "stream",
     "text": [
      "Your selected dataframe has 20 columns.\n",
      "There are 1 columns that have missing values.\n"
     ]
    },
    {
     "data": {
      "text/html": [
       "<div>\n",
       "<style scoped>\n",
       "    .dataframe tbody tr th:only-of-type {\n",
       "        vertical-align: middle;\n",
       "    }\n",
       "\n",
       "    .dataframe tbody tr th {\n",
       "        vertical-align: top;\n",
       "    }\n",
       "\n",
       "    .dataframe thead th {\n",
       "        text-align: right;\n",
       "    }\n",
       "</style>\n",
       "<table border=\"1\" class=\"dataframe\">\n",
       "  <thead>\n",
       "    <tr style=\"text-align: right;\">\n",
       "      <th></th>\n",
       "      <th>Missing Values</th>\n",
       "      <th>% of Total Values</th>\n",
       "    </tr>\n",
       "  </thead>\n",
       "  <tbody>\n",
       "    <tr>\n",
       "      <th>confidence</th>\n",
       "      <td>20</td>\n",
       "      <td>1.1</td>\n",
       "    </tr>\n",
       "  </tbody>\n",
       "</table>\n",
       "</div>"
      ],
      "text/plain": [
       "            Missing Values  % of Total Values\n",
       "confidence              20                1.1"
      ]
     },
     "execution_count": 40,
     "metadata": {},
     "output_type": "execute_result"
    }
   ],
   "source": [
    "missing_table(df_int)"
   ]
  },
  {
   "cell_type": "code",
   "execution_count": 41,
   "metadata": {},
   "outputs": [],
   "source": [
    "df_int['confidence'].interpolate(method='pad', limit=12, limit_direction='both', inplace=True)"
   ]
  },
  {
   "cell_type": "code",
   "execution_count": 42,
   "metadata": {},
   "outputs": [
    {
     "name": "stdout",
     "output_type": "stream",
     "text": [
      "Your selected dataframe has 20 columns.\n",
      "There are 0 columns that have missing values.\n"
     ]
    },
    {
     "data": {
      "text/html": [
       "<div>\n",
       "<style scoped>\n",
       "    .dataframe tbody tr th:only-of-type {\n",
       "        vertical-align: middle;\n",
       "    }\n",
       "\n",
       "    .dataframe tbody tr th {\n",
       "        vertical-align: top;\n",
       "    }\n",
       "\n",
       "    .dataframe thead th {\n",
       "        text-align: right;\n",
       "    }\n",
       "</style>\n",
       "<table border=\"1\" class=\"dataframe\">\n",
       "  <thead>\n",
       "    <tr style=\"text-align: right;\">\n",
       "      <th></th>\n",
       "      <th>Missing Values</th>\n",
       "      <th>% of Total Values</th>\n",
       "    </tr>\n",
       "  </thead>\n",
       "  <tbody>\n",
       "  </tbody>\n",
       "</table>\n",
       "</div>"
      ],
      "text/plain": [
       "Empty DataFrame\n",
       "Columns: [Missing Values, % of Total Values]\n",
       "Index: []"
      ]
     },
     "execution_count": 42,
     "metadata": {},
     "output_type": "execute_result"
    }
   ],
   "source": [
    "missing_table(df_int)"
   ]
  },
  {
   "cell_type": "code",
   "execution_count": 43,
   "metadata": {},
   "outputs": [
    {
     "data": {
      "text/html": [
       "<div>\n",
       "<style scoped>\n",
       "    .dataframe tbody tr th:only-of-type {\n",
       "        vertical-align: middle;\n",
       "    }\n",
       "\n",
       "    .dataframe tbody tr th {\n",
       "        vertical-align: top;\n",
       "    }\n",
       "\n",
       "    .dataframe thead th {\n",
       "        text-align: right;\n",
       "    }\n",
       "</style>\n",
       "<table border=\"1\" class=\"dataframe\">\n",
       "  <thead>\n",
       "    <tr style=\"text-align: right;\">\n",
       "      <th></th>\n",
       "      <th>state</th>\n",
       "      <th>industry</th>\n",
       "      <th>n_employees</th>\n",
       "      <th>incident_year</th>\n",
       "      <th>attribute</th>\n",
       "      <th>compromise</th>\n",
       "      <th>confidence</th>\n",
       "      <th>data_disclosure</th>\n",
       "      <th>action</th>\n",
       "      <th>action_variety</th>\n",
       "      <th>action_vector</th>\n",
       "      <th>discovery_variety</th>\n",
       "      <th>asset_group</th>\n",
       "      <th>asset_variety</th>\n",
       "      <th>availability_duration</th>\n",
       "      <th>discovery</th>\n",
       "      <th>containment</th>\n",
       "      <th>exfiltration</th>\n",
       "      <th>time_compromise</th>\n",
       "      <th>actor</th>\n",
       "    </tr>\n",
       "  </thead>\n",
       "  <tbody>\n",
       "    <tr>\n",
       "      <th>0</th>\n",
       "      <td>GA</td>\n",
       "      <td>education</td>\n",
       "      <td>4.0</td>\n",
       "      <td>2017</td>\n",
       "      <td>confidentiality</td>\n",
       "      <td>alter behavior</td>\n",
       "      <td>3.0</td>\n",
       "      <td>yes</td>\n",
       "      <td>social</td>\n",
       "      <td>phishing</td>\n",
       "      <td>email</td>\n",
       "      <td>law enforcement</td>\n",
       "      <td>server</td>\n",
       "      <td>mail</td>\n",
       "      <td>0.0</td>\n",
       "      <td>6.0</td>\n",
       "      <td>-999.0</td>\n",
       "      <td>-999.0</td>\n",
       "      <td>-999.0</td>\n",
       "      <td>0</td>\n",
       "    </tr>\n",
       "    <tr>\n",
       "      <th>1</th>\n",
       "      <td>PA</td>\n",
       "      <td>healthcare</td>\n",
       "      <td>4.0</td>\n",
       "      <td>2018</td>\n",
       "      <td>confidentiality</td>\n",
       "      <td>data loss</td>\n",
       "      <td>1.0</td>\n",
       "      <td>yes</td>\n",
       "      <td>misuse</td>\n",
       "      <td>knowledge abuse</td>\n",
       "      <td>physical access</td>\n",
       "      <td>other</td>\n",
       "      <td>server</td>\n",
       "      <td>database</td>\n",
       "      <td>0.0</td>\n",
       "      <td>4.0</td>\n",
       "      <td>-999.0</td>\n",
       "      <td>0.0</td>\n",
       "      <td>2.0</td>\n",
       "      <td>0</td>\n",
       "    </tr>\n",
       "    <tr>\n",
       "      <th>2</th>\n",
       "      <td>NE</td>\n",
       "      <td>finance and insurance</td>\n",
       "      <td>6.0</td>\n",
       "      <td>2017</td>\n",
       "      <td>confidentiality</td>\n",
       "      <td>data loss</td>\n",
       "      <td>2.0</td>\n",
       "      <td>yes</td>\n",
       "      <td>physical</td>\n",
       "      <td>skimmer</td>\n",
       "      <td>victim public area</td>\n",
       "      <td>customer</td>\n",
       "      <td>terminal</td>\n",
       "      <td>atm</td>\n",
       "      <td>0.0</td>\n",
       "      <td>-999.0</td>\n",
       "      <td>-999.0</td>\n",
       "      <td>-999.0</td>\n",
       "      <td>-999.0</td>\n",
       "      <td>0</td>\n",
       "    </tr>\n",
       "    <tr>\n",
       "      <th>3</th>\n",
       "      <td>OH</td>\n",
       "      <td>government</td>\n",
       "      <td>3.0</td>\n",
       "      <td>2015</td>\n",
       "      <td>confidentiality</td>\n",
       "      <td>data loss</td>\n",
       "      <td>2.0</td>\n",
       "      <td>yes</td>\n",
       "      <td>error</td>\n",
       "      <td>other</td>\n",
       "      <td>other</td>\n",
       "      <td>customer</td>\n",
       "      <td>media</td>\n",
       "      <td>disk media</td>\n",
       "      <td>0.0</td>\n",
       "      <td>-999.0</td>\n",
       "      <td>-999.0</td>\n",
       "      <td>-999.0</td>\n",
       "      <td>-999.0</td>\n",
       "      <td>0</td>\n",
       "    </tr>\n",
       "    <tr>\n",
       "      <th>4</th>\n",
       "      <td>Other</td>\n",
       "      <td>retail trade</td>\n",
       "      <td>1.0</td>\n",
       "      <td>2017</td>\n",
       "      <td>integrity</td>\n",
       "      <td>hardware tampering</td>\n",
       "      <td>3.0</td>\n",
       "      <td>yes</td>\n",
       "      <td>physical</td>\n",
       "      <td>skimmer</td>\n",
       "      <td>victim public area</td>\n",
       "      <td>customer</td>\n",
       "      <td>terminal</td>\n",
       "      <td>gas terminal</td>\n",
       "      <td>0.0</td>\n",
       "      <td>2.0</td>\n",
       "      <td>-999.0</td>\n",
       "      <td>-999.0</td>\n",
       "      <td>2.0</td>\n",
       "      <td>0</td>\n",
       "    </tr>\n",
       "  </tbody>\n",
       "</table>\n",
       "</div>"
      ],
      "text/plain": [
       "   state               industry  n_employees incident_year        attribute  \\\n",
       "0     GA              education          4.0          2017  confidentiality   \n",
       "1     PA             healthcare          4.0          2018  confidentiality   \n",
       "2     NE  finance and insurance          6.0          2017  confidentiality   \n",
       "3     OH             government          3.0          2015  confidentiality   \n",
       "4  Other           retail trade          1.0          2017        integrity   \n",
       "\n",
       "           compromise  confidence data_disclosure    action   action_variety  \\\n",
       "0      alter behavior         3.0             yes    social         phishing   \n",
       "1           data loss         1.0             yes    misuse  knowledge abuse   \n",
       "2           data loss         2.0             yes  physical          skimmer   \n",
       "3           data loss         2.0             yes     error            other   \n",
       "4  hardware tampering         3.0             yes  physical          skimmer   \n",
       "\n",
       "        action_vector discovery_variety asset_group  asset_variety  \\\n",
       "0               email   law enforcement     server            mail   \n",
       "1     physical access             other     server        database   \n",
       "2  victim public area          customer    terminal            atm   \n",
       "3               other          customer       media     disk media   \n",
       "4  victim public area          customer    terminal   gas terminal   \n",
       "\n",
       "   availability_duration  discovery  containment  exfiltration  \\\n",
       "0                    0.0        6.0       -999.0        -999.0   \n",
       "1                    0.0        4.0       -999.0           0.0   \n",
       "2                    0.0     -999.0       -999.0        -999.0   \n",
       "3                    0.0     -999.0       -999.0        -999.0   \n",
       "4                    0.0        2.0       -999.0        -999.0   \n",
       "\n",
       "   time_compromise  actor  \n",
       "0           -999.0      0  \n",
       "1              2.0      0  \n",
       "2           -999.0      0  \n",
       "3           -999.0      0  \n",
       "4              2.0      0  "
      ]
     },
     "execution_count": 43,
     "metadata": {},
     "output_type": "execute_result"
    }
   ],
   "source": [
    "df_int.head()"
   ]
  },
  {
   "cell_type": "code",
   "execution_count": 44,
   "metadata": {},
   "outputs": [
    {
     "name": "stdout",
     "output_type": "stream",
     "text": [
      "<class 'pandas.core.frame.DataFrame'>\n",
      "RangeIndex: 1806 entries, 0 to 1805\n",
      "Data columns (total 20 columns):\n",
      " #   Column                 Non-Null Count  Dtype  \n",
      "---  ------                 --------------  -----  \n",
      " 0   state                  1806 non-null   object \n",
      " 1   industry               1806 non-null   object \n",
      " 2   n_employees            1806 non-null   float64\n",
      " 3   incident_year          1806 non-null   object \n",
      " 4   attribute              1806 non-null   object \n",
      " 5   compromise             1806 non-null   object \n",
      " 6   confidence             1806 non-null   float64\n",
      " 7   data_disclosure        1806 non-null   object \n",
      " 8   action                 1806 non-null   object \n",
      " 9   action_variety         1806 non-null   object \n",
      " 10  action_vector          1806 non-null   object \n",
      " 11  discovery_variety      1806 non-null   object \n",
      " 12  asset_group            1806 non-null   object \n",
      " 13  asset_variety          1806 non-null   object \n",
      " 14  availability_duration  1806 non-null   float64\n",
      " 15  discovery              1806 non-null   float64\n",
      " 16  containment            1806 non-null   float64\n",
      " 17  exfiltration           1806 non-null   float64\n",
      " 18  time_compromise        1806 non-null   float64\n",
      " 19  actor                  1806 non-null   int64  \n",
      "dtypes: float64(7), int64(1), object(12)\n",
      "memory usage: 282.3+ KB\n"
     ]
    }
   ],
   "source": [
    "df_int['incident_year']=df_int.incident_year.astype('object')\n",
    "\n",
    "df_int.info()"
   ]
  },
  {
   "cell_type": "code",
   "execution_count": 45,
   "metadata": {},
   "outputs": [],
   "source": [
    "df_dum=pd.get_dummies(df_int)"
   ]
  },
  {
   "cell_type": "code",
   "execution_count": 46,
   "metadata": {},
   "outputs": [
    {
     "data": {
      "text/plain": [
       "(1806, 255)"
      ]
     },
     "execution_count": 46,
     "metadata": {},
     "output_type": "execute_result"
    }
   ],
   "source": [
    "df_dum.shape"
   ]
  },
  {
   "cell_type": "code",
   "execution_count": null,
   "metadata": {},
   "outputs": [],
   "source": []
  },
  {
   "cell_type": "code",
   "execution_count": 47,
   "metadata": {},
   "outputs": [],
   "source": [
    "X=df_dum.drop(columns='actor')\n",
    "y=df_dum.actor"
   ]
  },
  {
   "cell_type": "code",
   "execution_count": 48,
   "metadata": {},
   "outputs": [
    {
     "data": {
      "text/plain": [
       "asset_variety_ wlan               0\n",
       "incident_year_2004                0\n",
       "incident_year_2017                0\n",
       "incident_year_2016                0\n",
       "incident_year_2015                0\n",
       "                                 ..\n",
       "action_vector_physical access     0\n",
       "action_vector_personal vehicle    0\n",
       "action_vector_other               0\n",
       "action_vector_non-corporate       0\n",
       "n_employees                       0\n",
       "Length: 254, dtype: int64"
      ]
     },
     "execution_count": 48,
     "metadata": {},
     "output_type": "execute_result"
    }
   ],
   "source": [
    "np.isnan(X).sum().sort_values(ascending=False)"
   ]
  },
  {
   "cell_type": "code",
   "execution_count": 49,
   "metadata": {},
   "outputs": [],
   "source": [
    "from sklearn.model_selection import train_test_split\n"
   ]
  },
  {
   "cell_type": "code",
   "execution_count": 50,
   "metadata": {},
   "outputs": [],
   "source": [
    "from sklearn.metrics import roc_curve, roc_auc_score,accuracy_score,precision_score,classification_report, confusion_matrix"
   ]
  },
  {
   "cell_type": "code",
   "execution_count": 51,
   "metadata": {},
   "outputs": [],
   "source": [
    "X_train, X_test, y_train, y_test = train_test_split(X, y, test_size=0.2, random_state=1, stratify=y)\n",
    "    \n",
    "X_train_val, X_val, y_train_val, y_val = train_test_split(X_train, y_train, test_size=0.25, random_state=1) # 0.25 x 0.8 = 0.2"
   ]
  },
  {
   "cell_type": "code",
   "execution_count": 52,
   "metadata": {},
   "outputs": [],
   "source": [
    "from sklearn.ensemble import RandomForestClassifier"
   ]
  },
  {
   "cell_type": "code",
   "execution_count": 53,
   "metadata": {},
   "outputs": [],
   "source": [
    "rfc=RandomForestClassifier()"
   ]
  },
  {
   "cell_type": "code",
   "execution_count": 54,
   "metadata": {},
   "outputs": [
    {
     "data": {
      "text/plain": [
       "RandomForestClassifier()"
      ]
     },
     "execution_count": 54,
     "metadata": {},
     "output_type": "execute_result"
    }
   ],
   "source": [
    "rfc.fit(X_train_val, y_train_val)"
   ]
  },
  {
   "cell_type": "code",
   "execution_count": 55,
   "metadata": {},
   "outputs": [],
   "source": [
    "predictions=rfc.predict(X_val)"
   ]
  },
  {
   "cell_type": "code",
   "execution_count": 56,
   "metadata": {},
   "outputs": [
    {
     "name": "stdout",
     "output_type": "stream",
     "text": [
      "Classifcation report:\n",
      "               precision    recall  f1-score   support\n",
      "\n",
      "           0       0.98      1.00      0.99       349\n",
      "           1       1.00      0.33      0.50        12\n",
      "\n",
      "    accuracy                           0.98       361\n",
      "   macro avg       0.99      0.67      0.74       361\n",
      "weighted avg       0.98      0.98      0.97       361\n",
      "\n",
      "Confusion matrix:\n",
      " [[349   0]\n",
      " [  8   4]]\n"
     ]
    }
   ],
   "source": [
    "# Obtain the results from the classification report and confusion matrix \n",
    "print('Classifcation report:\\n', classification_report(y_val, predictions))\n",
    "conf_mat = confusion_matrix(y_val, predictions)\n",
    "print('Confusion matrix:\\n', conf_mat)"
   ]
  },
  {
   "cell_type": "code",
   "execution_count": null,
   "metadata": {},
   "outputs": [],
   "source": []
  },
  {
   "cell_type": "code",
   "execution_count": null,
   "metadata": {},
   "outputs": [],
   "source": []
  },
  {
   "cell_type": "code",
   "execution_count": null,
   "metadata": {},
   "outputs": [],
   "source": []
  },
  {
   "cell_type": "code",
   "execution_count": 57,
   "metadata": {},
   "outputs": [
    {
     "data": {
      "text/plain": [
       "<matplotlib.axes._subplots.AxesSubplot at 0x10eb5a700>"
      ]
     },
     "execution_count": 57,
     "metadata": {},
     "output_type": "execute_result"
    },
    {
     "data": {
      "image/png": "[encoded data removed]",
      "text/plain": [
       "<Figure size 1152x720 with 1 Axes>"
      ]
     },
     "metadata": {},
     "output_type": "display_data"
    }
   ],
   "source": [
    "plt.figure(figsize=(16, 10))\n",
    "feat_importances = pd.Series(rfc.feature_importances_, index=X_train_val.columns)\n",
    "feat_importances.nlargest(25).plot(kind='barh')"
   ]
  },
  {
   "cell_type": "code",
   "execution_count": 58,
   "metadata": {},
   "outputs": [
    {
     "data": {
      "text/plain": [
       "RandomForestClassifier()"
      ]
     },
     "execution_count": 58,
     "metadata": {},
     "output_type": "execute_result"
    }
   ],
   "source": [
    "rfc.fit(X_train, y_train)"
   ]
  },
  {
   "cell_type": "code",
   "execution_count": 59,
   "metadata": {},
   "outputs": [],
   "source": [
    "predictions=rfc.predict(X_test)"
   ]
  },
  {
   "cell_type": "code",
   "execution_count": 60,
   "metadata": {},
   "outputs": [
    {
     "name": "stdout",
     "output_type": "stream",
     "text": [
      "Classifcation report:\n",
      "               precision    recall  f1-score   support\n",
      "\n",
      "           0       0.98      1.00      0.99       352\n",
      "           1       1.00      0.30      0.46        10\n",
      "\n",
      "    accuracy                           0.98       362\n",
      "   macro avg       0.99      0.65      0.73       362\n",
      "weighted avg       0.98      0.98      0.98       362\n",
      "\n",
      "Confusion matrix:\n",
      " [[352   0]\n",
      " [  7   3]]\n"
     ]
    }
   ],
   "source": [
    "# Obtain the results from the classification report and confusion matrix \n",
    "print('Classifcation report:\\n', classification_report(y_test, predictions))\n",
    "conf_mat = confusion_matrix(y_test, predictions)\n",
    "print('Confusion matrix:\\n', conf_mat)"
   ]
  },
  {
   "cell_type": "markdown",
   "metadata": {},
   "source": [
    "## Resampling "
   ]
  },
  {
   "cell_type": "code",
   "execution_count": null,
   "metadata": {},
   "outputs": [],
   "source": []
  },
  {
   "cell_type": "code",
   "execution_count": 61,
   "metadata": {},
   "outputs": [
    {
     "data": {
      "text/plain": [
       "(1806, 20)"
      ]
     },
     "execution_count": 61,
     "metadata": {},
     "output_type": "execute_result"
    }
   ],
   "source": [
    "df_int.shape"
   ]
  },
  {
   "cell_type": "code",
   "execution_count": 62,
   "metadata": {},
   "outputs": [],
   "source": []
  },
  {
   "cell_type": "code",
   "execution_count": 63,
   "metadata": {},
   "outputs": [],
   "source": [
    "df_new=df_int.drop(columns=['state'])"
   ]
  },
  {
   "cell_type": "code",
   "execution_count": null,
   "metadata": {},
   "outputs": [],
   "source": []
  },
  {
   "cell_type": "code",
   "execution_count": 64,
   "metadata": {},
   "outputs": [],
   "source": [
    "df_new=pd.get_dummies(df_new)"
   ]
  },
  {
   "cell_type": "code",
   "execution_count": null,
   "metadata": {},
   "outputs": [],
   "source": []
  },
  {
   "cell_type": "code",
   "execution_count": 66,
   "metadata": {},
   "outputs": [],
   "source": [
    "X=df_new.drop(columns='actor')\n",
    "y=df_new.actor"
   ]
  },
  {
   "cell_type": "code",
   "execution_count": 67,
   "metadata": {},
   "outputs": [],
   "source": [
    "from sklearn.model_selection import train_test_split"
   ]
  },
  {
   "cell_type": "code",
   "execution_count": 68,
   "metadata": {},
   "outputs": [],
   "source": [
    "X_train, X_test, y_train, y_test = train_test_split(X, y, test_size=0.2, random_state=1, stratify=y)\n",
    "    \n",
    "X_train_val, X_val, y_train_val, y_val = train_test_split(X_train, y_train, test_size=0.25, random_state=1) # 0.25 x 0.8 = 0.2"
   ]
  },
  {
   "cell_type": "code",
   "execution_count": 446,
   "metadata": {},
   "outputs": [],
   "source": [
    "from sklearn.metrics import f1_score,roc_curve, roc_auc_score,accuracy_score,precision_score,classification_report, confusion_matrix"
   ]
  },
  {
   "cell_type": "markdown",
   "metadata": {},
   "source": [
    "## Random Under Sampler"
   ]
  },
  {
   "cell_type": "code",
   "execution_count": 70,
   "metadata": {},
   "outputs": [],
   "source": [
    "from imblearn.under_sampling import RandomUnderSampler"
   ]
  },
  {
   "cell_type": "code",
   "execution_count": 71,
   "metadata": {},
   "outputs": [],
   "source": [
    "rus=RandomUnderSampler(random_state=0)"
   ]
  },
  {
   "cell_type": "code",
   "execution_count": 72,
   "metadata": {},
   "outputs": [],
   "source": [
    "X_rus, y_rus=rus.fit_sample(X_train_val,y_train_val)"
   ]
  },
  {
   "cell_type": "code",
   "execution_count": 73,
   "metadata": {},
   "outputs": [],
   "source": [
    "y_ru=pd.DataFrame(y_rus)"
   ]
  },
  {
   "cell_type": "code",
   "execution_count": 74,
   "metadata": {},
   "outputs": [
    {
     "data": {
      "text/plain": [
       "1    29\n",
       "0    29\n",
       "Name: actor, dtype: int64"
      ]
     },
     "execution_count": 74,
     "metadata": {},
     "output_type": "execute_result"
    }
   ],
   "source": [
    "y_ru['actor'].value_counts()"
   ]
  },
  {
   "cell_type": "code",
   "execution_count": null,
   "metadata": {},
   "outputs": [],
   "source": []
  },
  {
   "cell_type": "code",
   "execution_count": 75,
   "metadata": {},
   "outputs": [],
   "source": [
    "from sklearn.ensemble import RandomForestClassifier"
   ]
  },
  {
   "cell_type": "code",
   "execution_count": 76,
   "metadata": {},
   "outputs": [],
   "source": [
    "rf=RandomForestClassifier()"
   ]
  },
  {
   "cell_type": "code",
   "execution_count": 77,
   "metadata": {},
   "outputs": [
    {
     "data": {
      "text/plain": [
       "RandomForestClassifier()"
      ]
     },
     "execution_count": 77,
     "metadata": {},
     "output_type": "execute_result"
    }
   ],
   "source": [
    "rf.fit(X_rus, y_rus)"
   ]
  },
  {
   "cell_type": "code",
   "execution_count": 78,
   "metadata": {},
   "outputs": [],
   "source": [
    "prediction=rf.predict(X_val)"
   ]
  },
  {
   "cell_type": "code",
   "execution_count": 79,
   "metadata": {},
   "outputs": [
    {
     "data": {
      "image/png": "[encoded data removed]",
      "text/plain": [
       "<Figure size 576x576 with 1 Axes>"
      ]
     },
     "metadata": {},
     "output_type": "display_data"
    }
   ],
   "source": [
    "cm = confusion_matrix(y_val, prediction)\n",
    "\n",
    "fig, ax = plt.subplots(figsize=(8, 8))\n",
    "ax.imshow(cm)\n",
    "ax.grid(False)\n",
    "ax.xaxis.set(ticks=(0, 1), ticklabels=('Predicted NonState Attacks', 'Predicted State-affiliated Attacks'))\n",
    "ax.yaxis.set(ticks=(0, 1), ticklabels=('Actual NonState Attacks', 'Actual State-affiliated Attacks'))\n",
    "ax.set_ylim(1.5, -0.5)\n",
    "for i in range(2):\n",
    "    for j in range(2):\n",
    "        ax.text(j, i, cm[i, j], ha='center', va='center', color='red')\n",
    "plt.show()"
   ]
  },
  {
   "cell_type": "code",
   "execution_count": 80,
   "metadata": {},
   "outputs": [
    {
     "name": "stdout",
     "output_type": "stream",
     "text": [
      "              precision    recall  f1-score   support\n",
      "\n",
      "           0       0.99      0.84      0.91       349\n",
      "           1       0.15      0.83      0.25        12\n",
      "\n",
      "    accuracy                           0.84       361\n",
      "   macro avg       0.57      0.84      0.58       361\n",
      "weighted avg       0.97      0.84      0.89       361\n",
      "\n"
     ]
    }
   ],
   "source": [
    "print(classification_report(y_val,prediction))"
   ]
  },
  {
   "cell_type": "markdown",
   "metadata": {},
   "source": [
    "## Random Over Sampling"
   ]
  },
  {
   "cell_type": "code",
   "execution_count": 483,
   "metadata": {},
   "outputs": [],
   "source": [
    "from imblearn.over_sampling import RandomOverSampler"
   ]
  },
  {
   "cell_type": "code",
   "execution_count": 484,
   "metadata": {},
   "outputs": [],
   "source": [
    "ros=RandomOverSampler(random_state=0)"
   ]
  },
  {
   "cell_type": "code",
   "execution_count": 485,
   "metadata": {},
   "outputs": [],
   "source": [
    "X_ros, y_ros=ros.fit_sample(X_train_val,y_train_val)"
   ]
  },
  {
   "cell_type": "code",
   "execution_count": 486,
   "metadata": {},
   "outputs": [],
   "source": [
    "y_ro=pd.DataFrame(y_ros)"
   ]
  },
  {
   "cell_type": "code",
   "execution_count": 487,
   "metadata": {},
   "outputs": [
    {
     "data": {
      "text/plain": [
       "1    1054\n",
       "0    1054\n",
       "Name: actor, dtype: int64"
      ]
     },
     "execution_count": 487,
     "metadata": {},
     "output_type": "execute_result"
    }
   ],
   "source": [
    "y_ro['actor'].value_counts()"
   ]
  },
  {
   "cell_type": "code",
   "execution_count": 488,
   "metadata": {},
   "outputs": [],
   "source": [
    "rf=RandomForestClassifier()"
   ]
  },
  {
   "cell_type": "code",
   "execution_count": 489,
   "metadata": {},
   "outputs": [
    {
     "data": {
      "text/plain": [
       "RandomForestClassifier()"
      ]
     },
     "execution_count": 489,
     "metadata": {},
     "output_type": "execute_result"
    }
   ],
   "source": [
    "rf.fit(X_ros, y_ros)"
   ]
  },
  {
   "cell_type": "code",
   "execution_count": 490,
   "metadata": {},
   "outputs": [],
   "source": [
    "prediction=rf.predict(X_val)"
   ]
  },
  {
   "cell_type": "code",
   "execution_count": 491,
   "metadata": {},
   "outputs": [
    {
     "data": {
      "image/png": "[encoded data removed]",
      "text/plain": [
       "<Figure size 576x576 with 1 Axes>"
      ]
     },
     "metadata": {},
     "output_type": "display_data"
    }
   ],
   "source": [
    "cm = confusion_matrix(y_val, prediction)\n",
    "\n",
    "fig, ax = plt.subplots(figsize=(8, 8))\n",
    "ax.imshow(cm)\n",
    "ax.grid(False)\n",
    "ax.xaxis.set(ticks=(0, 1), ticklabels=('Predicted NonState Attacks', 'Predicted State-affiliated Attacks'))\n",
    "ax.yaxis.set(ticks=(0, 1), ticklabels=('Actual NonState Attacks', 'Actual State-affiliated Attacks'))\n",
    "ax.set_ylim(1.5, -0.5)\n",
    "for i in range(2):\n",
    "    for j in range(2):\n",
    "        ax.text(j, i, cm[i, j], ha='center', va='center', color='red')\n",
    "plt.show()"
   ]
  },
  {
   "cell_type": "code",
   "execution_count": 492,
   "metadata": {},
   "outputs": [
    {
     "name": "stdout",
     "output_type": "stream",
     "text": [
      "              precision    recall  f1-score   support\n",
      "\n",
      "           0       0.98      1.00      0.99       349\n",
      "           1       0.80      0.33      0.47        12\n",
      "\n",
      "    accuracy                           0.98       361\n",
      "   macro avg       0.89      0.67      0.73       361\n",
      "weighted avg       0.97      0.98      0.97       361\n",
      "\n"
     ]
    }
   ],
   "source": [
    "print(classification_report(y_val,prediction))"
   ]
  },
  {
   "cell_type": "code",
   "execution_count": 476,
   "metadata": {},
   "outputs": [],
   "source": [
    "X_ros, y_ros=ros.fit_sample(X_train,y_train)"
   ]
  },
  {
   "cell_type": "code",
   "execution_count": 477,
   "metadata": {},
   "outputs": [
    {
     "data": {
      "text/plain": [
       "RandomForestClassifier()"
      ]
     },
     "execution_count": 477,
     "metadata": {},
     "output_type": "execute_result"
    }
   ],
   "source": [
    "rf.fit(X_ros, y_ros)"
   ]
  },
  {
   "cell_type": "code",
   "execution_count": 478,
   "metadata": {},
   "outputs": [],
   "source": [
    "prediction=rf.predict(X_test)"
   ]
  },
  {
   "cell_type": "code",
   "execution_count": 479,
   "metadata": {},
   "outputs": [
    {
     "data": {
      "image/png": "[encoded data removed]",
      "text/plain": [
       "<Figure size 576x576 with 1 Axes>"
      ]
     },
     "metadata": {},
     "output_type": "display_data"
    }
   ],
   "source": [
    "cm = confusion_matrix(y_test, prediction)\n",
    "\n",
    "fig, ax = plt.subplots(figsize=(8, 8))\n",
    "ax.imshow(cm)\n",
    "ax.grid(False)\n",
    "ax.xaxis.set(ticks=(0, 1), ticklabels=('Predicted NonState Attacks', 'Predicted State-affiliated Attacks'))\n",
    "ax.yaxis.set(ticks=(0, 1), ticklabels=('Actual NonState Attacks', 'Actual State-affiliated Attacks'))\n",
    "ax.set_ylim(1.5, -0.5)\n",
    "for i in range(2):\n",
    "    for j in range(2):\n",
    "        ax.text(j, i, cm[i, j], ha='center', va='center', color='red')\n",
    "plt.show()"
   ]
  },
  {
   "cell_type": "markdown",
   "metadata": {},
   "source": [
    "## SMOTE "
   ]
  },
  {
   "cell_type": "code",
   "execution_count": 515,
   "metadata": {},
   "outputs": [],
   "source": [
    "from imblearn.over_sampling import SMOTE"
   ]
  },
  {
   "cell_type": "code",
   "execution_count": 516,
   "metadata": {},
   "outputs": [],
   "source": [
    "smote=SMOTE(random_state=42)"
   ]
  },
  {
   "cell_type": "code",
   "execution_count": 517,
   "metadata": {},
   "outputs": [],
   "source": [
    "X_smote, y_smote=smote.fit_sample(X_train_val,y_train_val)"
   ]
  },
  {
   "cell_type": "code",
   "execution_count": 518,
   "metadata": {},
   "outputs": [],
   "source": [
    "y_sm=pd.DataFrame(y_smote)"
   ]
  },
  {
   "cell_type": "code",
   "execution_count": 519,
   "metadata": {},
   "outputs": [
    {
     "data": {
      "text/plain": [
       "1    1054\n",
       "0    1054\n",
       "Name: actor, dtype: int64"
      ]
     },
     "execution_count": 519,
     "metadata": {},
     "output_type": "execute_result"
    }
   ],
   "source": [
    "y_sm['actor'].value_counts()"
   ]
  },
  {
   "cell_type": "code",
   "execution_count": 520,
   "metadata": {},
   "outputs": [
    {
     "data": {
      "text/plain": [
       "RandomForestClassifier()"
      ]
     },
     "execution_count": 520,
     "metadata": {},
     "output_type": "execute_result"
    }
   ],
   "source": [
    "rf.fit(X_smote, y_smote)"
   ]
  },
  {
   "cell_type": "code",
   "execution_count": 525,
   "metadata": {},
   "outputs": [],
   "source": [
    "prediction=rf.predict(X_val)"
   ]
  },
  {
   "cell_type": "code",
   "execution_count": 526,
   "metadata": {},
   "outputs": [
    {
     "data": {
      "image/png": "[encoded data removed]",
      "text/plain": [
       "<Figure size 576x576 with 1 Axes>"
      ]
     },
     "metadata": {},
     "output_type": "display_data"
    }
   ],
   "source": [
    "cm = confusion_matrix(y_val, prediction)\n",
    "\n",
    "fig, ax = plt.subplots(figsize=(8, 8))\n",
    "ax.imshow(cm)\n",
    "ax.grid(False)\n",
    "ax.xaxis.set(ticks=(0, 1), ticklabels=('Predicted NonState Attacks', 'Predicted State-affiliated Attacks'))\n",
    "ax.yaxis.set(ticks=(0, 1), ticklabels=('Actual NonState Attacks', 'Actual State-affiliated Attacks'))\n",
    "ax.set_ylim(1.5, -0.5)\n",
    "for i in range(2):\n",
    "    for j in range(2):\n",
    "        ax.text(j, i, cm[i, j], ha='center', va='center', color='red')\n",
    "plt.show()"
   ]
  },
  {
   "cell_type": "code",
   "execution_count": 527,
   "metadata": {},
   "outputs": [
    {
     "name": "stdout",
     "output_type": "stream",
     "text": [
      "              precision    recall  f1-score   support\n",
      "\n",
      "           0       0.98      1.00      0.99       349\n",
      "           1       0.80      0.33      0.47        12\n",
      "\n",
      "    accuracy                           0.98       361\n",
      "   macro avg       0.89      0.67      0.73       361\n",
      "weighted avg       0.97      0.98      0.97       361\n",
      "\n"
     ]
    }
   ],
   "source": [
    "print(classification_report(y_val,prediction))"
   ]
  },
  {
   "cell_type": "code",
   "execution_count": null,
   "metadata": {},
   "outputs": [],
   "source": []
  },
  {
   "cell_type": "code",
   "execution_count": 501,
   "metadata": {},
   "outputs": [],
   "source": [
    "rf=RandomForestClassifier()"
   ]
  },
  {
   "cell_type": "code",
   "execution_count": 502,
   "metadata": {},
   "outputs": [],
   "source": [
    "X_smote, y_smote=smote.fit_sample(X_train,y_train)"
   ]
  },
  {
   "cell_type": "code",
   "execution_count": 503,
   "metadata": {},
   "outputs": [
    {
     "data": {
      "text/plain": [
       "RandomForestClassifier()"
      ]
     },
     "execution_count": 503,
     "metadata": {},
     "output_type": "execute_result"
    }
   ],
   "source": [
    "rf.fit(X_smote, y_smote)"
   ]
  },
  {
   "cell_type": "code",
   "execution_count": 504,
   "metadata": {},
   "outputs": [],
   "source": [
    "prediction=rf.predict(X_test)"
   ]
  },
  {
   "cell_type": "code",
   "execution_count": 505,
   "metadata": {},
   "outputs": [
    {
     "data": {
      "image/png": "[encoded data removed]",
      "text/plain": [
       "<Figure size 576x576 with 1 Axes>"
      ]
     },
     "metadata": {},
     "output_type": "display_data"
    }
   ],
   "source": [
    "cm = confusion_matrix(y_test, prediction)\n",
    "\n",
    "fig, ax = plt.subplots(figsize=(8, 8))\n",
    "ax.imshow(cm)\n",
    "ax.grid(False)\n",
    "ax.xaxis.set(ticks=(0, 1), ticklabels=('Predicted NonState Attacks', 'Predicted State-affiliated Attacks'))\n",
    "ax.yaxis.set(ticks=(0, 1), ticklabels=('Actual NonState Attacks', 'Actual State-affiliated Attacks'))\n",
    "ax.set_ylim(1.5, -0.5)\n",
    "for i in range(2):\n",
    "    for j in range(2):\n",
    "        ax.text(j, i, cm[i, j], ha='center', va='center', color='red')\n",
    "plt.show()"
   ]
  },
  {
   "cell_type": "markdown",
   "metadata": {},
   "source": [
    "## ADASYN"
   ]
  },
  {
   "cell_type": "code",
   "execution_count": 566,
   "metadata": {},
   "outputs": [],
   "source": [
    "from imblearn.over_sampling import ADASYN"
   ]
  },
  {
   "cell_type": "code",
   "execution_count": 567,
   "metadata": {},
   "outputs": [],
   "source": [
    "ada=ADASYN(random_state=0, n_neighbors=8)"
   ]
  },
  {
   "cell_type": "code",
   "execution_count": 568,
   "metadata": {},
   "outputs": [],
   "source": [
    "X_ada, y_ada=ada.fit_sample(X_train_val, y_train_val)"
   ]
  },
  {
   "cell_type": "code",
   "execution_count": 569,
   "metadata": {},
   "outputs": [],
   "source": [
    "rf=RandomForestClassifier(random_state=51,max_depth=16, n_estimators=400, max_features='log2')"
   ]
  },
  {
   "cell_type": "code",
   "execution_count": 570,
   "metadata": {},
   "outputs": [
    {
     "data": {
      "text/plain": [
       "RandomForestClassifier(max_depth=16, max_features='log2', n_estimators=400,\n",
       "                       random_state=51)"
      ]
     },
     "execution_count": 570,
     "metadata": {},
     "output_type": "execute_result"
    }
   ],
   "source": [
    "rf.fit(X_ada, y_ada)"
   ]
  },
  {
   "cell_type": "code",
   "execution_count": 571,
   "metadata": {},
   "outputs": [],
   "source": [
    "prediction=rf.predict(X_val)"
   ]
  },
  {
   "cell_type": "code",
   "execution_count": 572,
   "metadata": {},
   "outputs": [
    {
     "data": {
      "image/png": "[encoded data removed]",
      "text/plain": [
       "<Figure size 576x576 with 1 Axes>"
      ]
     },
     "metadata": {},
     "output_type": "display_data"
    }
   ],
   "source": [
    "cm = confusion_matrix(y_val, prediction)\n",
    "\n",
    "fig, ax = plt.subplots(figsize=(8, 8))\n",
    "ax.imshow(cm)\n",
    "ax.grid(False)\n",
    "ax.xaxis.set(ticks=(0, 1), ticklabels=('Predicted NonState Attacks', 'Predicted State-affiliated Attacks'))\n",
    "ax.yaxis.set(ticks=(0, 1), ticklabels=('Actual NonState Attacks', 'Actual State-affiliated Attacks'))\n",
    "ax.set_ylim(1.5, -0.5)\n",
    "for i in range(2):\n",
    "    for j in range(2):\n",
    "        ax.text(j, i, cm[i, j], ha='center', va='center', color='red')\n",
    "plt.show()"
   ]
  },
  {
   "cell_type": "code",
   "execution_count": 574,
   "metadata": {},
   "outputs": [
    {
     "name": "stdout",
     "output_type": "stream",
     "text": [
      "              precision    recall  f1-score   support\n",
      "\n",
      "           0       0.99      0.99      0.99       349\n",
      "           1       0.64      0.58      0.61        12\n",
      "\n",
      "    accuracy                           0.98       361\n",
      "   macro avg       0.81      0.79      0.80       361\n",
      "weighted avg       0.97      0.98      0.97       361\n",
      "\n"
     ]
    }
   ],
   "source": [
    "print(classification_report(y_val,prediction))"
   ]
  },
  {
   "cell_type": "code",
   "execution_count": 576,
   "metadata": {},
   "outputs": [],
   "source": [
    "prob=final_model.predict_proba(X_val)[:,1]"
   ]
  },
  {
   "cell_type": "code",
   "execution_count": 577,
   "metadata": {},
   "outputs": [
    {
     "data": {
      "text/plain": [
       "0.9395893027698186"
      ]
     },
     "execution_count": 577,
     "metadata": {},
     "output_type": "execute_result"
    }
   ],
   "source": [
    "fpr, tpr, thresholds  = roc_curve(y_val, prob) #Get the ROC Curve\n",
    "roc_auc_score(y_val, prob)"
   ]
  },
  {
   "cell_type": "code",
   "execution_count": 578,
   "metadata": {},
   "outputs": [
    {
     "data": {
      "image/png": "[encoded data removed]",
      "text/plain": [
       "<Figure size 576x360 with 1 Axes>"
      ]
     },
     "metadata": {},
     "output_type": "display_data"
    }
   ],
   "source": [
    "plt.figure(figsize=(8,5))\n",
    "# Plot ROC curve\n",
    "plt.plot([0, 1], [0, 1], 'k--')\n",
    "plt.plot(fpr, tpr)\n",
    "plt.xlabel('False Positive Rate = 1 - Specificity Score')\n",
    "plt.ylabel('True Positive Rate  = Recall Score')\n",
    "plt.title('ROC Curve')\n",
    "plt.show()"
   ]
  },
  {
   "cell_type": "code",
   "execution_count": 579,
   "metadata": {},
   "outputs": [],
   "source": [
    "threshold=arange(0,1,0.001)"
   ]
  },
  {
   "cell_type": "code",
   "execution_count": 581,
   "metadata": {},
   "outputs": [],
   "source": [
    "scores=[f1_score(y_val, to_label(prob,t)) for t in threshold]"
   ]
  },
  {
   "cell_type": "code",
   "execution_count": 582,
   "metadata": {},
   "outputs": [],
   "source": [
    "ix=argmax(scores)"
   ]
  },
  {
   "cell_type": "code",
   "execution_count": 586,
   "metadata": {},
   "outputs": [
    {
     "name": "stdout",
     "output_type": "stream",
     "text": [
      "Threshold=0.646, F-Score=0.60000\n"
     ]
    }
   ],
   "source": [
    "print('Threshold=%.3f, F-Score=%.5f' % (threshold[ix], scores[ix]))"
   ]
  },
  {
   "cell_type": "code",
   "execution_count": 588,
   "metadata": {},
   "outputs": [],
   "source": [
    "def adjusted_classes(prob, t):\n",
    "    \"\"\"\n",
    "    This function adjusts class predictions based on the prediction threshold (t).\n",
    "    Will only work for binary classification problems.\n",
    "    \"\"\"\n",
    "    return [1 if y >= t else 0 for y in prob]\n",
    "\n",
    "def precision_recall_threshold(fpr, tpr, thresholds, t=0.5):\n",
    "    \"\"\"\n",
    "    plots the precision recall curve and shows the current value for each\n",
    "    by identifying the classifier's threshold (t).\n",
    "    \"\"\"\n",
    "    \n",
    "    # generate new class predictions based on the adjusted_classes\n",
    "    # function above and view the resulting confusion matrix.\n",
    "    y_pred_adj = adjusted_classes(prob, t)\n",
    "    print(pd.DataFrame(confusion_matrix(y_val, y_pred_adj),\n",
    "                       columns=['pred_neg', 'pred_pos'], \n",
    "                       index=['neg', 'pos']))\n",
    "    \n",
    "    # plot the curve\n",
    "    plt.figure(figsize=(8,8))\n",
    "    plt.title(\"Precision and Recall curve ^ = current threshold\")\n",
    "    plt.step(tpr, fpr, color='b', alpha=0.2,\n",
    "             where='post')\n",
    "    plt.fill_between(tpr, fpr, step='post', alpha=0.2,\n",
    "                     color='b')\n",
    "    plt.ylim([0.05, 1.01]);\n",
    "    plt.xlim([0.05, 1.01]);\n",
    "    plt.xlabel('Recall');\n",
    "    plt.ylabel('Precision');\n",
    "    \n",
    "    # plot the current threshold on the line\n",
    "    close_default_clf = np.argmin(np.abs(thresholds - t))\n",
    "    plt.plot(tpr[close_default_clf], fpr[close_default_clf], '^', c='k',\n",
    "            markersize=15)"
   ]
  },
  {
   "cell_type": "code",
   "execution_count": 611,
   "metadata": {},
   "outputs": [
    {
     "name": "stdout",
     "output_type": "stream",
     "text": [
      "     pred_neg  pred_pos\n",
      "neg       346         3\n",
      "pos         6         6\n"
     ]
    },
    {
     "data": {
      "image/png": "[encoded data removed]",
      "text/plain": [
       "<Figure size 576x576 with 1 Axes>"
      ]
     },
     "metadata": {},
     "output_type": "display_data"
    }
   ],
   "source": [
    "precision_recall_threshold(fpr, tpr, thresholds, t=0.60)"
   ]
  },
  {
   "cell_type": "code",
   "execution_count": null,
   "metadata": {},
   "outputs": [],
   "source": []
  },
  {
   "cell_type": "code",
   "execution_count": null,
   "metadata": {},
   "outputs": [],
   "source": []
  },
  {
   "cell_type": "code",
   "execution_count": 536,
   "metadata": {},
   "outputs": [],
   "source": [
    "X_adas, y_adas=ada.fit_sample(X_train, y_train)"
   ]
  },
  {
   "cell_type": "code",
   "execution_count": 537,
   "metadata": {},
   "outputs": [],
   "source": [
    "rf=RandomForestClassifier(random_state=51,max_depth=15, n_estimators=300, max_features='sqrt')"
   ]
  },
  {
   "cell_type": "code",
   "execution_count": 538,
   "metadata": {},
   "outputs": [
    {
     "data": {
      "text/plain": [
       "RandomForestClassifier(max_depth=15, max_features='sqrt', n_estimators=300,\n",
       "                       random_state=51)"
      ]
     },
     "execution_count": 538,
     "metadata": {},
     "output_type": "execute_result"
    }
   ],
   "source": [
    "rf.fit(X_adas, y_adas)"
   ]
  },
  {
   "cell_type": "code",
   "execution_count": 539,
   "metadata": {},
   "outputs": [],
   "source": [
    "prediction=rf.predict(X_test)"
   ]
  },
  {
   "cell_type": "code",
   "execution_count": 540,
   "metadata": {},
   "outputs": [
    {
     "name": "stdout",
     "output_type": "stream",
     "text": [
      "              precision    recall  f1-score   support\n",
      "\n",
      "           0       0.99      0.99      0.99       352\n",
      "           1       0.50      0.50      0.50        10\n",
      "\n",
      "    accuracy                           0.97       362\n",
      "   macro avg       0.74      0.74      0.74       362\n",
      "weighted avg       0.97      0.97      0.97       362\n",
      "\n",
      "[[347   5]\n",
      " [  5   5]]\n"
     ]
    }
   ],
   "source": [
    "\n",
    "print(classification_report(y_test,prediction))\n",
    "print(confusion_matrix(y_test,prediction))\n"
   ]
  },
  {
   "cell_type": "code",
   "execution_count": null,
   "metadata": {},
   "outputs": [],
   "source": []
  },
  {
   "cell_type": "markdown",
   "metadata": {},
   "source": [
    "### Hyperparameter Tuning with ADASYN sampling and Random Forest"
   ]
  },
  {
   "cell_type": "code",
   "execution_count": 541,
   "metadata": {},
   "outputs": [],
   "source": [
    "from sklearn.model_selection import GridSearchCV, cross_val_score"
   ]
  },
  {
   "cell_type": "code",
   "execution_count": 542,
   "metadata": {},
   "outputs": [],
   "source": [
    "X_ada, y_ada=ada.fit_sample(X_train_val, y_train_val)"
   ]
  },
  {
   "cell_type": "code",
   "execution_count": 543,
   "metadata": {},
   "outputs": [
    {
     "name": "stdout",
     "output_type": "stream",
     "text": [
      "Parameters currently in use:\n",
      "\n",
      "{'bootstrap': True,\n",
      " 'ccp_alpha': 0.0,\n",
      " 'class_weight': None,\n",
      " 'criterion': 'gini',\n",
      " 'max_depth': 15,\n",
      " 'max_features': 'sqrt',\n",
      " 'max_leaf_nodes': None,\n",
      " 'max_samples': None,\n",
      " 'min_impurity_decrease': 0.0,\n",
      " 'min_impurity_split': None,\n",
      " 'min_samples_leaf': 1,\n",
      " 'min_samples_split': 2,\n",
      " 'min_weight_fraction_leaf': 0.0,\n",
      " 'n_estimators': 300,\n",
      " 'n_jobs': None,\n",
      " 'oob_score': False,\n",
      " 'random_state': 51,\n",
      " 'verbose': 0,\n",
      " 'warm_start': False}\n"
     ]
    }
   ],
   "source": [
    "from pprint import pprint\n",
    "print('Parameters currently in use:\\n')\n",
    "pprint(rf.get_params())"
   ]
  },
  {
   "cell_type": "code",
   "execution_count": 435,
   "metadata": {},
   "outputs": [],
   "source": [
    "param_grid={'max_depth':[16],\n",
    "            \n",
    "            \n",
    "            'max_features':['log2'],\n",
    "            'min_samples_leaf':[6,10],\n",
    "            'n_estimators':[400],\n",
    "            'random_state':[51],\n",
    "            'min_samples_split': [4,6]\n",
    "            \n",
    "           }\n",
    "\n",
    "rf=RandomForestClassifier()\n",
    "grid_search = GridSearchCV(estimator = rf, param_grid = param_grid, \n",
    "                          cv = 3, n_jobs = -1)"
   ]
  },
  {
   "cell_type": "code",
   "execution_count": 436,
   "metadata": {},
   "outputs": [
    {
     "data": {
      "text/plain": [
       "GridSearchCV(cv=3, estimator=RandomForestClassifier(), n_jobs=-1,\n",
       "             param_grid={'max_depth': [16], 'max_features': ['log2'],\n",
       "                         'min_samples_leaf': [6, 10],\n",
       "                         'min_samples_split': [4, 6], 'n_estimators': [400],\n",
       "                         'random_state': [51]})"
      ]
     },
     "execution_count": 436,
     "metadata": {},
     "output_type": "execute_result"
    }
   ],
   "source": [
    "grid_search.fit(X_ada, y_ada)"
   ]
  },
  {
   "cell_type": "code",
   "execution_count": 437,
   "metadata": {},
   "outputs": [
    {
     "data": {
      "text/plain": [
       "{'max_depth': 16,\n",
       " 'max_features': 'log2',\n",
       " 'min_samples_leaf': 6,\n",
       " 'min_samples_split': 4,\n",
       " 'n_estimators': 400,\n",
       " 'random_state': 51}"
      ]
     },
     "execution_count": 437,
     "metadata": {},
     "output_type": "execute_result"
    }
   ],
   "source": [
    "grid_search.best_params_"
   ]
  },
  {
   "cell_type": "code",
   "execution_count": 438,
   "metadata": {},
   "outputs": [
    {
     "data": {
      "text/plain": [
       "RandomForestClassifier(max_depth=16, max_features='log2', min_samples_leaf=6,\n",
       "                       min_samples_split=4, n_estimators=400, random_state=51)"
      ]
     },
     "execution_count": 438,
     "metadata": {},
     "output_type": "execute_result"
    }
   ],
   "source": [
    "grid_search.best_estimator_\n"
   ]
  },
  {
   "cell_type": "code",
   "execution_count": 439,
   "metadata": {},
   "outputs": [],
   "source": [
    "\n",
    "final_model=grid_search.best_estimator_"
   ]
  },
  {
   "cell_type": "code",
   "execution_count": 440,
   "metadata": {},
   "outputs": [],
   "source": [
    "predictions=final_model.predict(X_val)\n"
   ]
  },
  {
   "cell_type": "code",
   "execution_count": 441,
   "metadata": {},
   "outputs": [
    {
     "data": {
      "image/png": "[encoded data removed]",
      "text/plain": [
       "<Figure size 576x576 with 1 Axes>"
      ]
     },
     "metadata": {},
     "output_type": "display_data"
    }
   ],
   "source": [
    "cm = confusion_matrix(y_val, predictions)\n",
    "\n",
    "fig, ax = plt.subplots(figsize=(8, 8))\n",
    "ax.imshow(cm)\n",
    "ax.grid(False)\n",
    "ax.xaxis.set(ticks=(0, 1), ticklabels=('Predicted NonState Attacks', 'Predicted State-affiliated Attacks'))\n",
    "ax.yaxis.set(ticks=(0, 1), ticklabels=('Actual NonState Attacks', 'Actual State-affiliated Attacks'))\n",
    "ax.set_ylim(1.5, -0.5)\n",
    "for i in range(2):\n",
    "    for j in range(2):\n",
    "        ax.text(j, i, cm[i, j], ha='center', va='center', color='red')\n",
    "plt.show()"
   ]
  },
  {
   "cell_type": "code",
   "execution_count": 442,
   "metadata": {},
   "outputs": [],
   "source": [
    "\n",
    "predictions=final_model.predict(X_test)"
   ]
  },
  {
   "cell_type": "code",
   "execution_count": 444,
   "metadata": {},
   "outputs": [
    {
     "data": {
      "image/png": "[encoded data removed]",
      "text/plain": [
       "<Figure size 576x576 with 1 Axes>"
      ]
     },
     "metadata": {},
     "output_type": "display_data"
    }
   ],
   "source": [
    "cm = confusion_matrix(y_test, predictions)\n",
    "\n",
    "fig, ax = plt.subplots(figsize=(8, 8))\n",
    "ax.imshow(cm)\n",
    "ax.grid(False)\n",
    "ax.xaxis.set(ticks=(0, 1), ticklabels=('Predicted NonState Attacks', 'Predicted State-affiliated Attacks'))\n",
    "ax.yaxis.set(ticks=(0, 1), ticklabels=('Actual NonState Attacks', 'Actual State-affiliated Attacks'))\n",
    "ax.set_ylim(1.5, -0.5)\n",
    "for i in range(2):\n",
    "    for j in range(2):\n",
    "        ax.text(j, i, cm[i, j], ha='center', va='center', color='red')\n",
    "plt.show()"
   ]
  },
  {
   "cell_type": "markdown",
   "metadata": {},
   "source": [
    "## Determining optimal threshold"
   ]
  },
  {
   "cell_type": "code",
   "execution_count": 445,
   "metadata": {},
   "outputs": [],
   "source": [
    "from numpy import arange\n",
    "from numpy import argmax"
   ]
  },
  {
   "cell_type": "code",
   "execution_count": 447,
   "metadata": {},
   "outputs": [],
   "source": [
    "def to_label(prob, threshold):\n",
    "    return (prob >= threshold).astype('int')"
   ]
  },
  {
   "cell_type": "code",
   "execution_count": 556,
   "metadata": {},
   "outputs": [],
   "source": [
    "prob=final_model.predict_proba(X_test)[:,1]"
   ]
  },
  {
   "cell_type": "code",
   "execution_count": 557,
   "metadata": {},
   "outputs": [
    {
     "data": {
      "text/plain": [
       "0.928409090909091"
      ]
     },
     "execution_count": 557,
     "metadata": {},
     "output_type": "execute_result"
    }
   ],
   "source": [
    "fpr, tpr, thresholds  = roc_curve(y_test, prob) #Get the ROC Curve\n",
    "roc_auc_score(y_test, prob)"
   ]
  },
  {
   "cell_type": "code",
   "execution_count": 558,
   "metadata": {},
   "outputs": [
    {
     "data": {
      "image/png": "[encoded data removed]",
      "text/plain": [
       "<Figure size 576x360 with 1 Axes>"
      ]
     },
     "metadata": {},
     "output_type": "display_data"
    }
   ],
   "source": [
    "plt.figure(figsize=(8,5))\n",
    "# Plot ROC curve\n",
    "plt.plot([0, 1], [0, 1], 'k--')\n",
    "plt.plot(fpr, tpr)\n",
    "plt.xlabel('False Positive Rate = 1 - Specificity Score')\n",
    "plt.ylabel('True Positive Rate  = Recall Score')\n",
    "plt.title('ROC Curve')\n",
    "plt.show()"
   ]
  },
  {
   "cell_type": "code",
   "execution_count": 559,
   "metadata": {},
   "outputs": [],
   "source": [
    "def adjusted_classes(prob, t):\n",
    "    \"\"\"\n",
    "    This function adjusts class predictions based on the prediction threshold (t).\n",
    "    Will only work for binary classification problems.\n",
    "    \"\"\"\n",
    "    return [1 if y >= t else 0 for y in prob]\n",
    "\n",
    "def precision_recall_threshold(fpr, tpr, thresholds, t=0.5):\n",
    "    \"\"\"\n",
    "    plots the precision recall curve and shows the current value for each\n",
    "    by identifying the classifier's threshold (t).\n",
    "    \"\"\"\n",
    "    \n",
    "    # generate new class predictions based on the adjusted_classes\n",
    "    # function above and view the resulting confusion matrix.\n",
    "    y_pred_adj = adjusted_classes(prob, t)\n",
    "    print(pd.DataFrame(confusion_matrix(y_test, y_pred_adj),\n",
    "                       columns=['pred_neg', 'pred_pos'], \n",
    "                       index=['neg', 'pos']))\n",
    "    \n",
    "    # plot the curve\n",
    "    plt.figure(figsize=(8,8))\n",
    "    plt.title(\"Precision and Recall curve ^ = current threshold\")\n",
    "    plt.step(tpr, fpr, color='b', alpha=0.2,\n",
    "             where='post')\n",
    "    plt.fill_between(tpr, fpr, step='post', alpha=0.2,\n",
    "                     color='b')\n",
    "    plt.ylim([0.05, 1.01]);\n",
    "    plt.xlim([0.05, 1.01]);\n",
    "    plt.xlabel('Recall');\n",
    "    plt.ylabel('Precision');\n",
    "    \n",
    "    # plot the current threshold on the line\n",
    "    close_default_clf = np.argmin(np.abs(thresholds - t))\n",
    "    plt.plot(tpr[close_default_clf], fpr[close_default_clf], '^', c='k',\n",
    "            markersize=15)"
   ]
  },
  {
   "cell_type": "code",
   "execution_count": 560,
   "metadata": {},
   "outputs": [
    {
     "name": "stdout",
     "output_type": "stream",
     "text": [
      "     pred_neg  pred_pos\n",
      "neg       343         9\n",
      "pos         4         6\n"
     ]
    },
    {
     "data": {
      "image/png": "[encoded data removed]",
      "text/plain": [
       "<Figure size 576x576 with 1 Axes>"
      ]
     },
     "metadata": {},
     "output_type": "display_data"
    }
   ],
   "source": [
    "precision_recall_threshold(fpr, tpr, thresholds, t=0.54)"
   ]
  },
  {
   "cell_type": "code",
   "execution_count": 561,
   "metadata": {},
   "outputs": [],
   "source": [
    "def plot_roc_curve(fpr, tpr, label=None):\n",
    "    \"\"\"\n",
    "    The ROC curve, modified from \n",
    "    Hands-On Machine learning with Scikit-Learn and TensorFlow; p.91\n",
    "    \"\"\"\n",
    "    plt.figure(figsize=(10,8))\n",
    "    plt.title('ROC Curve')\n",
    "    plt.plot(fpr, tpr, linewidth=2, label=label)\n",
    "    plt.plot([0, 1], [0, 1], 'k--')\n",
    "    plt.axis([-0.005, 1, 0, 1.005])\n",
    "    plt.yticks(np.arange(0,1.1, 0.1))\n",
    "    plt.xticks(np.arange(0,1.05, 0.05), rotation=90)\n",
    "    plt.xlabel(\"False Positive Rate\")\n",
    "    plt.ylabel(\"True Positive Rate (Recall)\")\n",
    "    plt.legend(loc='best')"
   ]
  },
  {
   "cell_type": "code",
   "execution_count": 562,
   "metadata": {},
   "outputs": [],
   "source": [
    "threshold=arange(0,1,0.001)"
   ]
  },
  {
   "cell_type": "code",
   "execution_count": 563,
   "metadata": {},
   "outputs": [],
   "source": [
    "scores=[f1_score(y_test, to_label(prob,t)) for t in threshold]"
   ]
  },
  {
   "cell_type": "code",
   "execution_count": 564,
   "metadata": {},
   "outputs": [],
   "source": [
    "ix=argmax(scores)"
   ]
  },
  {
   "cell_type": "code",
   "execution_count": 565,
   "metadata": {},
   "outputs": [
    {
     "name": "stdout",
     "output_type": "stream",
     "text": [
      "Threshold=0.544, F-Score=0.50000\n"
     ]
    }
   ],
   "source": [
    "print('Threshold=%.3f, F-Score=%.5f' % (threshold[ix], scores[ix]))"
   ]
  },
  {
   "cell_type": "code",
   "execution_count": null,
   "metadata": {},
   "outputs": [],
   "source": []
  },
  {
   "cell_type": "code",
   "execution_count": null,
   "metadata": {},
   "outputs": [],
   "source": []
  }
 ],
 "metadata": {
  "kernelspec": {
   "display_name": "Python 3",
   "language": "python",
   "name": "python3"
  },
  "language_info": {
   "codemirror_mode": {
    "name": "ipython",
    "version": 3
   },
   "file_extension": ".py",
   "mimetype": "text/x-python",
   "name": "python",
   "nbconvert_exporter": "python",
   "pygments_lexer": "ipython3",
   "version": "3.8.3"
  }
 },
 "nbformat": 4,
 "nbformat_minor": 4
}

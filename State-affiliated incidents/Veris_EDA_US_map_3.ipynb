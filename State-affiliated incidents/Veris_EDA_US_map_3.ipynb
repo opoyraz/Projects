{
 "cells": [
  {
   "cell_type": "code",
   "execution_count": 1,
   "metadata": {
    "id": "LtgKXX2ukwnv"
   },
   "outputs": [],
   "source": [
    "import pandas as pd\n",
    "import numpy as np\n",
    "import matplotlib.pyplot as plt\n",
    "%matplotlib inline\n",
    "\n",
    "import seaborn as sns\n",
    "\n",
    "sns.set(style=\"darkgrid\")\n",
    "\n",
    "import os\n",
    "import warnings\n",
    "warnings.filterwarnings(\"ignore\")\n",
    "\n",
    "# setting params\n",
    "params = {'legend.fontsize': 'small',\n",
    "          'figure.figsize': (14, 14),\n",
    "          'axes.labelsize': 'small',\n",
    "          'axes.titlesize':'small',\n",
    "          'xtick.labelsize':'xx-small',\n",
    "          'ytick.labelsize':'xx-small'}\n",
    "\n",
    "\n",
    "sns.set_context('talk')\n",
    "\n",
    "plt.rcParams.update(params)\n",
    "pd.options.display.max_colwidth = 600 #(long description)\n",
    "pd.set_option('display.max_columns', 500)\n",
    "\n",
    "\n",
    "np.set_printoptions(suppress=True)\n",
    "pt = np.get_printoptions()['threshold']\n",
    "#np.set_printoptions(precision=3)\n",
    "\n",
    "\n",
    "pd.set_option('display.max_rows', 500)\n",
    "\n",
    "pd.set_option('display.width', 1000)\n",
    "    \n"
   ]
  },
  {
   "cell_type": "code",
   "execution_count": 2,
   "metadata": {
    "id": "YHtaVs2akwn9"
   },
   "outputs": [],
   "source": [
    "df=pd.read_csv('US_veris.csv')"
   ]
  },
  {
   "cell_type": "code",
   "execution_count": 3,
   "metadata": {
    "colab": {
     "base_uri": "https://localhost:8080/",
     "height": 258
    },
    "id": "deIk0ktJkwoE",
    "outputId": "bce1a9fb-53e6-4e2e-a03b-152699ae1e14"
   },
   "outputs": [
    {
     "data": {
      "text/html": [
       "<div>\n",
       "<style scoped>\n",
       "    .dataframe tbody tr th:only-of-type {\n",
       "        vertical-align: middle;\n",
       "    }\n",
       "\n",
       "    .dataframe tbody tr th {\n",
       "        vertical-align: top;\n",
       "    }\n",
       "\n",
       "    .dataframe thead th {\n",
       "        text-align: right;\n",
       "    }\n",
       "</style>\n",
       "<table border=\"1\" class=\"dataframe\">\n",
       "  <thead>\n",
       "    <tr style=\"text-align: right;\">\n",
       "      <th></th>\n",
       "      <th>state</th>\n",
       "      <th>industry</th>\n",
       "      <th>n_employees</th>\n",
       "      <th>incident_year</th>\n",
       "      <th>attribute</th>\n",
       "      <th>compromise</th>\n",
       "      <th>confidence</th>\n",
       "      <th>data_disclosure</th>\n",
       "      <th>action</th>\n",
       "      <th>action_variety</th>\n",
       "      <th>action_vector</th>\n",
       "      <th>discovery_variety</th>\n",
       "      <th>asset_group</th>\n",
       "      <th>asset_variety</th>\n",
       "      <th>availability_duration</th>\n",
       "      <th>discovery</th>\n",
       "      <th>containment</th>\n",
       "      <th>exfiltration</th>\n",
       "      <th>time_compromise</th>\n",
       "      <th>actor</th>\n",
       "    </tr>\n",
       "  </thead>\n",
       "  <tbody>\n",
       "    <tr>\n",
       "      <th>0</th>\n",
       "      <td>GA</td>\n",
       "      <td>education</td>\n",
       "      <td>1001 to 10000</td>\n",
       "      <td>2017</td>\n",
       "      <td>confidentiality</td>\n",
       "      <td>alter behavior</td>\n",
       "      <td>high</td>\n",
       "      <td>yes</td>\n",
       "      <td>social</td>\n",
       "      <td>phishing</td>\n",
       "      <td>email</td>\n",
       "      <td>law enforcement</td>\n",
       "      <td>server</td>\n",
       "      <td>mail</td>\n",
       "      <td>0</td>\n",
       "      <td>months</td>\n",
       "      <td>NaN</td>\n",
       "      <td>NaN</td>\n",
       "      <td>NaN</td>\n",
       "      <td>nonstate</td>\n",
       "    </tr>\n",
       "    <tr>\n",
       "      <th>1</th>\n",
       "      <td>PA</td>\n",
       "      <td>healthcare</td>\n",
       "      <td>NaN</td>\n",
       "      <td>2018</td>\n",
       "      <td>confidentiality</td>\n",
       "      <td>data loss</td>\n",
       "      <td>low</td>\n",
       "      <td>yes</td>\n",
       "      <td>misuse</td>\n",
       "      <td>knowledge abuse</td>\n",
       "      <td>physical access</td>\n",
       "      <td>NaN</td>\n",
       "      <td>server</td>\n",
       "      <td>database</td>\n",
       "      <td>0</td>\n",
       "      <td>days</td>\n",
       "      <td>NaN</td>\n",
       "      <td>0</td>\n",
       "      <td>minutes</td>\n",
       "      <td>nonstate</td>\n",
       "    </tr>\n",
       "    <tr>\n",
       "      <th>2</th>\n",
       "      <td>NE</td>\n",
       "      <td>finance and insurance</td>\n",
       "      <td>50001 to 100000</td>\n",
       "      <td>2017</td>\n",
       "      <td>confidentiality</td>\n",
       "      <td>data loss</td>\n",
       "      <td>medium</td>\n",
       "      <td>yes</td>\n",
       "      <td>physical</td>\n",
       "      <td>skimmer</td>\n",
       "      <td>victim public area</td>\n",
       "      <td>customer</td>\n",
       "      <td>terminal</td>\n",
       "      <td>atm</td>\n",
       "      <td>0</td>\n",
       "      <td>NaN</td>\n",
       "      <td>NaN</td>\n",
       "      <td>NaN</td>\n",
       "      <td>NaN</td>\n",
       "      <td>nonstate</td>\n",
       "    </tr>\n",
       "    <tr>\n",
       "      <th>3</th>\n",
       "      <td>OH</td>\n",
       "      <td>government</td>\n",
       "      <td>101 to 1000</td>\n",
       "      <td>2015</td>\n",
       "      <td>confidentiality</td>\n",
       "      <td>data loss</td>\n",
       "      <td>NaN</td>\n",
       "      <td>yes</td>\n",
       "      <td>error</td>\n",
       "      <td>omission</td>\n",
       "      <td>NaN</td>\n",
       "      <td>customer</td>\n",
       "      <td>media</td>\n",
       "      <td>disk media</td>\n",
       "      <td>0</td>\n",
       "      <td>NaN</td>\n",
       "      <td>NaN</td>\n",
       "      <td>NaN</td>\n",
       "      <td>NaN</td>\n",
       "      <td>nonstate</td>\n",
       "    </tr>\n",
       "    <tr>\n",
       "      <th>4</th>\n",
       "      <td>NaN</td>\n",
       "      <td>retail trade</td>\n",
       "      <td>1 to 10</td>\n",
       "      <td>2017</td>\n",
       "      <td>integrity</td>\n",
       "      <td>hardware tampering</td>\n",
       "      <td>high</td>\n",
       "      <td>yes</td>\n",
       "      <td>physical</td>\n",
       "      <td>skimmer</td>\n",
       "      <td>victim public area</td>\n",
       "      <td>customer</td>\n",
       "      <td>terminal</td>\n",
       "      <td>gas terminal</td>\n",
       "      <td>0</td>\n",
       "      <td>minutes</td>\n",
       "      <td>NaN</td>\n",
       "      <td>NaN</td>\n",
       "      <td>minutes</td>\n",
       "      <td>nonstate</td>\n",
       "    </tr>\n",
       "  </tbody>\n",
       "</table>\n",
       "</div>"
      ],
      "text/plain": [
       "  state               industry      n_employees  incident_year        attribute          compromise confidence data_disclosure    action   action_variety       action_vector discovery_variety asset_group  asset_variety availability_duration discovery containment exfiltration time_compromise     actor\n",
       "0    GA              education    1001 to 10000           2017  confidentiality      alter behavior       high             yes    social         phishing               email   law enforcement     server            mail                     0    months         NaN          NaN             NaN  nonstate\n",
       "1    PA             healthcare              NaN           2018  confidentiality           data loss        low             yes    misuse  knowledge abuse     physical access               NaN     server        database                     0      days         NaN            0         minutes  nonstate\n",
       "2    NE  finance and insurance  50001 to 100000           2017  confidentiality           data loss     medium             yes  physical          skimmer  victim public area          customer    terminal            atm                     0       NaN         NaN          NaN             NaN  nonstate\n",
       "3    OH             government      101 to 1000           2015  confidentiality           data loss        NaN             yes     error         omission                 NaN          customer       media     disk media                     0       NaN         NaN          NaN             NaN  nonstate\n",
       "4   NaN           retail trade          1 to 10           2017        integrity  hardware tampering       high             yes  physical          skimmer  victim public area          customer    terminal   gas terminal                     0   minutes         NaN          NaN         minutes  nonstate"
      ]
     },
     "execution_count": 3,
     "metadata": {
      "tags": []
     },
     "output_type": "execute_result"
    }
   ],
   "source": [
    "df.head()"
   ]
  },
  {
   "cell_type": "code",
   "execution_count": 4,
   "metadata": {
    "colab": {
     "base_uri": "https://localhost:8080/"
    },
    "id": "b-11ah97kwoP",
    "outputId": "ac5f176b-173e-464c-f7b3-1df0467d9c43"
   },
   "outputs": [
    {
     "name": "stdout",
     "output_type": "stream",
     "text": [
      "<class 'pandas.core.frame.DataFrame'>\n",
      "RangeIndex: 1806 entries, 0 to 1805\n",
      "Data columns (total 20 columns):\n",
      " #   Column                 Non-Null Count  Dtype \n",
      "---  ------                 --------------  ----- \n",
      " 0   state                  1604 non-null   object\n",
      " 1   industry               1806 non-null   object\n",
      " 2   n_employees            1372 non-null   object\n",
      " 3   incident_year          1806 non-null   int64 \n",
      " 4   attribute              1806 non-null   object\n",
      " 5   compromise             1797 non-null   object\n",
      " 6   confidence             745 non-null    object\n",
      " 7   data_disclosure        1766 non-null   object\n",
      " 8   action                 1800 non-null   object\n",
      " 9   action_variety         1543 non-null   object\n",
      " 10  action_vector          1448 non-null   object\n",
      " 11  discovery_variety      1020 non-null   object\n",
      " 12  asset_group            1806 non-null   object\n",
      " 13  asset_variety          1806 non-null   object\n",
      " 14  availability_duration  1655 non-null   object\n",
      " 15  discovery              558 non-null    object\n",
      " 16  containment            257 non-null    object\n",
      " 17  exfiltration           238 non-null    object\n",
      " 18  time_compromise        360 non-null    object\n",
      " 19  actor                  1806 non-null   object\n",
      "dtypes: int64(1), object(19)\n",
      "memory usage: 282.3+ KB\n"
     ]
    }
   ],
   "source": [
    "df.info()"
   ]
  },
  {
   "cell_type": "code",
   "execution_count": 5,
   "metadata": {
    "id": "4exg5K9JkwoV"
   },
   "outputs": [],
   "source": [
    "def missing_values_table(df):\n",
    "        # Total missing values\n",
    "        mis_val = df.isnull().sum()\n",
    "        \n",
    "        # Percentage of missing values\n",
    "        mis_val_percent = 100 * df.isnull().sum() / len(df)\n",
    "        \n",
    "        # Make a table with the results\n",
    "        mis_val_table = pd.concat([mis_val, mis_val_percent], axis=1)\n",
    "        \n",
    "        # Rename the columns\n",
    "        mis_val_table_ren_columns = mis_val_table.rename(\n",
    "        columns = {0 : 'Missing Values', 1 : '% of Total Values'})\n",
    "        \n",
    "        # Sort the table by percentage of missing descending\n",
    "        mis_val_table_ren_columns = mis_val_table_ren_columns[\n",
    "            mis_val_table_ren_columns.iloc[:,1] != 0].sort_values(\n",
    "        '% of Total Values', ascending=False).round(1)\n",
    "        \n",
    "        # Print some summary information\n",
    "        print (\"Your selected dataframe has \" + str(df.shape[1]) + \" columns.\\n\"      \n",
    "            \"There are \" + str(mis_val_table_ren_columns.shape[0]) +\n",
    "              \" columns that have missing values.\")\n",
    "        \n",
    "        # Return the dataframe with missing information\n",
    "        return mis_val_table_ren_columns"
   ]
  },
  {
   "cell_type": "code",
   "execution_count": 6,
   "metadata": {
    "colab": {
     "base_uri": "https://localhost:8080/",
     "height": 517
    },
    "id": "c7w46-90kwoi",
    "outputId": "b45a4257-eb7f-4b7c-841b-5c9ba68250b9"
   },
   "outputs": [
    {
     "name": "stdout",
     "output_type": "stream",
     "text": [
      "Your selected dataframe has 20 columns.\n",
      "There are 14 columns that have missing values.\n"
     ]
    },
    {
     "data": {
      "text/html": [
       "<div>\n",
       "<style scoped>\n",
       "    .dataframe tbody tr th:only-of-type {\n",
       "        vertical-align: middle;\n",
       "    }\n",
       "\n",
       "    .dataframe tbody tr th {\n",
       "        vertical-align: top;\n",
       "    }\n",
       "\n",
       "    .dataframe thead th {\n",
       "        text-align: right;\n",
       "    }\n",
       "</style>\n",
       "<table border=\"1\" class=\"dataframe\">\n",
       "  <thead>\n",
       "    <tr style=\"text-align: right;\">\n",
       "      <th></th>\n",
       "      <th>Missing Values</th>\n",
       "      <th>% of Total Values</th>\n",
       "    </tr>\n",
       "  </thead>\n",
       "  <tbody>\n",
       "    <tr>\n",
       "      <th>exfiltration</th>\n",
       "      <td>1568</td>\n",
       "      <td>86.8</td>\n",
       "    </tr>\n",
       "    <tr>\n",
       "      <th>containment</th>\n",
       "      <td>1549</td>\n",
       "      <td>85.8</td>\n",
       "    </tr>\n",
       "    <tr>\n",
       "      <th>time_compromise</th>\n",
       "      <td>1446</td>\n",
       "      <td>80.1</td>\n",
       "    </tr>\n",
       "    <tr>\n",
       "      <th>discovery</th>\n",
       "      <td>1248</td>\n",
       "      <td>69.1</td>\n",
       "    </tr>\n",
       "    <tr>\n",
       "      <th>confidence</th>\n",
       "      <td>1061</td>\n",
       "      <td>58.7</td>\n",
       "    </tr>\n",
       "    <tr>\n",
       "      <th>discovery_variety</th>\n",
       "      <td>786</td>\n",
       "      <td>43.5</td>\n",
       "    </tr>\n",
       "    <tr>\n",
       "      <th>n_employees</th>\n",
       "      <td>434</td>\n",
       "      <td>24.0</td>\n",
       "    </tr>\n",
       "    <tr>\n",
       "      <th>action_vector</th>\n",
       "      <td>358</td>\n",
       "      <td>19.8</td>\n",
       "    </tr>\n",
       "    <tr>\n",
       "      <th>action_variety</th>\n",
       "      <td>263</td>\n",
       "      <td>14.6</td>\n",
       "    </tr>\n",
       "    <tr>\n",
       "      <th>state</th>\n",
       "      <td>202</td>\n",
       "      <td>11.2</td>\n",
       "    </tr>\n",
       "    <tr>\n",
       "      <th>availability_duration</th>\n",
       "      <td>151</td>\n",
       "      <td>8.4</td>\n",
       "    </tr>\n",
       "    <tr>\n",
       "      <th>data_disclosure</th>\n",
       "      <td>40</td>\n",
       "      <td>2.2</td>\n",
       "    </tr>\n",
       "    <tr>\n",
       "      <th>compromise</th>\n",
       "      <td>9</td>\n",
       "      <td>0.5</td>\n",
       "    </tr>\n",
       "    <tr>\n",
       "      <th>action</th>\n",
       "      <td>6</td>\n",
       "      <td>0.3</td>\n",
       "    </tr>\n",
       "  </tbody>\n",
       "</table>\n",
       "</div>"
      ],
      "text/plain": [
       "                       Missing Values  % of Total Values\n",
       "exfiltration                     1568               86.8\n",
       "containment                      1549               85.8\n",
       "time_compromise                  1446               80.1\n",
       "discovery                        1248               69.1\n",
       "confidence                       1061               58.7\n",
       "discovery_variety                 786               43.5\n",
       "n_employees                       434               24.0\n",
       "action_vector                     358               19.8\n",
       "action_variety                    263               14.6\n",
       "state                             202               11.2\n",
       "availability_duration             151                8.4\n",
       "data_disclosure                    40                2.2\n",
       "compromise                          9                0.5\n",
       "action                              6                0.3"
      ]
     },
     "execution_count": 6,
     "metadata": {
      "tags": []
     },
     "output_type": "execute_result"
    }
   ],
   "source": [
    "missing_values_table(df)"
   ]
  },
  {
   "cell_type": "code",
   "execution_count": 7,
   "metadata": {
    "colab": {
     "base_uri": "https://localhost:8080/",
     "height": 1000
    },
    "id": "36rrBXzZkwon",
    "outputId": "a31bb865-2451-43ee-f12b-00e4317d1b87"
   },
   "outputs": [
    {
     "data": {
      "image/png": "[encoded data removed]",
      "text/plain": [
       "<Figure size 1008x1944 with 1 Axes>"
      ]
     },
     "metadata": {
      "needs_background": "light",
      "tags": []
     },
     "output_type": "display_data"
    }
   ],
   "source": [
    "plt.figure(figsize=(14,27))\n",
    "sns.countplot(y=df.state)\n",
    "plt.title('Number of Compromise per State')\n",
    "plt.show()"
   ]
  },
  {
   "cell_type": "code",
   "execution_count": 8,
   "metadata": {
    "colab": {
     "base_uri": "https://localhost:8080/",
     "height": 292
    },
    "id": "AiAmDrwTkwot",
    "outputId": "063d6c70-5dc0-4f70-8df7-6351dd88a3c8"
   },
   "outputs": [
    {
     "data": {
      "image/png": "[encoded data removed]",
      "text/plain": [
       "<Figure size 432x288 with 1 Axes>"
      ]
     },
     "metadata": {
      "needs_background": "light",
      "tags": []
     },
     "output_type": "display_data"
    }
   ],
   "source": [
    "sns.countplot(y='industry', hue='actor', data=df)\n",
    "plt.title('Number of Compromise per Industry')\n",
    "plt.show()"
   ]
  },
  {
   "cell_type": "code",
   "execution_count": 8,
   "metadata": {
    "id": "bNgtssQ3kwo1"
   },
   "outputs": [],
   "source": []
  },
  {
   "cell_type": "code",
   "execution_count": 9,
   "metadata": {
    "colab": {
     "base_uri": "https://localhost:8080/",
     "height": 292
    },
    "id": "v-dsuhl2kwo7",
    "outputId": "ed40a3d7-93cb-4d02-fb6e-2760f9a9e0ff"
   },
   "outputs": [
    {
     "data": {
      "image/png": "[encoded data removed]",
      "text/plain": [
       "<Figure size 432x288 with 1 Axes>"
      ]
     },
     "metadata": {
      "needs_background": "light",
      "tags": []
     },
     "output_type": "display_data"
    }
   ],
   "source": [
    "sns.countplot(x=df.n_employees, palette='Set3')\n",
    "plt.title('Number of Compromise per Organization Size')\n",
    "plt.xlabel('Size of Organization')\n",
    "plt.show()"
   ]
  },
  {
   "cell_type": "code",
   "execution_count": 10,
   "metadata": {
    "colab": {
     "base_uri": "https://localhost:8080/",
     "height": 292
    },
    "id": "N_IKDkhtkwpA",
    "outputId": "f771ee37-b854-4d81-faf3-b6c0f47d253e"
   },
   "outputs": [
    {
     "data": {
      "image/png": "[encoded data removed]",
      "text/plain": [
       "<Figure size 432x288 with 1 Axes>"
      ]
     },
     "metadata": {
      "needs_background": "light",
      "tags": []
     },
     "output_type": "display_data"
    }
   ],
   "source": [
    "sns.countplot(x='n_employees', hue='actor', data=df)\n",
    "plt.title('Number of Compromise per Organization Size')\n",
    "plt.xlabel('Size of Organization')\n",
    "\n",
    "plt.show()"
   ]
  },
  {
   "cell_type": "code",
   "execution_count": 11,
   "metadata": {
    "colab": {
     "base_uri": "https://localhost:8080/",
     "height": 292
    },
    "id": "aLZscVr8kwpD",
    "outputId": "b360ffa3-6ef3-4fe0-b5eb-23804ba245b0"
   },
   "outputs": [
    {
     "data": {
      "image/png": "[encoded data removed]",
      "text/plain": [
       "<Figure size 432x288 with 1 Axes>"
      ]
     },
     "metadata": {
      "needs_background": "light",
      "tags": []
     },
     "output_type": "display_data"
    }
   ],
   "source": [
    "g=sns.stripplot(x='attribute', y='incident_year', data=df)\n",
    "g.set(yticks=[2001,2003,2004, 2005, 2006, 2007, 2008, 2009, 2010, 2011, 2012, 2013,2014,2015,2016,2017,2018,2019,2020])\n",
    "plt.title('Number of Compromise per CIA over Time')\n",
    "plt.show()"
   ]
  },
  {
   "cell_type": "code",
   "execution_count": 11,
   "metadata": {
    "id": "IZhvTUjSkwpG"
   },
   "outputs": [],
   "source": []
  },
  {
   "cell_type": "code",
   "execution_count": 12,
   "metadata": {
    "colab": {
     "base_uri": "https://localhost:8080/",
     "height": 292
    },
    "id": "DW6oG4wwkwpK",
    "outputId": "29f4cabe-e898-40d8-d102-734cad75fc28"
   },
   "outputs": [
    {
     "data": {
      "image/png": "[encoded data removed]",
      "text/plain": [
       "<Figure size 432x288 with 1 Axes>"
      ]
     },
     "metadata": {
      "needs_background": "light",
      "tags": []
     },
     "output_type": "display_data"
    }
   ],
   "source": [
    "g=sns.stripplot(x='asset_group', y='incident_year', data=df)\n",
    "g.set(yticks=[2001,2003,2004, 2005, 2006, 2007, 2008, 2009, 2010, 2011, 2012, 2013,2014,2015,2016,2017,2018,2019,2020])\n",
    "plt.title('Number of Compromise per Asset over Time')\n",
    "plt.show()"
   ]
  },
  {
   "cell_type": "code",
   "execution_count": 13,
   "metadata": {
    "colab": {
     "base_uri": "https://localhost:8080/",
     "height": 279
    },
    "id": "83jvdSEokwpU",
    "outputId": "dd9cab14-a1d9-46fc-bd95-651ceea595ce"
   },
   "outputs": [
    {
     "data": {
      "image/png": "[encoded data removed]",
      "text/plain": [
       "<Figure size 432x288 with 1 Axes>"
      ]
     },
     "metadata": {
      "needs_background": "light",
      "tags": []
     },
     "output_type": "display_data"
    }
   ],
   "source": [
    "sns.countplot(x=df.asset_group)\n",
    "plt.show()"
   ]
  },
  {
   "cell_type": "code",
   "execution_count": 14,
   "metadata": {
    "colab": {
     "base_uri": "https://localhost:8080/",
     "height": 292
    },
    "id": "EuZTeqifkwpY",
    "outputId": "75dbb854-49c2-4535-8ab1-9572a919156d"
   },
   "outputs": [
    {
     "data": {
      "image/png": "[encoded data removed]",
      "text/plain": [
       "<Figure size 432x288 with 1 Axes>"
      ]
     },
     "metadata": {
      "needs_background": "light",
      "tags": []
     },
     "output_type": "display_data"
    }
   ],
   "source": [
    "\n",
    "g=sns.countplot(df.actor)\n",
    "\n",
    "g.set(yticks=[51,10,150,200,250,500,750,1250,1500,1755])\n",
    "plt.title('Number of Nonstate and State-affiliated Compromise ')\n",
    "\n",
    "plt.show()"
   ]
  },
  {
   "cell_type": "code",
   "execution_count": 15,
   "metadata": {
    "colab": {
     "base_uri": "https://localhost:8080/",
     "height": 309
    },
    "id": "WnuH8cHGkwpf",
    "outputId": "a4e16a16-998c-4904-9fed-b33cbeda336c"
   },
   "outputs": [
    {
     "data": {
      "text/html": [
       "<div>\n",
       "<style scoped>\n",
       "    .dataframe tbody tr th:only-of-type {\n",
       "        vertical-align: middle;\n",
       "    }\n",
       "\n",
       "    .dataframe tbody tr th {\n",
       "        vertical-align: top;\n",
       "    }\n",
       "\n",
       "    .dataframe thead th {\n",
       "        text-align: right;\n",
       "    }\n",
       "</style>\n",
       "<table border=\"1\" class=\"dataframe\">\n",
       "  <thead>\n",
       "    <tr style=\"text-align: right;\">\n",
       "      <th></th>\n",
       "      <th>state</th>\n",
       "      <th>industry</th>\n",
       "      <th>n_employees</th>\n",
       "      <th>incident_year</th>\n",
       "      <th>attribute</th>\n",
       "      <th>compromise</th>\n",
       "      <th>confidence</th>\n",
       "      <th>data_disclosure</th>\n",
       "      <th>action</th>\n",
       "      <th>action_variety</th>\n",
       "      <th>action_vector</th>\n",
       "      <th>discovery_variety</th>\n",
       "      <th>asset_group</th>\n",
       "      <th>asset_variety</th>\n",
       "      <th>availability_duration</th>\n",
       "      <th>discovery</th>\n",
       "      <th>containment</th>\n",
       "      <th>exfiltration</th>\n",
       "      <th>time_compromise</th>\n",
       "      <th>actor</th>\n",
       "    </tr>\n",
       "  </thead>\n",
       "  <tbody>\n",
       "    <tr>\n",
       "      <th>5</th>\n",
       "      <td>GA</td>\n",
       "      <td>ASWMR</td>\n",
       "      <td>1001 to 10000</td>\n",
       "      <td>2017</td>\n",
       "      <td>confidentiality</td>\n",
       "      <td>loss</td>\n",
       "      <td>high</td>\n",
       "      <td>yes</td>\n",
       "      <td>hacking</td>\n",
       "      <td>exploit vuln</td>\n",
       "      <td>web application</td>\n",
       "      <td>NaN</td>\n",
       "      <td>server</td>\n",
       "      <td>web application</td>\n",
       "      <td>0</td>\n",
       "      <td>NaN</td>\n",
       "      <td>NaN</td>\n",
       "      <td>NaN</td>\n",
       "      <td>NaN</td>\n",
       "      <td>state-affiliated</td>\n",
       "    </tr>\n",
       "    <tr>\n",
       "      <th>9</th>\n",
       "      <td>VA</td>\n",
       "      <td>manufacturing</td>\n",
       "      <td>50001 to 100000</td>\n",
       "      <td>2009</td>\n",
       "      <td>integrity</td>\n",
       "      <td>software installation</td>\n",
       "      <td>NaN</td>\n",
       "      <td>yes</td>\n",
       "      <td>malware</td>\n",
       "      <td>c2</td>\n",
       "      <td>web drive-by</td>\n",
       "      <td>law enforcement</td>\n",
       "      <td>server</td>\n",
       "      <td>web application</td>\n",
       "      <td>0</td>\n",
       "      <td>NaN</td>\n",
       "      <td>NaN</td>\n",
       "      <td>NaN</td>\n",
       "      <td>NaN</td>\n",
       "      <td>state-affiliated</td>\n",
       "    </tr>\n",
       "    <tr>\n",
       "      <th>91</th>\n",
       "      <td>NaN</td>\n",
       "      <td>government</td>\n",
       "      <td>1001 to 10000</td>\n",
       "      <td>2013</td>\n",
       "      <td>integrity</td>\n",
       "      <td>software installation</td>\n",
       "      <td>high</td>\n",
       "      <td>yes</td>\n",
       "      <td>hacking</td>\n",
       "      <td>use of backdoor or c2</td>\n",
       "      <td>backdoor or c2</td>\n",
       "      <td>suspicious traffic</td>\n",
       "      <td>user device</td>\n",
       "      <td>desktop</td>\n",
       "      <td>0</td>\n",
       "      <td>NaN</td>\n",
       "      <td>NaN</td>\n",
       "      <td>NaN</td>\n",
       "      <td>NaN</td>\n",
       "      <td>state-affiliated</td>\n",
       "    </tr>\n",
       "    <tr>\n",
       "      <th>124</th>\n",
       "      <td>NY</td>\n",
       "      <td>personal service</td>\n",
       "      <td>11 to 100</td>\n",
       "      <td>2013</td>\n",
       "      <td>integrity</td>\n",
       "      <td>modify configuration</td>\n",
       "      <td>NaN</td>\n",
       "      <td>yes</td>\n",
       "      <td>social</td>\n",
       "      <td>phishing</td>\n",
       "      <td>email</td>\n",
       "      <td>NaN</td>\n",
       "      <td>server</td>\n",
       "      <td>web application</td>\n",
       "      <td>0</td>\n",
       "      <td>hours</td>\n",
       "      <td>hours</td>\n",
       "      <td>hours</td>\n",
       "      <td>hours</td>\n",
       "      <td>state-affiliated</td>\n",
       "    </tr>\n",
       "    <tr>\n",
       "      <th>129</th>\n",
       "      <td>NaN</td>\n",
       "      <td>finance and insurance</td>\n",
       "      <td>NaN</td>\n",
       "      <td>2014</td>\n",
       "      <td>availability</td>\n",
       "      <td>interruption</td>\n",
       "      <td>0</td>\n",
       "      <td>no</td>\n",
       "      <td>hacking</td>\n",
       "      <td>dos</td>\n",
       "      <td>web application</td>\n",
       "      <td>NaN</td>\n",
       "      <td>server</td>\n",
       "      <td>mainframe</td>\n",
       "      <td>NaN</td>\n",
       "      <td>NaN</td>\n",
       "      <td>NaN</td>\n",
       "      <td>NaN</td>\n",
       "      <td>NaN</td>\n",
       "      <td>state-affiliated</td>\n",
       "    </tr>\n",
       "  </tbody>\n",
       "</table>\n",
       "</div>"
      ],
      "text/plain": [
       "    state               industry      n_employees  incident_year        attribute             compromise confidence data_disclosure   action         action_variety    action_vector   discovery_variety   asset_group     asset_variety availability_duration discovery containment exfiltration time_compromise             actor\n",
       "5      GA                  ASWMR    1001 to 10000           2017  confidentiality                   loss       high             yes  hacking           exploit vuln  web application                 NaN       server    web application                     0       NaN         NaN          NaN             NaN  state-affiliated\n",
       "9      VA          manufacturing  50001 to 100000           2009        integrity  software installation        NaN             yes  malware                     c2     web drive-by     law enforcement       server    web application                     0       NaN         NaN          NaN             NaN  state-affiliated\n",
       "91    NaN             government    1001 to 10000           2013        integrity  software installation       high             yes  hacking  use of backdoor or c2   backdoor or c2  suspicious traffic  user device            desktop                     0       NaN         NaN          NaN             NaN  state-affiliated\n",
       "124    NY       personal service        11 to 100           2013        integrity   modify configuration        NaN             yes   social               phishing            email                 NaN       server    web application                     0     hours       hours        hours           hours  state-affiliated\n",
       "129   NaN  finance and insurance              NaN           2014     availability           interruption          0              no  hacking                    dos  web application                 NaN       server          mainframe                   NaN       NaN         NaN          NaN             NaN  state-affiliated"
      ]
     },
     "execution_count": 15,
     "metadata": {
      "tags": []
     },
     "output_type": "execute_result"
    }
   ],
   "source": [
    "df_state=df[df['actor']=='state-affiliated']\n",
    "df_non=df[df['actor']=='nonstate']\n",
    "\n",
    "df_state.head()"
   ]
  },
  {
   "cell_type": "code",
   "execution_count": 16,
   "metadata": {
    "colab": {
     "base_uri": "https://localhost:8080/",
     "height": 279
    },
    "id": "8Htk2CiLkwpk",
    "outputId": "bbf78ed5-603b-4625-d756-b3e8ad85e85a"
   },
   "outputs": [
    {
     "data": {
      "image/png": "[encoded data removed]",
      "text/plain": [
       "<Figure size 432x288 with 1 Axes>"
      ]
     },
     "metadata": {
      "needs_background": "light",
      "tags": []
     },
     "output_type": "display_data"
    }
   ],
   "source": [
    "# Plot histograms of the amounts in fraud and non-fraud data \n",
    "plt.hist(df_state.actor, alpha=0.5, label='state-affiliated')\n",
    "plt.hist(df_non.actor, alpha=0.7, label='nonstate-affiliated')\n",
    "plt.xlabel('amount')\n",
    "plt.legend()\n",
    "plt.ylim()\n",
    "plt.show()"
   ]
  },
  {
   "cell_type": "code",
   "execution_count": 17,
   "metadata": {
    "colab": {
     "base_uri": "https://localhost:8080/"
    },
    "id": "I2L2bLAwkwpp",
    "outputId": "4b1b1726-a779-4199-d208-dd665646b231"
   },
   "outputs": [
    {
     "data": {
      "text/plain": [
       "0.0291"
      ]
     },
     "execution_count": 17,
     "metadata": {
      "tags": []
     },
     "output_type": "execute_result"
    }
   ],
   "source": [
    "round(len(df_state.actor)/len(df_non.actor),4)"
   ]
  },
  {
   "cell_type": "code",
   "execution_count": 18,
   "metadata": {
    "colab": {
     "base_uri": "https://localhost:8080/",
     "height": 292
    },
    "id": "w_k917dokwpy",
    "outputId": "935faae3-c7c0-415f-d00a-082343f37cbb"
   },
   "outputs": [
    {
     "data": {
      "image/png": "[encoded data removed]",
      "text/plain": [
       "<Figure size 432x288 with 1 Axes>"
      ]
     },
     "metadata": {
      "needs_background": "light",
      "tags": []
     },
     "output_type": "display_data"
    }
   ],
   "source": [
    "sns.countplot(x='action', hue='actor', data=df)\n",
    "plt.title('Type of Action')\n",
    "\n",
    "plt.show()"
   ]
  },
  {
   "cell_type": "code",
   "execution_count": 19,
   "metadata": {
    "colab": {
     "base_uri": "https://localhost:8080/",
     "height": 279
    },
    "id": "JiV0CUDFkwp2",
    "outputId": "069c1cf4-b2aa-4a39-8c74-3b885cfcb97c"
   },
   "outputs": [
    {
     "data": {
      "image/png": "[encoded data removed]",
      "text/plain": [
       "<Figure size 432x288 with 1 Axes>"
      ]
     },
     "metadata": {
      "needs_background": "light",
      "tags": []
     },
     "output_type": "display_data"
    }
   ],
   "source": [
    "sns.countplot(x='availability_duration', hue='actor', data=df)\n",
    "plt.legend(loc='upper right')\n",
    "\n",
    "plt.show()"
   ]
  },
  {
   "cell_type": "code",
   "execution_count": 30,
   "metadata": {
    "colab": {
     "base_uri": "https://localhost:8080/",
     "height": 359
    },
    "id": "otGxE8fhkwqC",
    "outputId": "c7a3371d-c7d5-42fd-fb6c-644684df7f00"
   },
   "outputs": [
    {
     "data": {
      "text/html": [
       "<div>\n",
       "<style scoped>\n",
       "    .dataframe tbody tr th:only-of-type {\n",
       "        vertical-align: middle;\n",
       "    }\n",
       "\n",
       "    .dataframe tbody tr th {\n",
       "        vertical-align: top;\n",
       "    }\n",
       "\n",
       "    .dataframe thead th {\n",
       "        text-align: right;\n",
       "    }\n",
       "</style>\n",
       "<table border=\"1\" class=\"dataframe\">\n",
       "  <thead>\n",
       "    <tr style=\"text-align: right;\">\n",
       "      <th></th>\n",
       "      <th>state</th>\n",
       "      <th>industry</th>\n",
       "      <th>actor</th>\n",
       "    </tr>\n",
       "  </thead>\n",
       "  <tbody>\n",
       "    <tr>\n",
       "      <th>72</th>\n",
       "      <td>FL</td>\n",
       "      <td>healthcare</td>\n",
       "      <td>62</td>\n",
       "    </tr>\n",
       "    <tr>\n",
       "      <th>30</th>\n",
       "      <td>CA</td>\n",
       "      <td>information telecom</td>\n",
       "      <td>62</td>\n",
       "    </tr>\n",
       "    <tr>\n",
       "      <th>29</th>\n",
       "      <td>CA</td>\n",
       "      <td>healthcare</td>\n",
       "      <td>52</td>\n",
       "    </tr>\n",
       "    <tr>\n",
       "      <th>262</th>\n",
       "      <td>NY</td>\n",
       "      <td>healthcare</td>\n",
       "      <td>35</td>\n",
       "    </tr>\n",
       "    <tr>\n",
       "      <th>28</th>\n",
       "      <td>CA</td>\n",
       "      <td>government</td>\n",
       "      <td>29</td>\n",
       "    </tr>\n",
       "    <tr>\n",
       "      <th>338</th>\n",
       "      <td>TX</td>\n",
       "      <td>healthcare</td>\n",
       "      <td>28</td>\n",
       "    </tr>\n",
       "    <tr>\n",
       "      <th>260</th>\n",
       "      <td>NY</td>\n",
       "      <td>finance and insurance</td>\n",
       "      <td>27</td>\n",
       "    </tr>\n",
       "    <tr>\n",
       "      <th>303</th>\n",
       "      <td>PA</td>\n",
       "      <td>healthcare</td>\n",
       "      <td>25</td>\n",
       "    </tr>\n",
       "    <tr>\n",
       "      <th>27</th>\n",
       "      <td>CA</td>\n",
       "      <td>finance and insurance</td>\n",
       "      <td>20</td>\n",
       "    </tr>\n",
       "    <tr>\n",
       "      <th>57</th>\n",
       "      <td>DC</td>\n",
       "      <td>government</td>\n",
       "      <td>19</td>\n",
       "    </tr>\n",
       "  </tbody>\n",
       "</table>\n",
       "</div>"
      ],
      "text/plain": [
       "    state               industry  actor\n",
       "72     FL             healthcare     62\n",
       "30     CA    information telecom     62\n",
       "29     CA             healthcare     52\n",
       "262    NY             healthcare     35\n",
       "28     CA             government     29\n",
       "338    TX             healthcare     28\n",
       "260    NY  finance and insurance     27\n",
       "303    PA             healthcare     25\n",
       "27     CA  finance and insurance     20\n",
       "57     DC             government     19"
      ]
     },
     "execution_count": 30,
     "metadata": {
      "tags": []
     },
     "output_type": "execute_result"
    }
   ],
   "source": [
    "df_st=df.groupby(by=['state', 'industry'])[['actor']].count().reset_index()\n",
    "df_st.sort_values('actor', ascending=False).head(10)"
   ]
  },
  {
   "cell_type": "code",
   "execution_count": 21,
   "metadata": {
    "colab": {
     "base_uri": "https://localhost:8080/",
     "height": 235
    },
    "id": "A6gXUWlQkwqF",
    "outputId": "9dae0b1e-cd9e-415a-be0b-3e4292315283"
   },
   "outputs": [
    {
     "data": {
      "text/html": [
       "<div>\n",
       "<style scoped>\n",
       "    .dataframe tbody tr th:only-of-type {\n",
       "        vertical-align: middle;\n",
       "    }\n",
       "\n",
       "    .dataframe tbody tr th {\n",
       "        vertical-align: top;\n",
       "    }\n",
       "\n",
       "    .dataframe thead th {\n",
       "        text-align: right;\n",
       "    }\n",
       "</style>\n",
       "<table border=\"1\" class=\"dataframe\">\n",
       "  <thead>\n",
       "    <tr style=\"text-align: right;\">\n",
       "      <th></th>\n",
       "      <th>actor</th>\n",
       "    </tr>\n",
       "    <tr>\n",
       "      <th>state</th>\n",
       "      <th></th>\n",
       "    </tr>\n",
       "  </thead>\n",
       "  <tbody>\n",
       "    <tr>\n",
       "      <th>AK</th>\n",
       "      <td>12</td>\n",
       "    </tr>\n",
       "    <tr>\n",
       "      <th>AL</th>\n",
       "      <td>34</td>\n",
       "    </tr>\n",
       "    <tr>\n",
       "      <th>AR</th>\n",
       "      <td>5</td>\n",
       "    </tr>\n",
       "    <tr>\n",
       "      <th>AZ</th>\n",
       "      <td>17</td>\n",
       "    </tr>\n",
       "    <tr>\n",
       "      <th>CA</th>\n",
       "      <td>249</td>\n",
       "    </tr>\n",
       "  </tbody>\n",
       "</table>\n",
       "</div>"
      ],
      "text/plain": [
       "       actor\n",
       "state       \n",
       "AK        12\n",
       "AL        34\n",
       "AR         5\n",
       "AZ        17\n",
       "CA       249"
      ]
     },
     "execution_count": 21,
     "metadata": {
      "tags": []
     },
     "output_type": "execute_result"
    }
   ],
   "source": [
    "df_st.head()"
   ]
  },
  {
   "cell_type": "code",
   "execution_count": 22,
   "metadata": {
    "id": "6p9SEv0XkwqH"
   },
   "outputs": [],
   "source": [
    "import plotly.graph_objects as go"
   ]
  },
  {
   "cell_type": "code",
   "execution_count": 26,
   "metadata": {
    "colab": {
     "base_uri": "https://localhost:8080/",
     "height": 542
    },
    "id": "7HMN-ViHkwqN",
    "outputId": "31acb445-c21a-42c5-94b0-4ba4757ded51"
   },
   "outputs": [
    {
     "data": {
      "text/html": [
       "<html>\n",
       "<head><meta charset=\"utf-8\" /></head>\n",
       "<body>\n",
       "    <div>\n",
       "            <script src=\"https://cdnjs.cloudflare.com/ajax/libs/mathjax/2.7.5/MathJax.js?config=TeX-AMS-MML_SVG\"></script><script type=\"text/javascript\">if (window.MathJax) {MathJax.Hub.Config({SVG: {font: \"STIX-Web\"}});}</script>\n",
       "                <script type=\"text/javascript\">window.PlotlyConfig = {MathJaxConfig: 'local'};</script>\n",
       "        <script src=\"https://cdn.plot.ly/plotly-latest.min.js\"></script>    \n",
       "            <div id=\"fcc85ce7-16f4-4922-92bc-bc706c7aa8df\" class=\"plotly-graph-div\" style=\"height:525px; width:100%;\"></div>\n",
       "            <script type=\"text/javascript\">\n",
       "                \n",
       "                    window.PLOTLYENV=window.PLOTLYENV || {};\n",
       "                    \n",
       "                if (document.getElementById(\"fcc85ce7-16f4-4922-92bc-bc706c7aa8df\")) {\n",
       "                    Plotly.newPlot(\n",
       "                        'fcc85ce7-16f4-4922-92bc-bc706c7aa8df',\n",
       "                        [{\"colorbar\": {\"title\": {\"text\": \"Number of compromise per state\"}}, \"colorscale\": [[0.0, \"rgb(255,245,240)\"], [0.125, \"rgb(254,224,210)\"], [0.25, \"rgb(252,187,161)\"], [0.375, \"rgb(252,146,114)\"], [0.5, \"rgb(251,106,74)\"], [0.625, \"rgb(239,59,44)\"], [0.75, \"rgb(203,24,29)\"], [0.875, \"rgb(165,15,21)\"], [1.0, \"rgb(103,0,13)\"]], \"locationmode\": \"USA-states\", \"locations\": [\"AK\", \"AL\", \"AR\", \"AZ\", \"CA\", \"CO\", \"CT\", \"DC\", \"DE\", \"FL\", \"GA\", \"HI\", \"IA\", \"ID\", \"IL\", \"IN\", \"KS\", \"KY\", \"LA\", \"MA\", \"MD\", \"ME\", \"MI\", \"MN\", \"MO\", \"MS\", \"MT\", \"NC\", \"ND\", \"NE\", \"NH\", \"NJ\", \"NM\", \"NV\", \"NY\", \"OH\", \"OK\", \"OR\", \"PA\", \"RI\", \"SC\", \"SD\", \"TN\", \"TX\", \"UT\", \"VA\", \"VT\", \"WA\", \"WI\", \"WV\", \"WY\"], \"type\": \"choropleth\", \"z\": [12.0, 34.0, 5.0, 17.0, 249.0, 28.0, 26.0, 41.0, 7.0, 136.0, 50.0, 4.0, 12.0, 4.0, 57.0, 28.0, 11.0, 13.0, 13.0, 37.0, 36.0, 5.0, 36.0, 34.0, 32.0, 10.0, 8.0, 28.0, 3.0, 8.0, 5.0, 38.0, 14.0, 3.0, 130.0, 47.0, 9.0, 20.0, 65.0, 3.0, 15.0, 2.0, 34.0, 83.0, 13.0, 63.0, 5.0, 38.0, 17.0, 10.0, 6.0]}],\n",
       "                        {\"geo\": {\"scope\": \"usa\"}, \"template\": {\"data\": {\"bar\": [{\"error_x\": {\"color\": \"#2a3f5f\"}, \"error_y\": {\"color\": \"#2a3f5f\"}, \"marker\": {\"line\": {\"color\": \"#E5ECF6\", \"width\": 0.5}}, \"type\": \"bar\"}], \"barpolar\": [{\"marker\": {\"line\": {\"color\": \"#E5ECF6\", \"width\": 0.5}}, \"type\": \"barpolar\"}], \"carpet\": [{\"aaxis\": {\"endlinecolor\": \"#2a3f5f\", \"gridcolor\": \"white\", \"linecolor\": \"white\", \"minorgridcolor\": \"white\", \"startlinecolor\": \"#2a3f5f\"}, \"baxis\": {\"endlinecolor\": \"#2a3f5f\", \"gridcolor\": \"white\", \"linecolor\": \"white\", \"minorgridcolor\": \"white\", \"startlinecolor\": \"#2a3f5f\"}, \"type\": \"carpet\"}], \"choropleth\": [{\"colorbar\": {\"outlinewidth\": 0, \"ticks\": \"\"}, \"type\": \"choropleth\"}], \"contour\": [{\"colorbar\": {\"outlinewidth\": 0, \"ticks\": \"\"}, \"colorscale\": [[0.0, \"#0d0887\"], [0.1111111111111111, \"#46039f\"], [0.2222222222222222, \"#7201a8\"], [0.3333333333333333, \"#9c179e\"], [0.4444444444444444, \"#bd3786\"], [0.5555555555555556, \"#d8576b\"], [0.6666666666666666, \"#ed7953\"], [0.7777777777777778, \"#fb9f3a\"], [0.8888888888888888, \"#fdca26\"], [1.0, \"#f0f921\"]], \"type\": \"contour\"}], \"contourcarpet\": [{\"colorbar\": {\"outlinewidth\": 0, \"ticks\": \"\"}, \"type\": \"contourcarpet\"}], \"heatmap\": [{\"colorbar\": {\"outlinewidth\": 0, \"ticks\": \"\"}, \"colorscale\": [[0.0, \"#0d0887\"], [0.1111111111111111, \"#46039f\"], [0.2222222222222222, \"#7201a8\"], [0.3333333333333333, \"#9c179e\"], [0.4444444444444444, \"#bd3786\"], [0.5555555555555556, \"#d8576b\"], [0.6666666666666666, \"#ed7953\"], [0.7777777777777778, \"#fb9f3a\"], [0.8888888888888888, \"#fdca26\"], [1.0, \"#f0f921\"]], \"type\": \"heatmap\"}], \"heatmapgl\": [{\"colorbar\": {\"outlinewidth\": 0, \"ticks\": \"\"}, \"colorscale\": [[0.0, \"#0d0887\"], [0.1111111111111111, \"#46039f\"], [0.2222222222222222, \"#7201a8\"], [0.3333333333333333, \"#9c179e\"], [0.4444444444444444, \"#bd3786\"], [0.5555555555555556, \"#d8576b\"], [0.6666666666666666, \"#ed7953\"], [0.7777777777777778, \"#fb9f3a\"], [0.8888888888888888, \"#fdca26\"], [1.0, \"#f0f921\"]], \"type\": \"heatmapgl\"}], \"histogram\": [{\"marker\": {\"colorbar\": {\"outlinewidth\": 0, \"ticks\": \"\"}}, \"type\": \"histogram\"}], \"histogram2d\": [{\"colorbar\": {\"outlinewidth\": 0, \"ticks\": \"\"}, \"colorscale\": [[0.0, \"#0d0887\"], [0.1111111111111111, \"#46039f\"], [0.2222222222222222, \"#7201a8\"], [0.3333333333333333, \"#9c179e\"], [0.4444444444444444, \"#bd3786\"], [0.5555555555555556, \"#d8576b\"], [0.6666666666666666, \"#ed7953\"], [0.7777777777777778, \"#fb9f3a\"], [0.8888888888888888, \"#fdca26\"], [1.0, \"#f0f921\"]], \"type\": \"histogram2d\"}], \"histogram2dcontour\": [{\"colorbar\": {\"outlinewidth\": 0, \"ticks\": \"\"}, \"colorscale\": [[0.0, \"#0d0887\"], [0.1111111111111111, \"#46039f\"], [0.2222222222222222, \"#7201a8\"], [0.3333333333333333, \"#9c179e\"], [0.4444444444444444, \"#bd3786\"], [0.5555555555555556, \"#d8576b\"], [0.6666666666666666, \"#ed7953\"], [0.7777777777777778, \"#fb9f3a\"], [0.8888888888888888, \"#fdca26\"], [1.0, \"#f0f921\"]], \"type\": \"histogram2dcontour\"}], \"mesh3d\": [{\"colorbar\": {\"outlinewidth\": 0, \"ticks\": \"\"}, \"type\": \"mesh3d\"}], \"parcoords\": [{\"line\": {\"colorbar\": {\"outlinewidth\": 0, \"ticks\": \"\"}}, \"type\": \"parcoords\"}], \"pie\": [{\"automargin\": true, \"type\": \"pie\"}], \"scatter\": [{\"marker\": {\"colorbar\": {\"outlinewidth\": 0, \"ticks\": \"\"}}, \"type\": \"scatter\"}], \"scatter3d\": [{\"line\": {\"colorbar\": {\"outlinewidth\": 0, \"ticks\": \"\"}}, \"marker\": {\"colorbar\": {\"outlinewidth\": 0, \"ticks\": \"\"}}, \"type\": \"scatter3d\"}], \"scattercarpet\": [{\"marker\": {\"colorbar\": {\"outlinewidth\": 0, \"ticks\": \"\"}}, \"type\": \"scattercarpet\"}], \"scattergeo\": [{\"marker\": {\"colorbar\": {\"outlinewidth\": 0, \"ticks\": \"\"}}, \"type\": \"scattergeo\"}], \"scattergl\": [{\"marker\": {\"colorbar\": {\"outlinewidth\": 0, \"ticks\": \"\"}}, \"type\": \"scattergl\"}], \"scattermapbox\": [{\"marker\": {\"colorbar\": {\"outlinewidth\": 0, \"ticks\": \"\"}}, \"type\": \"scattermapbox\"}], \"scatterpolar\": [{\"marker\": {\"colorbar\": {\"outlinewidth\": 0, \"ticks\": \"\"}}, \"type\": \"scatterpolar\"}], \"scatterpolargl\": [{\"marker\": {\"colorbar\": {\"outlinewidth\": 0, \"ticks\": \"\"}}, \"type\": \"scatterpolargl\"}], \"scatterternary\": [{\"marker\": {\"colorbar\": {\"outlinewidth\": 0, \"ticks\": \"\"}}, \"type\": \"scatterternary\"}], \"surface\": [{\"colorbar\": {\"outlinewidth\": 0, \"ticks\": \"\"}, \"colorscale\": [[0.0, \"#0d0887\"], [0.1111111111111111, \"#46039f\"], [0.2222222222222222, \"#7201a8\"], [0.3333333333333333, \"#9c179e\"], [0.4444444444444444, \"#bd3786\"], [0.5555555555555556, \"#d8576b\"], [0.6666666666666666, \"#ed7953\"], [0.7777777777777778, \"#fb9f3a\"], [0.8888888888888888, \"#fdca26\"], [1.0, \"#f0f921\"]], \"type\": \"surface\"}], \"table\": [{\"cells\": {\"fill\": {\"color\": \"#EBF0F8\"}, \"line\": {\"color\": \"white\"}}, \"header\": {\"fill\": {\"color\": \"#C8D4E3\"}, \"line\": {\"color\": \"white\"}}, \"type\": \"table\"}]}, \"layout\": {\"annotationdefaults\": {\"arrowcolor\": \"#2a3f5f\", \"arrowhead\": 0, \"arrowwidth\": 1}, \"coloraxis\": {\"colorbar\": {\"outlinewidth\": 0, \"ticks\": \"\"}}, \"colorscale\": {\"diverging\": [[0, \"#8e0152\"], [0.1, \"#c51b7d\"], [0.2, \"#de77ae\"], [0.3, \"#f1b6da\"], [0.4, \"#fde0ef\"], [0.5, \"#f7f7f7\"], [0.6, \"#e6f5d0\"], [0.7, \"#b8e186\"], [0.8, \"#7fbc41\"], [0.9, \"#4d9221\"], [1, \"#276419\"]], \"sequential\": [[0.0, \"#0d0887\"], [0.1111111111111111, \"#46039f\"], [0.2222222222222222, \"#7201a8\"], [0.3333333333333333, \"#9c179e\"], [0.4444444444444444, \"#bd3786\"], [0.5555555555555556, \"#d8576b\"], [0.6666666666666666, \"#ed7953\"], [0.7777777777777778, \"#fb9f3a\"], [0.8888888888888888, \"#fdca26\"], [1.0, \"#f0f921\"]], \"sequentialminus\": [[0.0, \"#0d0887\"], [0.1111111111111111, \"#46039f\"], [0.2222222222222222, \"#7201a8\"], [0.3333333333333333, \"#9c179e\"], [0.4444444444444444, \"#bd3786\"], [0.5555555555555556, \"#d8576b\"], [0.6666666666666666, \"#ed7953\"], [0.7777777777777778, \"#fb9f3a\"], [0.8888888888888888, \"#fdca26\"], [1.0, \"#f0f921\"]]}, \"colorway\": [\"#636efa\", \"#EF553B\", \"#00cc96\", \"#ab63fa\", \"#FFA15A\", \"#19d3f3\", \"#FF6692\", \"#B6E880\", \"#FF97FF\", \"#FECB52\"], \"font\": {\"color\": \"#2a3f5f\"}, \"geo\": {\"bgcolor\": \"white\", \"lakecolor\": \"white\", \"landcolor\": \"#E5ECF6\", \"showlakes\": true, \"showland\": true, \"subunitcolor\": \"white\"}, \"hoverlabel\": {\"align\": \"left\"}, \"hovermode\": \"closest\", \"mapbox\": {\"style\": \"light\"}, \"paper_bgcolor\": \"white\", \"plot_bgcolor\": \"#E5ECF6\", \"polar\": {\"angularaxis\": {\"gridcolor\": \"white\", \"linecolor\": \"white\", \"ticks\": \"\"}, \"bgcolor\": \"#E5ECF6\", \"radialaxis\": {\"gridcolor\": \"white\", \"linecolor\": \"white\", \"ticks\": \"\"}}, \"scene\": {\"xaxis\": {\"backgroundcolor\": \"#E5ECF6\", \"gridcolor\": \"white\", \"gridwidth\": 2, \"linecolor\": \"white\", \"showbackground\": true, \"ticks\": \"\", \"zerolinecolor\": \"white\"}, \"yaxis\": {\"backgroundcolor\": \"#E5ECF6\", \"gridcolor\": \"white\", \"gridwidth\": 2, \"linecolor\": \"white\", \"showbackground\": true, \"ticks\": \"\", \"zerolinecolor\": \"white\"}, \"zaxis\": {\"backgroundcolor\": \"#E5ECF6\", \"gridcolor\": \"white\", \"gridwidth\": 2, \"linecolor\": \"white\", \"showbackground\": true, \"ticks\": \"\", \"zerolinecolor\": \"white\"}}, \"shapedefaults\": {\"line\": {\"color\": \"#2a3f5f\"}}, \"ternary\": {\"aaxis\": {\"gridcolor\": \"white\", \"linecolor\": \"white\", \"ticks\": \"\"}, \"baxis\": {\"gridcolor\": \"white\", \"linecolor\": \"white\", \"ticks\": \"\"}, \"bgcolor\": \"#E5ECF6\", \"caxis\": {\"gridcolor\": \"white\", \"linecolor\": \"white\", \"ticks\": \"\"}}, \"title\": {\"x\": 0.05}, \"xaxis\": {\"automargin\": true, \"gridcolor\": \"white\", \"linecolor\": \"white\", \"ticks\": \"\", \"title\": {\"standoff\": 15}, \"zerolinecolor\": \"white\", \"zerolinewidth\": 2}, \"yaxis\": {\"automargin\": true, \"gridcolor\": \"white\", \"linecolor\": \"white\", \"ticks\": \"\", \"title\": {\"standoff\": 15}, \"zerolinecolor\": \"white\", \"zerolinewidth\": 2}}}, \"title\": {\"text\": \"Cybersecurity Compromise by State\"}},\n",
       "                        {\"responsive\": true}\n",
       "                    ).then(function(){\n",
       "                            \n",
       "var gd = document.getElementById('fcc85ce7-16f4-4922-92bc-bc706c7aa8df');\n",
       "var x = new MutationObserver(function (mutations, observer) {{\n",
       "        var display = window.getComputedStyle(gd).display;\n",
       "        if (!display || display === 'none') {{\n",
       "            console.log([gd, 'removed!']);\n",
       "            Plotly.purge(gd);\n",
       "            observer.disconnect();\n",
       "        }}\n",
       "}});\n",
       "\n",
       "// Listen for the removal of the full notebook cells\n",
       "var notebookContainer = gd.closest('#notebook-container');\n",
       "if (notebookContainer) {{\n",
       "    x.observe(notebookContainer, {childList: true});\n",
       "}}\n",
       "\n",
       "// Listen for the clearing of the current output cell\n",
       "var outputEl = gd.closest('.output');\n",
       "if (outputEl) {{\n",
       "    x.observe(outputEl, {childList: true});\n",
       "}}\n",
       "\n",
       "                        })\n",
       "                };\n",
       "                \n",
       "            </script>\n",
       "        </div>\n",
       "</body>\n",
       "</html>"
      ]
     },
     "metadata": {
      "tags": []
     },
     "output_type": "display_data"
    }
   ],
   "source": [
    "fig = go.Figure(data=go.Choropleth(\n",
    "    locations=df_st['state'], # Spatial coordinates\n",
    "    z = df_st['actor'].astype(float), # Data to be color-coded\n",
    "    locationmode = 'USA-states', # set of locations match entries in `locations`\n",
    "    colorscale = 'Reds',\n",
    "    colorbar_title = \"Number of compromise per state\",\n",
    "))\n",
    "\n",
    "fig.update_layout(\n",
    "    title_text = 'Cybersecurity Compromise by State',\n",
    "    geo_scope='usa', # limite map scope to USA\n",
    ")\n",
    "\n",
    "fig.write_html(\"usmap.html\")\n",
    "\n",
    "fig.show()"
   ]
  },
  {
   "cell_type": "code",
   "execution_count": 31,
   "metadata": {
    "id": "6ACxIDqVkwqV"
   },
   "outputs": [],
   "source": []
  },
  {
   "cell_type": "markdown",
   "metadata": {
    "id": "-bKpyJVPkwqc"
   },
   "source": [
    "## Preparation of the Data"
   ]
  },
  {
   "cell_type": "code",
   "execution_count": 32,
   "metadata": {
    "colab": {
     "base_uri": "https://localhost:8080/"
    },
    "id": "GsXHKUm6kwqe",
    "outputId": "fddb163c-59e7-4b30-bbc1-d892552a1825"
   },
   "outputs": [
    {
     "name": "stdout",
     "output_type": "stream",
     "text": [
      "state 51\n",
      "industry 22\n",
      "n_employees 8\n",
      "incident_year 19\n",
      "attribute 3\n",
      "compromise 19\n",
      "confidence 4\n",
      "data_disclosure 2\n",
      "action 7\n",
      "action_variety 70\n",
      "action_vector 41\n",
      "discovery_variety 22\n",
      "asset_group 7\n",
      "asset_variety 53\n",
      "availability_duration 7\n",
      "discovery 8\n",
      "containment 8\n",
      "exfiltration 8\n",
      "time_compromise 7\n",
      "actor 2\n"
     ]
    }
   ],
   "source": [
    "for col in df.columns:\n",
    "  print(col, df[col].nunique())"
   ]
  },
  {
   "cell_type": "code",
   "execution_count": 33,
   "metadata": {
    "colab": {
     "base_uri": "https://localhost:8080/"
    },
    "id": "6rTZit0ykwqh",
    "outputId": "8157063d-4bb1-41ef-a6bc-b621138f17ef"
   },
   "outputs": [
    {
     "name": "stdout",
     "output_type": "stream",
     "text": [
      "state 0.112\n",
      "n_employees 0.24\n",
      "compromise 0.005\n",
      "confidence 0.587\n",
      "data_disclosure 0.022\n",
      "action 0.003\n",
      "action_variety 0.146\n",
      "action_vector 0.198\n",
      "discovery_variety 0.435\n",
      "availability_duration 0.084\n",
      "discovery 0.691\n",
      "containment 0.858\n",
      "exfiltration 0.868\n",
      "time_compromise 0.801\n"
     ]
    }
   ],
   "source": [
    "for nul in df.columns:\n",
    "  if df[nul].isnull().sum()/len(df)>0:\n",
    "    print(nul, df[nul].isnull().mean().round(3))"
   ]
  },
  {
   "cell_type": "code",
   "execution_count": 34,
   "metadata": {
    "id": "9xsgX5SYkwqk"
   },
   "outputs": [],
   "source": [
    "df.availability_duration.replace(to_replace='never', value='0', inplace=True)"
   ]
  },
  {
   "cell_type": "markdown",
   "metadata": {
    "id": "npDk7vGCkwqn"
   },
   "source": []
  },
  {
   "cell_type": "code",
   "execution_count": 35,
   "metadata": {
    "colab": {
     "base_uri": "https://localhost:8080/",
     "height": 258
    },
    "id": "4VLAq1szkwqn",
    "outputId": "880d5a10-980f-4777-e272-3d300bef7962"
   },
   "outputs": [
    {
     "data": {
      "text/html": [
       "<div>\n",
       "<style scoped>\n",
       "    .dataframe tbody tr th:only-of-type {\n",
       "        vertical-align: middle;\n",
       "    }\n",
       "\n",
       "    .dataframe tbody tr th {\n",
       "        vertical-align: top;\n",
       "    }\n",
       "\n",
       "    .dataframe thead th {\n",
       "        text-align: right;\n",
       "    }\n",
       "</style>\n",
       "<table border=\"1\" class=\"dataframe\">\n",
       "  <thead>\n",
       "    <tr style=\"text-align: right;\">\n",
       "      <th></th>\n",
       "      <th>state</th>\n",
       "      <th>industry</th>\n",
       "      <th>n_employees</th>\n",
       "      <th>incident_year</th>\n",
       "      <th>attribute</th>\n",
       "      <th>compromise</th>\n",
       "      <th>confidence</th>\n",
       "      <th>data_disclosure</th>\n",
       "      <th>action</th>\n",
       "      <th>action_variety</th>\n",
       "      <th>action_vector</th>\n",
       "      <th>discovery_variety</th>\n",
       "      <th>asset_group</th>\n",
       "      <th>asset_variety</th>\n",
       "      <th>availability_duration</th>\n",
       "      <th>discovery</th>\n",
       "      <th>containment</th>\n",
       "      <th>exfiltration</th>\n",
       "      <th>time_compromise</th>\n",
       "      <th>actor</th>\n",
       "    </tr>\n",
       "  </thead>\n",
       "  <tbody>\n",
       "    <tr>\n",
       "      <th>0</th>\n",
       "      <td>GA</td>\n",
       "      <td>education</td>\n",
       "      <td>1001 to 10000</td>\n",
       "      <td>2017</td>\n",
       "      <td>confidentiality</td>\n",
       "      <td>alter behavior</td>\n",
       "      <td>high</td>\n",
       "      <td>yes</td>\n",
       "      <td>social</td>\n",
       "      <td>phishing</td>\n",
       "      <td>email</td>\n",
       "      <td>law enforcement</td>\n",
       "      <td>server</td>\n",
       "      <td>mail</td>\n",
       "      <td>0</td>\n",
       "      <td>months</td>\n",
       "      <td>NaN</td>\n",
       "      <td>NaN</td>\n",
       "      <td>NaN</td>\n",
       "      <td>nonstate</td>\n",
       "    </tr>\n",
       "    <tr>\n",
       "      <th>1</th>\n",
       "      <td>PA</td>\n",
       "      <td>healthcare</td>\n",
       "      <td>NaN</td>\n",
       "      <td>2018</td>\n",
       "      <td>confidentiality</td>\n",
       "      <td>data loss</td>\n",
       "      <td>low</td>\n",
       "      <td>yes</td>\n",
       "      <td>misuse</td>\n",
       "      <td>knowledge abuse</td>\n",
       "      <td>physical access</td>\n",
       "      <td>NaN</td>\n",
       "      <td>server</td>\n",
       "      <td>database</td>\n",
       "      <td>0</td>\n",
       "      <td>days</td>\n",
       "      <td>NaN</td>\n",
       "      <td>0</td>\n",
       "      <td>minutes</td>\n",
       "      <td>nonstate</td>\n",
       "    </tr>\n",
       "    <tr>\n",
       "      <th>2</th>\n",
       "      <td>NE</td>\n",
       "      <td>finance and insurance</td>\n",
       "      <td>50001 to 100000</td>\n",
       "      <td>2017</td>\n",
       "      <td>confidentiality</td>\n",
       "      <td>data loss</td>\n",
       "      <td>medium</td>\n",
       "      <td>yes</td>\n",
       "      <td>physical</td>\n",
       "      <td>skimmer</td>\n",
       "      <td>victim public area</td>\n",
       "      <td>customer</td>\n",
       "      <td>terminal</td>\n",
       "      <td>atm</td>\n",
       "      <td>0</td>\n",
       "      <td>NaN</td>\n",
       "      <td>NaN</td>\n",
       "      <td>NaN</td>\n",
       "      <td>NaN</td>\n",
       "      <td>nonstate</td>\n",
       "    </tr>\n",
       "    <tr>\n",
       "      <th>3</th>\n",
       "      <td>OH</td>\n",
       "      <td>government</td>\n",
       "      <td>101 to 1000</td>\n",
       "      <td>2015</td>\n",
       "      <td>confidentiality</td>\n",
       "      <td>data loss</td>\n",
       "      <td>NaN</td>\n",
       "      <td>yes</td>\n",
       "      <td>error</td>\n",
       "      <td>omission</td>\n",
       "      <td>NaN</td>\n",
       "      <td>customer</td>\n",
       "      <td>media</td>\n",
       "      <td>disk media</td>\n",
       "      <td>0</td>\n",
       "      <td>NaN</td>\n",
       "      <td>NaN</td>\n",
       "      <td>NaN</td>\n",
       "      <td>NaN</td>\n",
       "      <td>nonstate</td>\n",
       "    </tr>\n",
       "    <tr>\n",
       "      <th>4</th>\n",
       "      <td>NaN</td>\n",
       "      <td>retail trade</td>\n",
       "      <td>1 to 10</td>\n",
       "      <td>2017</td>\n",
       "      <td>integrity</td>\n",
       "      <td>hardware tampering</td>\n",
       "      <td>high</td>\n",
       "      <td>yes</td>\n",
       "      <td>physical</td>\n",
       "      <td>skimmer</td>\n",
       "      <td>victim public area</td>\n",
       "      <td>customer</td>\n",
       "      <td>terminal</td>\n",
       "      <td>gas terminal</td>\n",
       "      <td>0</td>\n",
       "      <td>minutes</td>\n",
       "      <td>NaN</td>\n",
       "      <td>NaN</td>\n",
       "      <td>minutes</td>\n",
       "      <td>nonstate</td>\n",
       "    </tr>\n",
       "  </tbody>\n",
       "</table>\n",
       "</div>"
      ],
      "text/plain": [
       "  state               industry      n_employees  incident_year        attribute          compromise confidence data_disclosure    action   action_variety       action_vector discovery_variety asset_group  asset_variety availability_duration discovery containment exfiltration time_compromise     actor\n",
       "0    GA              education    1001 to 10000           2017  confidentiality      alter behavior       high             yes    social         phishing               email   law enforcement     server            mail                     0    months         NaN          NaN             NaN  nonstate\n",
       "1    PA             healthcare              NaN           2018  confidentiality           data loss        low             yes    misuse  knowledge abuse     physical access               NaN     server        database                     0      days         NaN            0         minutes  nonstate\n",
       "2    NE  finance and insurance  50001 to 100000           2017  confidentiality           data loss     medium             yes  physical          skimmer  victim public area          customer    terminal            atm                     0       NaN         NaN          NaN             NaN  nonstate\n",
       "3    OH             government      101 to 1000           2015  confidentiality           data loss        NaN             yes     error         omission                 NaN          customer       media     disk media                     0       NaN         NaN          NaN             NaN  nonstate\n",
       "4   NaN           retail trade          1 to 10           2017        integrity  hardware tampering       high             yes  physical          skimmer  victim public area          customer    terminal   gas terminal                     0   minutes         NaN          NaN         minutes  nonstate"
      ]
     },
     "execution_count": 35,
     "metadata": {
      "tags": []
     },
     "output_type": "execute_result"
    }
   ],
   "source": [
    "df.head()"
   ]
  },
  {
   "cell_type": "code",
   "execution_count": 36,
   "metadata": {
    "colab": {
     "base_uri": "https://localhost:8080/"
    },
    "id": "WKwkQLr3kwqw",
    "outputId": "538e41f9-1a51-4168-8f26-d3f0d5675a17"
   },
   "outputs": [
    {
     "data": {
      "text/plain": [
       "0          1603\n",
       "days         20\n",
       "hours        15\n",
       "weeks         7\n",
       "months        6\n",
       "minutes       4\n",
       "Name: availability_duration, dtype: int64"
      ]
     },
     "execution_count": 36,
     "metadata": {
      "tags": []
     },
     "output_type": "execute_result"
    }
   ],
   "source": [
    "df.availability_duration.value_counts()"
   ]
  },
  {
   "cell_type": "code",
   "execution_count": 37,
   "metadata": {
    "colab": {
     "base_uri": "https://localhost:8080/"
    },
    "id": "pPAwM49Hkwq3",
    "outputId": "deb4a14e-a5b9-4c7c-c46c-6d6d264b7f4a"
   },
   "outputs": [
    {
     "data": {
      "text/plain": [
       "3.0    397\n",
       "4.0    359\n",
       "2.0    203\n",
       "7.0    142\n",
       "8.0    107\n",
       "1.0     94\n",
       "6.0     41\n",
       "5.0     29\n",
       "Name: n_employees, dtype: int64"
      ]
     },
     "execution_count": 37,
     "metadata": {
      "tags": []
     },
     "output_type": "execute_result"
    }
   ],
   "source": [
    "map1={'1 to 10':1, '11 to 100':2, '101 to 1000':3, '1001 to 10000':4, '25001 to 50000':5, '50001 to 100000':6,\n",
    "     \n",
    "      '10001 to 25000':7 ,'over 100000':8}\n",
    "\n",
    "df['n_employees']=df['n_employees'].map(map1)\n",
    "df['n_employees'].value_counts()"
   ]
  },
  {
   "cell_type": "code",
   "execution_count": 38,
   "metadata": {
    "id": "kzB6uBSHkwq6"
   },
   "outputs": [],
   "source": [
    "map2={'0':0, 'low':1, 'medium':2, 'high':3}\n",
    "\n",
    "df['confidence']=df.confidence.map(map2)\n"
   ]
  },
  {
   "cell_type": "code",
   "execution_count": 39,
   "metadata": {
    "id": "KsIJW7Hukwq8"
   },
   "outputs": [],
   "source": [
    "map3={'0':0, 'seconds':1, 'minutes':2, 'hours':3, 'days':4, 'weeks':5, 'months':6, 'years':7}\n",
    "cols=['availability_duration','discovery','containment','exfiltration','time_compromise' ]\n",
    "\n",
    "for col in cols:\n",
    "    df[col]=df[col].map(map3)"
   ]
  },
  {
   "cell_type": "code",
   "execution_count": 40,
   "metadata": {
    "colab": {
     "base_uri": "https://localhost:8080/",
     "height": 258
    },
    "id": "vPRpkRGskwrC",
    "outputId": "17086705-1070-4cc7-ba56-6a6f4b6c5771"
   },
   "outputs": [
    {
     "data": {
      "text/html": [
       "<div>\n",
       "<style scoped>\n",
       "    .dataframe tbody tr th:only-of-type {\n",
       "        vertical-align: middle;\n",
       "    }\n",
       "\n",
       "    .dataframe tbody tr th {\n",
       "        vertical-align: top;\n",
       "    }\n",
       "\n",
       "    .dataframe thead th {\n",
       "        text-align: right;\n",
       "    }\n",
       "</style>\n",
       "<table border=\"1\" class=\"dataframe\">\n",
       "  <thead>\n",
       "    <tr style=\"text-align: right;\">\n",
       "      <th></th>\n",
       "      <th>state</th>\n",
       "      <th>industry</th>\n",
       "      <th>n_employees</th>\n",
       "      <th>incident_year</th>\n",
       "      <th>attribute</th>\n",
       "      <th>compromise</th>\n",
       "      <th>confidence</th>\n",
       "      <th>data_disclosure</th>\n",
       "      <th>action</th>\n",
       "      <th>action_variety</th>\n",
       "      <th>action_vector</th>\n",
       "      <th>discovery_variety</th>\n",
       "      <th>asset_group</th>\n",
       "      <th>asset_variety</th>\n",
       "      <th>availability_duration</th>\n",
       "      <th>discovery</th>\n",
       "      <th>containment</th>\n",
       "      <th>exfiltration</th>\n",
       "      <th>time_compromise</th>\n",
       "      <th>actor</th>\n",
       "    </tr>\n",
       "  </thead>\n",
       "  <tbody>\n",
       "    <tr>\n",
       "      <th>0</th>\n",
       "      <td>GA</td>\n",
       "      <td>education</td>\n",
       "      <td>4.0</td>\n",
       "      <td>2017</td>\n",
       "      <td>confidentiality</td>\n",
       "      <td>alter behavior</td>\n",
       "      <td>3.0</td>\n",
       "      <td>yes</td>\n",
       "      <td>social</td>\n",
       "      <td>phishing</td>\n",
       "      <td>email</td>\n",
       "      <td>law enforcement</td>\n",
       "      <td>server</td>\n",
       "      <td>mail</td>\n",
       "      <td>0.0</td>\n",
       "      <td>6.0</td>\n",
       "      <td>NaN</td>\n",
       "      <td>NaN</td>\n",
       "      <td>NaN</td>\n",
       "      <td>nonstate</td>\n",
       "    </tr>\n",
       "    <tr>\n",
       "      <th>1</th>\n",
       "      <td>PA</td>\n",
       "      <td>healthcare</td>\n",
       "      <td>NaN</td>\n",
       "      <td>2018</td>\n",
       "      <td>confidentiality</td>\n",
       "      <td>data loss</td>\n",
       "      <td>1.0</td>\n",
       "      <td>yes</td>\n",
       "      <td>misuse</td>\n",
       "      <td>knowledge abuse</td>\n",
       "      <td>physical access</td>\n",
       "      <td>NaN</td>\n",
       "      <td>server</td>\n",
       "      <td>database</td>\n",
       "      <td>0.0</td>\n",
       "      <td>4.0</td>\n",
       "      <td>NaN</td>\n",
       "      <td>0.0</td>\n",
       "      <td>2.0</td>\n",
       "      <td>nonstate</td>\n",
       "    </tr>\n",
       "    <tr>\n",
       "      <th>2</th>\n",
       "      <td>NE</td>\n",
       "      <td>finance and insurance</td>\n",
       "      <td>6.0</td>\n",
       "      <td>2017</td>\n",
       "      <td>confidentiality</td>\n",
       "      <td>data loss</td>\n",
       "      <td>2.0</td>\n",
       "      <td>yes</td>\n",
       "      <td>physical</td>\n",
       "      <td>skimmer</td>\n",
       "      <td>victim public area</td>\n",
       "      <td>customer</td>\n",
       "      <td>terminal</td>\n",
       "      <td>atm</td>\n",
       "      <td>0.0</td>\n",
       "      <td>NaN</td>\n",
       "      <td>NaN</td>\n",
       "      <td>NaN</td>\n",
       "      <td>NaN</td>\n",
       "      <td>nonstate</td>\n",
       "    </tr>\n",
       "    <tr>\n",
       "      <th>3</th>\n",
       "      <td>OH</td>\n",
       "      <td>government</td>\n",
       "      <td>3.0</td>\n",
       "      <td>2015</td>\n",
       "      <td>confidentiality</td>\n",
       "      <td>data loss</td>\n",
       "      <td>NaN</td>\n",
       "      <td>yes</td>\n",
       "      <td>error</td>\n",
       "      <td>omission</td>\n",
       "      <td>NaN</td>\n",
       "      <td>customer</td>\n",
       "      <td>media</td>\n",
       "      <td>disk media</td>\n",
       "      <td>0.0</td>\n",
       "      <td>NaN</td>\n",
       "      <td>NaN</td>\n",
       "      <td>NaN</td>\n",
       "      <td>NaN</td>\n",
       "      <td>nonstate</td>\n",
       "    </tr>\n",
       "    <tr>\n",
       "      <th>4</th>\n",
       "      <td>NaN</td>\n",
       "      <td>retail trade</td>\n",
       "      <td>1.0</td>\n",
       "      <td>2017</td>\n",
       "      <td>integrity</td>\n",
       "      <td>hardware tampering</td>\n",
       "      <td>3.0</td>\n",
       "      <td>yes</td>\n",
       "      <td>physical</td>\n",
       "      <td>skimmer</td>\n",
       "      <td>victim public area</td>\n",
       "      <td>customer</td>\n",
       "      <td>terminal</td>\n",
       "      <td>gas terminal</td>\n",
       "      <td>0.0</td>\n",
       "      <td>2.0</td>\n",
       "      <td>NaN</td>\n",
       "      <td>NaN</td>\n",
       "      <td>2.0</td>\n",
       "      <td>nonstate</td>\n",
       "    </tr>\n",
       "  </tbody>\n",
       "</table>\n",
       "</div>"
      ],
      "text/plain": [
       "  state               industry  n_employees  incident_year        attribute          compromise  confidence data_disclosure    action   action_variety       action_vector discovery_variety asset_group  asset_variety  availability_duration  discovery  containment  exfiltration  time_compromise     actor\n",
       "0    GA              education          4.0           2017  confidentiality      alter behavior         3.0             yes    social         phishing               email   law enforcement     server            mail                    0.0        6.0          NaN           NaN              NaN  nonstate\n",
       "1    PA             healthcare          NaN           2018  confidentiality           data loss         1.0             yes    misuse  knowledge abuse     physical access               NaN     server        database                    0.0        4.0          NaN           0.0              2.0  nonstate\n",
       "2    NE  finance and insurance          6.0           2017  confidentiality           data loss         2.0             yes  physical          skimmer  victim public area          customer    terminal            atm                    0.0        NaN          NaN           NaN              NaN  nonstate\n",
       "3    OH             government          3.0           2015  confidentiality           data loss         NaN             yes     error         omission                 NaN          customer       media     disk media                    0.0        NaN          NaN           NaN              NaN  nonstate\n",
       "4   NaN           retail trade          1.0           2017        integrity  hardware tampering         3.0             yes  physical          skimmer  victim public area          customer    terminal   gas terminal                    0.0        2.0          NaN           NaN              2.0  nonstate"
      ]
     },
     "execution_count": 40,
     "metadata": {
      "tags": []
     },
     "output_type": "execute_result"
    }
   ],
   "source": [
    "df.head()"
   ]
  },
  {
   "cell_type": "code",
   "execution_count": 41,
   "metadata": {
    "id": "vjjQUC2ekwrF"
   },
   "outputs": [],
   "source": [
    "map4={'nonstate':0,'state-affiliated':1}\n",
    "\n",
    "df['actor']=df.actor.map(map4)"
   ]
  },
  {
   "cell_type": "code",
   "execution_count": 42,
   "metadata": {
    "colab": {
     "base_uri": "https://localhost:8080/"
    },
    "id": "Xin1O8_pkwrI",
    "outputId": "b7a3e364-ac26-439d-eb55-0bd56ed44d1d"
   },
   "outputs": [
    {
     "data": {
      "text/plain": [
       "0    1755\n",
       "1      51\n",
       "Name: actor, dtype: int64"
      ]
     },
     "execution_count": 42,
     "metadata": {
      "tags": []
     },
     "output_type": "execute_result"
    }
   ],
   "source": [
    "df.actor.value_counts()"
   ]
  },
  {
   "cell_type": "code",
   "execution_count": 43,
   "metadata": {
    "colab": {
     "base_uri": "https://localhost:8080/"
    },
    "id": "ZH4o4JE-kwrL",
    "outputId": "6d5cd43b-1f39-4b79-ff3c-fa632b77fbea"
   },
   "outputs": [
    {
     "data": {
      "text/plain": [
       "6.0    137\n",
       "4.0    109\n",
       "7.0    101\n",
       "3.0    101\n",
       "5.0     49\n",
       "2.0     48\n",
       "1.0      8\n",
       "0.0      5\n",
       "Name: discovery, dtype: int64"
      ]
     },
     "execution_count": 43,
     "metadata": {
      "tags": []
     },
     "output_type": "execute_result"
    }
   ],
   "source": [
    "df.discovery.value_counts()"
   ]
  },
  {
   "cell_type": "code",
   "execution_count": 44,
   "metadata": {
    "colab": {
     "base_uri": "https://localhost:8080/"
    },
    "id": "iSUdPqtakwrO",
    "outputId": "576ed407-c0af-443f-89c3-eee504d01f24"
   },
   "outputs": [
    {
     "name": "stdout",
     "output_type": "stream",
     "text": [
      "<class 'pandas.core.frame.DataFrame'>\n",
      "RangeIndex: 1806 entries, 0 to 1805\n",
      "Data columns (total 20 columns):\n",
      " #   Column                 Non-Null Count  Dtype  \n",
      "---  ------                 --------------  -----  \n",
      " 0   state                  1604 non-null   object \n",
      " 1   industry               1806 non-null   object \n",
      " 2   n_employees            1372 non-null   float64\n",
      " 3   incident_year          1806 non-null   int64  \n",
      " 4   attribute              1806 non-null   object \n",
      " 5   compromise             1797 non-null   object \n",
      " 6   confidence             745 non-null    float64\n",
      " 7   data_disclosure        1766 non-null   object \n",
      " 8   action                 1800 non-null   object \n",
      " 9   action_variety         1543 non-null   object \n",
      " 10  action_vector          1448 non-null   object \n",
      " 11  discovery_variety      1020 non-null   object \n",
      " 12  asset_group            1806 non-null   object \n",
      " 13  asset_variety          1806 non-null   object \n",
      " 14  availability_duration  1655 non-null   float64\n",
      " 15  discovery              558 non-null    float64\n",
      " 16  containment            257 non-null    float64\n",
      " 17  exfiltration           238 non-null    float64\n",
      " 18  time_compromise        360 non-null    float64\n",
      " 19  actor                  1806 non-null   int64  \n",
      "dtypes: float64(7), int64(2), object(11)\n",
      "memory usage: 282.3+ KB\n"
     ]
    }
   ],
   "source": [
    "df.info()"
   ]
  },
  {
   "cell_type": "code",
   "execution_count": 45,
   "metadata": {
    "colab": {
     "base_uri": "https://localhost:8080/"
    },
    "id": "vvEAcB1JkwrS",
    "outputId": "7cb2ffe3-1794-4539-a2fa-6cd9cc8446af"
   },
   "outputs": [
    {
     "data": {
      "text/plain": [
       "Index(['state', 'industry', 'n_employees', 'incident_year', 'attribute', 'compromise', 'confidence', 'data_disclosure', 'action', 'action_variety', 'action_vector', 'discovery_variety', 'asset_group', 'asset_variety', 'availability_duration', 'discovery', 'containment', 'exfiltration', 'time_compromise', 'actor'], dtype='object')"
      ]
     },
     "execution_count": 45,
     "metadata": {
      "tags": []
     },
     "output_type": "execute_result"
    }
   ],
   "source": [
    "df.keys()"
   ]
  },
  {
   "cell_type": "code",
   "execution_count": 46,
   "metadata": {
    "id": "8hIxpiK2kwrZ"
   },
   "outputs": [],
   "source": [
    "df[['state', 'industry', 'incident_year', 'attribute', 'compromise',\n",
    "    'data_disclosure', 'action', 'action_variety', 'action_vector', 'discovery_variety', \n",
    "    'asset_group', 'asset_variety']]=df[['state', 'industry', 'incident_year', 'attribute', 'compromise',\n",
    "    'data_disclosure', 'action', 'action_variety', 'action_vector', 'discovery_variety', \n",
    "    'asset_group', 'asset_variety']].astype('category')"
   ]
  },
  {
   "cell_type": "code",
   "execution_count": 47,
   "metadata": {
    "colab": {
     "base_uri": "https://localhost:8080/"
    },
    "id": "mLIWCIuOkwro",
    "outputId": "a46300ee-e3f3-44a4-e8f1-1d809caf0d91"
   },
   "outputs": [
    {
     "name": "stdout",
     "output_type": "stream",
     "text": [
      "<class 'pandas.core.frame.DataFrame'>\n",
      "RangeIndex: 1806 entries, 0 to 1805\n",
      "Data columns (total 20 columns):\n",
      " #   Column                 Non-Null Count  Dtype   \n",
      "---  ------                 --------------  -----   \n",
      " 0   state                  1604 non-null   category\n",
      " 1   industry               1806 non-null   category\n",
      " 2   n_employees            1372 non-null   float64 \n",
      " 3   incident_year          1806 non-null   category\n",
      " 4   attribute              1806 non-null   category\n",
      " 5   compromise             1797 non-null   category\n",
      " 6   confidence             745 non-null    float64 \n",
      " 7   data_disclosure        1766 non-null   category\n",
      " 8   action                 1800 non-null   category\n",
      " 9   action_variety         1543 non-null   category\n",
      " 10  action_vector          1448 non-null   category\n",
      " 11  discovery_variety      1020 non-null   category\n",
      " 12  asset_group            1806 non-null   category\n",
      " 13  asset_variety          1806 non-null   category\n",
      " 14  availability_duration  1655 non-null   float64 \n",
      " 15  discovery              558 non-null    float64 \n",
      " 16  containment            257 non-null    float64 \n",
      " 17  exfiltration           238 non-null    float64 \n",
      " 18  time_compromise        360 non-null    float64 \n",
      " 19  actor                  1806 non-null   int64   \n",
      "dtypes: category(12), float64(7), int64(1)\n",
      "memory usage: 148.7 KB\n"
     ]
    }
   ],
   "source": [
    "df.info()"
   ]
  },
  {
   "cell_type": "code",
   "execution_count": 48,
   "metadata": {
    "colab": {
     "base_uri": "https://localhost:8080/",
     "height": 258
    },
    "id": "TMvQYzVkkwrs",
    "outputId": "1d27b8ca-5852-409a-8332-ad95e81f5295"
   },
   "outputs": [
    {
     "data": {
      "text/html": [
       "<div>\n",
       "<style scoped>\n",
       "    .dataframe tbody tr th:only-of-type {\n",
       "        vertical-align: middle;\n",
       "    }\n",
       "\n",
       "    .dataframe tbody tr th {\n",
       "        vertical-align: top;\n",
       "    }\n",
       "\n",
       "    .dataframe thead th {\n",
       "        text-align: right;\n",
       "    }\n",
       "</style>\n",
       "<table border=\"1\" class=\"dataframe\">\n",
       "  <thead>\n",
       "    <tr style=\"text-align: right;\">\n",
       "      <th></th>\n",
       "      <th>state</th>\n",
       "      <th>industry</th>\n",
       "      <th>n_employees</th>\n",
       "      <th>incident_year</th>\n",
       "      <th>attribute</th>\n",
       "      <th>compromise</th>\n",
       "      <th>confidence</th>\n",
       "      <th>data_disclosure</th>\n",
       "      <th>action</th>\n",
       "      <th>action_variety</th>\n",
       "      <th>action_vector</th>\n",
       "      <th>discovery_variety</th>\n",
       "      <th>asset_group</th>\n",
       "      <th>asset_variety</th>\n",
       "      <th>availability_duration</th>\n",
       "      <th>discovery</th>\n",
       "      <th>containment</th>\n",
       "      <th>exfiltration</th>\n",
       "      <th>time_compromise</th>\n",
       "      <th>actor</th>\n",
       "    </tr>\n",
       "  </thead>\n",
       "  <tbody>\n",
       "    <tr>\n",
       "      <th>0</th>\n",
       "      <td>GA</td>\n",
       "      <td>education</td>\n",
       "      <td>4.0</td>\n",
       "      <td>2017</td>\n",
       "      <td>confidentiality</td>\n",
       "      <td>alter behavior</td>\n",
       "      <td>3.0</td>\n",
       "      <td>yes</td>\n",
       "      <td>social</td>\n",
       "      <td>phishing</td>\n",
       "      <td>email</td>\n",
       "      <td>law enforcement</td>\n",
       "      <td>server</td>\n",
       "      <td>mail</td>\n",
       "      <td>0.0</td>\n",
       "      <td>6.0</td>\n",
       "      <td>NaN</td>\n",
       "      <td>NaN</td>\n",
       "      <td>NaN</td>\n",
       "      <td>0</td>\n",
       "    </tr>\n",
       "    <tr>\n",
       "      <th>1</th>\n",
       "      <td>PA</td>\n",
       "      <td>healthcare</td>\n",
       "      <td>NaN</td>\n",
       "      <td>2018</td>\n",
       "      <td>confidentiality</td>\n",
       "      <td>data loss</td>\n",
       "      <td>1.0</td>\n",
       "      <td>yes</td>\n",
       "      <td>misuse</td>\n",
       "      <td>knowledge abuse</td>\n",
       "      <td>physical access</td>\n",
       "      <td>NaN</td>\n",
       "      <td>server</td>\n",
       "      <td>database</td>\n",
       "      <td>0.0</td>\n",
       "      <td>4.0</td>\n",
       "      <td>NaN</td>\n",
       "      <td>0.0</td>\n",
       "      <td>2.0</td>\n",
       "      <td>0</td>\n",
       "    </tr>\n",
       "    <tr>\n",
       "      <th>2</th>\n",
       "      <td>NE</td>\n",
       "      <td>finance and insurance</td>\n",
       "      <td>6.0</td>\n",
       "      <td>2017</td>\n",
       "      <td>confidentiality</td>\n",
       "      <td>data loss</td>\n",
       "      <td>2.0</td>\n",
       "      <td>yes</td>\n",
       "      <td>physical</td>\n",
       "      <td>skimmer</td>\n",
       "      <td>victim public area</td>\n",
       "      <td>customer</td>\n",
       "      <td>terminal</td>\n",
       "      <td>atm</td>\n",
       "      <td>0.0</td>\n",
       "      <td>NaN</td>\n",
       "      <td>NaN</td>\n",
       "      <td>NaN</td>\n",
       "      <td>NaN</td>\n",
       "      <td>0</td>\n",
       "    </tr>\n",
       "    <tr>\n",
       "      <th>3</th>\n",
       "      <td>OH</td>\n",
       "      <td>government</td>\n",
       "      <td>3.0</td>\n",
       "      <td>2015</td>\n",
       "      <td>confidentiality</td>\n",
       "      <td>data loss</td>\n",
       "      <td>NaN</td>\n",
       "      <td>yes</td>\n",
       "      <td>error</td>\n",
       "      <td>omission</td>\n",
       "      <td>NaN</td>\n",
       "      <td>customer</td>\n",
       "      <td>media</td>\n",
       "      <td>disk media</td>\n",
       "      <td>0.0</td>\n",
       "      <td>NaN</td>\n",
       "      <td>NaN</td>\n",
       "      <td>NaN</td>\n",
       "      <td>NaN</td>\n",
       "      <td>0</td>\n",
       "    </tr>\n",
       "    <tr>\n",
       "      <th>4</th>\n",
       "      <td>NaN</td>\n",
       "      <td>retail trade</td>\n",
       "      <td>1.0</td>\n",
       "      <td>2017</td>\n",
       "      <td>integrity</td>\n",
       "      <td>hardware tampering</td>\n",
       "      <td>3.0</td>\n",
       "      <td>yes</td>\n",
       "      <td>physical</td>\n",
       "      <td>skimmer</td>\n",
       "      <td>victim public area</td>\n",
       "      <td>customer</td>\n",
       "      <td>terminal</td>\n",
       "      <td>gas terminal</td>\n",
       "      <td>0.0</td>\n",
       "      <td>2.0</td>\n",
       "      <td>NaN</td>\n",
       "      <td>NaN</td>\n",
       "      <td>2.0</td>\n",
       "      <td>0</td>\n",
       "    </tr>\n",
       "  </tbody>\n",
       "</table>\n",
       "</div>"
      ],
      "text/plain": [
       "  state               industry  n_employees incident_year        attribute          compromise  confidence data_disclosure    action   action_variety       action_vector discovery_variety asset_group  asset_variety  availability_duration  discovery  containment  exfiltration  time_compromise  actor\n",
       "0    GA              education          4.0          2017  confidentiality      alter behavior         3.0             yes    social         phishing               email   law enforcement     server            mail                    0.0        6.0          NaN           NaN              NaN      0\n",
       "1    PA             healthcare          NaN          2018  confidentiality           data loss         1.0             yes    misuse  knowledge abuse     physical access               NaN     server        database                    0.0        4.0          NaN           0.0              2.0      0\n",
       "2    NE  finance and insurance          6.0          2017  confidentiality           data loss         2.0             yes  physical          skimmer  victim public area          customer    terminal            atm                    0.0        NaN          NaN           NaN              NaN      0\n",
       "3    OH             government          3.0          2015  confidentiality           data loss         NaN             yes     error         omission                 NaN          customer       media     disk media                    0.0        NaN          NaN           NaN              NaN      0\n",
       "4   NaN           retail trade          1.0          2017        integrity  hardware tampering         3.0             yes  physical          skimmer  victim public area          customer    terminal   gas terminal                    0.0        2.0          NaN           NaN              2.0      0"
      ]
     },
     "execution_count": 48,
     "metadata": {
      "tags": []
     },
     "output_type": "execute_result"
    }
   ],
   "source": [
    "df.head()"
   ]
  },
  {
   "cell_type": "code",
   "execution_count": 48,
   "metadata": {
    "id": "bcvFejXekwrx"
   },
   "outputs": [],
   "source": []
  },
  {
   "cell_type": "code",
   "execution_count": 48,
   "metadata": {
    "id": "CBfEplCVkwr3"
   },
   "outputs": [],
   "source": []
  },
  {
   "cell_type": "code",
   "execution_count": 48,
   "metadata": {
    "id": "dTOpR5ANkwr6"
   },
   "outputs": [],
   "source": []
  },
  {
   "cell_type": "code",
   "execution_count": 48,
   "metadata": {
    "id": "8RzdvMBJkwr-"
   },
   "outputs": [],
   "source": []
  },
  {
   "cell_type": "code",
   "execution_count": 48,
   "metadata": {
    "id": "5CTRW7WzkwsG"
   },
   "outputs": [],
   "source": []
  },
  {
   "cell_type": "code",
   "execution_count": 48,
   "metadata": {
    "id": "FVgua1NVkwsK"
   },
   "outputs": [],
   "source": []
  },
  {
   "cell_type": "code",
   "execution_count": 48,
   "metadata": {
    "id": "Eri8gfXykwsP"
   },
   "outputs": [],
   "source": []
  },
  {
   "cell_type": "code",
   "execution_count": 48,
   "metadata": {
    "id": "XvC0hPk5kwsU"
   },
   "outputs": [],
   "source": []
  },
  {
   "cell_type": "code",
   "execution_count": 48,
   "metadata": {
    "id": "D637Arrokwsb"
   },
   "outputs": [],
   "source": []
  },
  {
   "cell_type": "code",
   "execution_count": 48,
   "metadata": {
    "id": "kyLVOJ7wkwsf"
   },
   "outputs": [],
   "source": [
    "\n"
   ]
  },
  {
   "cell_type": "code",
   "execution_count": 48,
   "metadata": {
    "id": "Olszsc2Gkwsy"
   },
   "outputs": [],
   "source": [
    " "
   ]
  },
  {
   "cell_type": "code",
   "execution_count": 48,
   "metadata": {
    "id": "V42-mUg0kws4"
   },
   "outputs": [],
   "source": []
  },
  {
   "cell_type": "code",
   "execution_count": 48,
   "metadata": {
    "id": "rpPalpyrkws7"
   },
   "outputs": [],
   "source": []
  },
  {
   "cell_type": "code",
   "execution_count": 48,
   "metadata": {
    "id": "PPh6hH7Fkws-"
   },
   "outputs": [],
   "source": []
  },
  {
   "cell_type": "code",
   "execution_count": 48,
   "metadata": {
    "id": "tV5U0ahPkwtG"
   },
   "outputs": [],
   "source": []
  },
  {
   "cell_type": "code",
   "execution_count": 48,
   "metadata": {
    "id": "G86UQ66okwtZ"
   },
   "outputs": [],
   "source": []
  },
  {
   "cell_type": "code",
   "execution_count": 48,
   "metadata": {
    "id": "wcB547ACkwtd"
   },
   "outputs": [],
   "source": []
  },
  {
   "cell_type": "code",
   "execution_count": 48,
   "metadata": {
    "id": "6G-G5-68kwtg"
   },
   "outputs": [],
   "source": []
  },
  {
   "cell_type": "code",
   "execution_count": 48,
   "metadata": {
    "id": "v9nHzsCBkwtj"
   },
   "outputs": [],
   "source": []
  },
  {
   "cell_type": "code",
   "execution_count": 48,
   "metadata": {
    "id": "updYyN6Mkwtn"
   },
   "outputs": [],
   "source": []
  },
  {
   "cell_type": "code",
   "execution_count": 48,
   "metadata": {
    "id": "5Zt9MJjukwtv"
   },
   "outputs": [],
   "source": []
  },
  {
   "cell_type": "code",
   "execution_count": 48,
   "metadata": {
    "id": "J9sjzq06kwtz"
   },
   "outputs": [],
   "source": []
  },
  {
   "cell_type": "code",
   "execution_count": 48,
   "metadata": {
    "id": "71LISHY2kwt1"
   },
   "outputs": [],
   "source": []
  },
  {
   "cell_type": "code",
   "execution_count": 48,
   "metadata": {
    "id": "v7XOxORpkwt6"
   },
   "outputs": [],
   "source": []
  },
  {
   "cell_type": "code",
   "execution_count": 48,
   "metadata": {
    "id": "qjNc1L84kwt8"
   },
   "outputs": [],
   "source": []
  },
  {
   "cell_type": "code",
   "execution_count": 48,
   "metadata": {
    "id": "7dLpQye6kwt-"
   },
   "outputs": [],
   "source": []
  },
  {
   "cell_type": "code",
   "execution_count": 48,
   "metadata": {
    "id": "QDeeudPjkwt_"
   },
   "outputs": [],
   "source": []
  },
  {
   "cell_type": "code",
   "execution_count": 48,
   "metadata": {
    "id": "xm5m9JETkwuO"
   },
   "outputs": [],
   "source": []
  },
  {
   "cell_type": "code",
   "execution_count": 48,
   "metadata": {
    "id": "4OejpniBkwuP"
   },
   "outputs": [],
   "source": []
  },
  {
   "cell_type": "code",
   "execution_count": 48,
   "metadata": {
    "id": "8jc22TXgkwuS"
   },
   "outputs": [],
   "source": []
  }
 ],
 "metadata": {
  "colab": {
   "name": "Veris-EDA-US-map_3.ipynb",
   "provenance": []
  },
  "kernelspec": {
   "display_name": "Python 3",
   "language": "python",
   "name": "python3"
  },
  "language_info": {
   "codemirror_mode": {
    "name": "ipython",
    "version": 3
   },
   "file_extension": ".py",
   "mimetype": "text/x-python",
   "name": "python",
   "nbconvert_exporter": "python",
   "pygments_lexer": "ipython3",
   "version": "3.8.3"
  }
 },
 "nbformat": 4,
 "nbformat_minor": 1
}
